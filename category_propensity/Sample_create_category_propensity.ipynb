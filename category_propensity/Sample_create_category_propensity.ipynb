{
 "cells": [
  {
   "cell_type": "markdown",
   "id": "living-adobe",
   "metadata": {},
   "source": [
    "**Purpose**: This script simulates the solution to create the output of **Category Propensity project** as cmd_id, category, item_id (e.g: class_id, designer_id,..), item_name (e.g class_name, designer,..), propensity_score, propensity_rank, next best_rank. \n",
    "\n",
    "**Create date on:** Fec 11   \n",
    "    Using in Category Propensity recs as Class_Propensity_als"
   ]
  },
  {
   "cell_type": "code",
   "execution_count": 1,
   "id": "freelance-israel",
   "metadata": {},
   "outputs": [
    {
     "name": "stdout",
     "output_type": "stream",
     "text": [
      "Starting Spark application\n"
     ]
    },
    {
     "data": {
      "text/html": [
       "<table>\n",
       "<tr><th>ID</th><th>YARN Application ID</th><th>Kind</th><th>State</th><th>Spark UI</th><th>Driver log</th><th>User</th><th>Current session?</th></tr><tr><td>998</td><td>application_1570493391423_65274</td><td>pyspark</td><td>idle</td><td><a target=\"_blank\" href=\"http://ip-172-21-40-211.analytics.neimanmarcuscloud.net:20888/proxy/application_1570493391423_65274/\">Link</a></td><td><a target=\"_blank\" href=\"http://ip-172-21-40-60.analytics.neimanmarcuscloud.net:8042/node/containerlogs/container_1570493391423_65274_01_000001/livy\">Link</a></td><td>None</td><td>✔</td></tr></table>"
      ],
      "text/plain": [
       "<IPython.core.display.HTML object>"
      ]
     },
     "metadata": {},
     "output_type": "display_data"
    },
    {
     "data": {
      "application/vnd.jupyter.widget-view+json": {
       "model_id": "",
       "version_major": 2,
       "version_minor": 0
      },
      "text/plain": [
       "FloatProgress(value=0.0, bar_style='info', description='Progress:', layout=Layout(height='25px', width='50%'),…"
      ]
     },
     "metadata": {},
     "output_type": "display_data"
    },
    {
     "name": "stdout",
     "output_type": "stream",
     "text": [
      "SparkSession available as 'spark'.\n"
     ]
    },
    {
     "data": {
      "application/vnd.jupyter.widget-view+json": {
       "model_id": "",
       "version_major": 2,
       "version_minor": 0
      },
      "text/plain": [
       "FloatProgress(value=0.0, bar_style='info', description='Progress:', layout=Layout(height='25px', width='50%'),…"
      ]
     },
     "metadata": {},
     "output_type": "display_data"
    }
   ],
   "source": [
    "from pyspark.sql.types import StructType, StructField, IntegerType,FloatType, StringType\n",
    "from pyspark.sql import SparkSession\n",
    "from pyspark.sql import functions as F"
   ]
  },
  {
   "cell_type": "code",
   "execution_count": 2,
   "id": "incident-anime",
   "metadata": {},
   "outputs": [
    {
     "data": {
      "application/vnd.jupyter.widget-view+json": {
       "model_id": "",
       "version_major": 2,
       "version_minor": 0
      },
      "text/plain": [
       "FloatProgress(value=0.0, bar_style='info', description='Progress:', layout=Layout(height='25px', width='50%'),…"
      ]
     },
     "metadata": {},
     "output_type": "display_data"
    },
    {
     "name": "stdout",
     "output_type": "stream",
     "text": [
      "+------+--------+----------------+---------------+\n",
      "|cmd_id|category|propensity_score|propensity_rank|\n",
      "+------+--------+----------------+---------------+\n",
      "|   001|     AAA|            27.4|              1|\n",
      "|   001|     AAB|            24.4|              2|\n",
      "|   001|     ABA|            18.6|              3|\n",
      "|   001|     ACB|            15.8|              4|\n",
      "|   002|     DDB|            14.1|              1|\n",
      "|   002|     ABA|            12.5|              2|\n",
      "+------+--------+----------------+---------------+"
     ]
    }
   ],
   "source": [
    "schema1 = StructType([StructField(\"cmd_id\", StringType(), True),\n",
    "                     StructField(\"category\", StringType(), True),\n",
    "                    StructField(\"propensity_score\", FloatType(), True),\n",
    "                    StructField(\"propensity_rank\", IntegerType(), True)])\n",
    "\n",
    "spark = SparkSession.builder.getOrCreate()\n",
    "\n",
    "tmp1 = spark.createDataFrame([(\"001\",\"AAA\",27.4,1),(\"001\",\"AAB\",24.4,2),(\"001\",\"ABA\",18.6,3),\n",
    "                             (\"001\",\"ACB\",15.8,4),(\"002\",\"DDB\",14.1,1),(\"002\",\"ABA\",12.5,2)],schema1)\n",
    "tmp1.show()"
   ]
  },
  {
   "cell_type": "code",
   "execution_count": 3,
   "id": "underlying-subcommittee",
   "metadata": {},
   "outputs": [
    {
     "data": {
      "application/vnd.jupyter.widget-view+json": {
       "model_id": "",
       "version_major": 2,
       "version_minor": 0
      },
      "text/plain": [
       "FloatProgress(value=0.0, bar_style='info', description='Progress:', layout=Layout(height='25px', width='50%'),…"
      ]
     },
     "metadata": {},
     "output_type": "display_data"
    },
    {
     "name": "stdout",
     "output_type": "stream",
     "text": [
      "+------+--------+----------------+---------------+-----------+\n",
      "|cmd_id|category|propensity_score|propensity_rank|id_category|\n",
      "+------+--------+----------------+---------------+-----------+\n",
      "|   001|     AAA|            27.4|              1|     001AAA|\n",
      "|   001|     AAB|            24.4|              2|     001AAB|\n",
      "|   001|     ABA|            18.6|              3|     001ABA|\n",
      "|   001|     ACB|            15.8|              4|     001ACB|\n",
      "|   002|     DDB|            14.1|              1|     002DDB|\n",
      "|   002|     ABA|            12.5|              2|     002ABA|\n",
      "+------+--------+----------------+---------------+-----------+"
     ]
    }
   ],
   "source": [
    "tmp1= tmp1.withColumn(\"id_category\",F.concat(F.col('cmd_id'), F.col('category')))\n",
    "tmp1.show()"
   ]
  },
  {
   "cell_type": "code",
   "execution_count": 4,
   "id": "instant-capture",
   "metadata": {},
   "outputs": [
    {
     "data": {
      "application/vnd.jupyter.widget-view+json": {
       "model_id": "",
       "version_major": 2,
       "version_minor": 0
      },
      "text/plain": [
       "FloatProgress(value=0.0, bar_style='info', description='Progress:', layout=Layout(height='25px', width='50%'),…"
      ]
     },
     "metadata": {},
     "output_type": "display_data"
    },
    {
     "name": "stdout",
     "output_type": "stream",
     "text": [
      "+------+--------+\n",
      "|cmd_id|category|\n",
      "+------+--------+\n",
      "|   001|     ACA|\n",
      "|   001|     AAB|\n",
      "|   001|     ABA|\n",
      "|   001|     EEE|\n",
      "|   002|     DDB|\n",
      "|   003|     RRE|\n",
      "+------+--------+"
     ]
    }
   ],
   "source": [
    "schema2 = StructType([StructField(\"cmd_id\", StringType(), True),\n",
    "                     StructField(\"category\", StringType(), True)])\n",
    "\n",
    "spark = SparkSession.builder.getOrCreate()\n",
    "\n",
    "tmp2 = spark.createDataFrame([(\"001\",\"ACA\"),(\"001\",\"AAB\"),(\"001\",\"ABA\"),\n",
    "                             (\"001\",\"EEE\"),(\"002\",\"DDB\"),(\"003\",\"RRE\")],schema2)\n",
    "tmp2.show()"
   ]
  },
  {
   "cell_type": "code",
   "execution_count": 5,
   "id": "functioning-damage",
   "metadata": {},
   "outputs": [
    {
     "data": {
      "application/vnd.jupyter.widget-view+json": {
       "model_id": "",
       "version_major": 2,
       "version_minor": 0
      },
      "text/plain": [
       "FloatProgress(value=0.0, bar_style='info', description='Progress:', layout=Layout(height='25px', width='50%'),…"
      ]
     },
     "metadata": {},
     "output_type": "display_data"
    },
    {
     "name": "stdout",
     "output_type": "stream",
     "text": [
      "+------+--------+-----------+\n",
      "|cmd_id|category|id_category|\n",
      "+------+--------+-----------+\n",
      "|   001|     ACA|     001ACA|\n",
      "|   001|     AAB|     001AAB|\n",
      "|   001|     ABA|     001ABA|\n",
      "|   001|     EEE|     001EEE|\n",
      "|   002|     DDB|     002DDB|\n",
      "|   003|     RRE|     003RRE|\n",
      "+------+--------+-----------+"
     ]
    }
   ],
   "source": [
    "tmp2= tmp2.withColumn(\"id_category\",F.concat(F.col('cmd_id'), F.col('category')))\n",
    "tmp2.show()"
   ]
  },
  {
   "cell_type": "code",
   "execution_count": 8,
   "id": "metropolitan-brush",
   "metadata": {},
   "outputs": [
    {
     "data": {
      "application/vnd.jupyter.widget-view+json": {
       "model_id": "",
       "version_major": 2,
       "version_minor": 0
      },
      "text/plain": [
       "FloatProgress(value=0.0, bar_style='info', description='Progress:', layout=Layout(height='25px', width='50%'),…"
      ]
     },
     "metadata": {},
     "output_type": "display_data"
    },
    {
     "name": "stdout",
     "output_type": "stream",
     "text": [
      "+------+--------+----------------+---------------+-----------+\n",
      "|cmd_id|category|propensity_score|propensity_rank|id_category|\n",
      "+------+--------+----------------+---------------+-----------+\n",
      "|   001|     AAA|            27.4|              1|     001AAA|\n",
      "|   001|     ACB|            15.8|              4|     001ACB|\n",
      "|   002|     ABA|            12.5|              2|     002ABA|\n",
      "+------+--------+----------------+---------------+-----------+"
     ]
    }
   ],
   "source": [
    "tmp3 = tmp1.join(tmp2 ,tmp1.id_category == tmp2.id_category, \"leftanti\")\n",
    "tmp3.show()"
   ]
  },
  {
   "cell_type": "code",
   "execution_count": 9,
   "id": "burning-parish",
   "metadata": {},
   "outputs": [
    {
     "data": {
      "application/vnd.jupyter.widget-view+json": {
       "model_id": "",
       "version_major": 2,
       "version_minor": 0
      },
      "text/plain": [
       "FloatProgress(value=0.0, bar_style='info', description='Progress:', layout=Layout(height='25px', width='50%'),…"
      ]
     },
     "metadata": {},
     "output_type": "display_data"
    },
    {
     "name": "stdout",
     "output_type": "stream",
     "text": [
      "+------+--------+----------------+\n",
      "|cmd_id|category|propensity_score|\n",
      "+------+--------+----------------+\n",
      "|   001|     AAA|            27.4|\n",
      "|   001|     ACB|            15.8|\n",
      "|   002|     ABA|            12.5|\n",
      "+------+--------+----------------+"
     ]
    }
   ],
   "source": [
    "tmp3= tmp3.selectExpr('cmd_id','category','propensity_score')\n",
    "tmp3.show()"
   ]
  },
  {
   "cell_type": "code",
   "execution_count": 10,
   "id": "included-captain",
   "metadata": {},
   "outputs": [
    {
     "data": {
      "application/vnd.jupyter.widget-view+json": {
       "model_id": "",
       "version_major": 2,
       "version_minor": 0
      },
      "text/plain": [
       "FloatProgress(value=0.0, bar_style='info', description='Progress:', layout=Layout(height='25px', width='50%'),…"
      ]
     },
     "metadata": {},
     "output_type": "display_data"
    },
    {
     "name": "stdout",
     "output_type": "stream",
     "text": [
      "+------+--------+----------------+\n",
      "|cmd_id|category|propensity_score|\n",
      "+------+--------+----------------+\n",
      "|   001|     AAA|            27.4|\n",
      "|   001|     ACB|            15.8|\n",
      "|   002|     ABA|            12.5|\n",
      "+------+--------+----------------+"
     ]
    }
   ],
   "source": [
    "# Re_order after merge\n",
    "tmp3 = tmp3.orderBy(F.col(\"cmd_id\"),F.col(\"propensity_score\").desc())\n",
    "tmp3 = tmp3.selectExpr(\"cmd_id\", \"category\",\"propensity_score\")\n",
    "tmp3.show()"
   ]
  },
  {
   "cell_type": "code",
   "execution_count": 11,
   "id": "governing-drunk",
   "metadata": {},
   "outputs": [
    {
     "data": {
      "application/vnd.jupyter.widget-view+json": {
       "model_id": "",
       "version_major": 2,
       "version_minor": 0
      },
      "text/plain": [
       "FloatProgress(value=0.0, bar_style='info', description='Progress:', layout=Layout(height='25px', width='50%'),…"
      ]
     },
     "metadata": {},
     "output_type": "display_data"
    },
    {
     "name": "stdout",
     "output_type": "stream",
     "text": [
      "+------+--------+----------------+--------------+\n",
      "|cmd_id|category|propensity_score|next_best_rank|\n",
      "+------+--------+----------------+--------------+\n",
      "|   001|     AAA|            27.4|             1|\n",
      "|   001|     ACB|            15.8|             2|\n",
      "|   002|     ABA|            12.5|             1|\n",
      "+------+--------+----------------+--------------+"
     ]
    }
   ],
   "source": [
    "from pyspark.sql.window import Window\n",
    "\n",
    "window = Window.partitionBy(tmp3['cmd_id']).orderBy(tmp3['propensity_score'].desc())\n",
    "tmp3 =tmp3.select('*', F.rank().over(window).alias('next_best_rank')).filter(F.col('next_best_rank') <= 5) \n",
    "\n",
    "tmp3.show()"
   ]
  },
  {
   "cell_type": "code",
   "execution_count": 12,
   "id": "peaceful-secret",
   "metadata": {},
   "outputs": [
    {
     "data": {
      "application/vnd.jupyter.widget-view+json": {
       "model_id": "",
       "version_major": 2,
       "version_minor": 0
      },
      "text/plain": [
       "FloatProgress(value=0.0, bar_style='info', description='Progress:', layout=Layout(height='25px', width='50%'),…"
      ]
     },
     "metadata": {},
     "output_type": "display_data"
    },
    {
     "name": "stdout",
     "output_type": "stream",
     "text": [
      "+------+--------+----------------+---------------+--------------+\n",
      "|cmd_id|category|propensity_score|propensity_rank|next_best_rank|\n",
      "+------+--------+----------------+---------------+--------------+\n",
      "|   001|     AAA|            27.4|              1|             1|\n",
      "|   001|     AAB|            24.4|              2|          null|\n",
      "|   001|     ABA|            18.6|              3|          null|\n",
      "|   001|     ACB|            15.8|              4|             2|\n",
      "|   002|     DDB|            14.1|              1|          null|\n",
      "|   002|     ABA|            12.5|              2|             1|\n",
      "+------+--------+----------------+---------------+--------------+"
     ]
    }
   ],
   "source": [
    "tmp1 = tmp1.selectExpr('cmd_id','category','propensity_score','propensity_rank')\n",
    "tmp1 =tmp1.join(tmp3.selectExpr('cmd_id','category','next_best_rank'),['cmd_id','category'],how='left')\n",
    "tmp1 = tmp1.orderBy(F.col(\"cmd_id\"),F.col(\"propensity_rank\"))\n",
    "tmp1.show()"
   ]
  },
  {
   "cell_type": "code",
   "execution_count": null,
   "id": "funny-radar",
   "metadata": {},
   "outputs": [],
   "source": []
  }
 ],
 "metadata": {
  "kernelspec": {
   "display_name": "Sparkmagic (PySpark)",
   "language": "python",
   "name": "pysparkkernel"
  },
  "language_info": {
   "codemirror_mode": {
    "name": "python",
    "version": 3
   },
   "file_extension": ".py",
   "mimetype": "text/x-python",
   "name": "pyspark",
   "pygments_lexer": "python3"
  }
 },
 "nbformat": 4,
 "nbformat_minor": 5
}
