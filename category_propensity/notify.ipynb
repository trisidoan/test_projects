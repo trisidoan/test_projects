{
 "cells": [
  {
   "cell_type": "code",
   "execution_count": 1,
   "metadata": {},
   "outputs": [],
   "source": [
    "import boto3\n",
    "from botocore.exceptions import ClientError"
   ]
  },
  {
   "cell_type": "code",
   "execution_count": null,
   "metadata": {},
   "outputs": [],
   "source": [
    "# Create an SNS client\n",
    "sns = boto3.client('sns', region_name='us-west-2')"
   ]
  },
  {
   "cell_type": "code",
   "execution_count": 2,
   "metadata": {},
   "outputs": [
    {
     "name": "stdout",
     "output_type": "stream",
     "text": [
      "{'MessageId': '3d1eb943-c2e4-5c6d-8c77-ecc76c2ab757', 'ResponseMetadata': {'RequestId': '950694c1-472e-59a5-97c1-c145e9e0b29f', 'HTTPStatusCode': 200, 'HTTPHeaders': {'x-amzn-requestid': '950694c1-472e-59a5-97c1-c145e9e0b29f', 'content-type': 'text/xml', 'content-length': '294', 'date': 'Wed, 19 Jun 2019 21:43:42 GMT'}, 'RetryAttempts': 0}}\n"
     ]
    }
   ],
   "source": [
    "# Publish a simple message to the specified SNS topic\n",
    "response = sns.publish(\n",
    "    TopicArn='arn:aws:sns:us-west-2:786228325737:ProductionScheduleJobNotification',    \n",
    "    Message='Scheduled job Category Propensity has been completed successfully for Division!',    \n",
    ")\n",
    "\n",
    "# Print out the response\n",
    "print(response)\n",
    "  \n"
   ]
  },
  {
   "cell_type": "code",
   "execution_count": null,
   "metadata": {},
   "outputs": [],
   "source": []
  }
 ],
 "metadata": {
  "kernelspec": {
   "display_name": "conda_python3",
   "language": "python",
   "name": "conda_python3"
  },
  "language_info": {
   "codemirror_mode": {
    "name": "ipython",
    "version": 3
   },
   "file_extension": ".py",
   "mimetype": "text/x-python",
   "name": "python",
   "nbconvert_exporter": "python",
   "pygments_lexer": "ipython3",
   "version": "3.6.10"
  }
 },
 "nbformat": 4,
 "nbformat_minor": 2
}
