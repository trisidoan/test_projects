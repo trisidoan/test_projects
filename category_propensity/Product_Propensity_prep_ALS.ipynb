{
 "cells": [
  {
   "cell_type": "markdown",
   "metadata": {},
   "source": [
    "### The script \n",
    "- will prepare brand data which is used to recommend up to 5 recommended next category.\n",
    "- browse data = 49 and trans for recent 3 years.\n",
    "Note: for transaction data, we can avoid itm_item_status is void or cancel as select * \n",
    "From nmedwprd_db.pdwdm.all_sas_sales_and_open_orders_v\n",
    "where itm_item_status not in ('V','CX')\n",
    "\n",
    "it can be done as itm_item_status ='S'\n",
    "   \n",
    "**Last update**: Feb 28, 2021"
   ]
  },
  {
   "cell_type": "code",
   "execution_count": 1,
   "metadata": {},
   "outputs": [
    {
     "data": {
      "text/html": [
       "<style>.container { width:100% !important; }</style>"
      ],
      "text/plain": [
       "<IPython.core.display.HTML object>"
      ]
     },
     "metadata": {},
     "output_type": "display_data"
    },
    {
     "data": {
      "text/html": [
       "<style>.container { height:100% !important; }</style>"
      ],
      "text/plain": [
       "<IPython.core.display.HTML object>"
      ]
     },
     "metadata": {},
     "output_type": "display_data"
    }
   ],
   "source": [
    "import gc\n",
    "import sys\n",
    "import numpy as np\n",
    "import pandas as pd\n",
    "import boto3\n",
    "import gc\n",
    "from io import StringIO\n",
    "client = boto3.client('s3') \n",
    "resource = boto3.resource('s3')\n",
    "from datetime import date,datetime, timedelta\n",
    "sys.path.append('../')\n",
    "from Functions import common_header as h, tools as t, data_functions as d, ml_functions as m"
   ]
  },
  {
   "cell_type": "markdown",
   "metadata": {},
   "source": [
    "#Code Parameters\n",
    "brand = 'nm'\n",
    "env = 'prod'\n",
    "wbrand='NM'"
   ]
  },
  {
   "cell_type": "code",
   "execution_count": 2,
   "metadata": {},
   "outputs": [
    {
     "data": {
      "text/plain": [
       "([datetime.date(2021, 1, 9), datetime.date(2021, 2, 27), 'nm'],\n",
       " (datetime.date(2021, 1, 28), datetime.date(2021, 2, 27), 'nm'))"
      ]
     },
     "execution_count": 2,
     "metadata": {},
     "output_type": "execute_result"
    }
   ],
   "source": [
    "# Date parameters\n",
    "window = 49\n",
    "duration = 30            # duration to retrieve categories that customers purcchased on\n",
    "today = date.today()\n",
    "idx = (today.weekday() + 1) % 7\n",
    "last_sat = today - timedelta(7+idx-6)\n",
    "\n",
    "run_1yr  = today - timedelta(days= 365)\n",
    "run_3yr  = last_sat - timedelta(days=365*3)\n",
    "recent_duration = (last_sat - h.timedelta(days= duration), last_sat, 'nm')\n",
    "days_browse     = [last_sat - h.timedelta(days=window), last_sat, 'nm']\n",
    "days_browse, recent_duration"
   ]
  },
  {
   "cell_type": "markdown",
   "metadata": {},
   "source": [
    "## Retrieve browse data of 49 days"
   ]
  },
  {
   "cell_type": "raw",
   "metadata": {},
   "source": [
    "sql = \"\"\"\n",
    "    drop table if exists nmedwprd_db.mktsand.click_stream_data_seq_xor_su;\n",
    "    create table nmedwprd_db.mktsand.click_stream_data_seq_xor_su as\n",
    "    \n",
    "    select distinct x.date_time, x.curr_cmd_id, x.web_item_id, x.action_type, x.product_desc_text, x.regular_price, \n",
    "    p.DIVISION_NAME, p.GROUP_NAME, p.CLASS_NAME, p.SUBCLASS_NAME, p.DEPARTMENT_NAME, p.designer, p.GROUP_ID from \n",
    "    (select distinct a.*, b.web_item_id, b.nmg_pim_id, b.product_desc_text, b.regular_price from \n",
    "    (select distinct c.*, e.curr_cmd_id from \n",
    "    (select date_time, email,our_id,\n",
    "    CASE\n",
    "       WHEN pagename like '%Cart%' THEN 'Cart_Add'\n",
    "       WHEN pagename = 'product detail' THEN 'Product_Page'\n",
    "       WHEN (post_purchaseid IS NOT NULL OR post_purchaseid > 0) THEN 'Purchase'\n",
    "       ELSE 'Other'\n",
    "     END AS action_type,\n",
    "       cast(split(s.value,';')[1] as string) as cmos_item_depict, \n",
    "       cast(split(s.value,';')[2] as string) as qty,\n",
    "       cast(split(s.value,';')[3] as string) as total_price\n",
    "    from (select date_time, post_evar49 as email, (CONCAT(visid_high, visid_low)) as our_id,\n",
    "           post_purchaseid, product_list, pagename\n",
    "            from nmedwprd_db.pdwdm.om_consolidated_subset_v\n",
    "                        where ( (post_evar49 is not null)\n",
    "                        and (event_date between '{0}'and '{1}')\n",
    "                        and (brand = '{2}') \n",
    "                        and (exclude_hit = 0) \n",
    "                        and (duplicate_purchase = 0)\n",
    "                        and (product_list IS NOT NULL)\n",
    "                        )) tst\n",
    "                        , \n",
    "                         LATERAL FLATTEN (INPUT => SPLIT(tst.product_list,',')) s\n",
    "                         where cmos_item_depict like 'NM%' and action_type <> 'Purchase') c\n",
    "    left join \n",
    "    (select distinct (CONCAT(visid_high, visid_low)) as our_id, curr_cmd_id \n",
    "     from NMEDWPRD_DB.DASAND.COOKIE2CUST where curr_cmd_id is not null) e \n",
    "     on c.our_id = e.our_id ) a\n",
    "     left join \n",
    "     (select distinct web_item_id, nmg_pim_id, product_desc_text, regular_price,\n",
    "      concat(concat(CMOS_CATALOG_CODE, '_'), CMOS_ITEM_CODE) as CMOS_ITEM_DEPICT\n",
    "     from nmedwprd_db.pdwdm.catalog_item_dim) b\n",
    "     on a.cmos_item_depict = b.cmos_item_depict) x \n",
    "      left join \n",
    "     (select distinct pim_id, DIVISION_NAME, GROUP_NAME, CLASS_NAME, SUBCLASS_NAME, DEPARTMENT_NAME, \n",
    "      BRAND_NAME as designer, GROUP_ID from  nmedwprd_db.pdwdm.product_dim\n",
    "     where pim_id  <> 'UNKNOWN' AND\n",
    "           BRAND_NAME <> 'UNKNOWN BRAND') p \n",
    "     on p.pim_id = x.nmg_pim_id\n",
    "     \n",
    "    ;\n",
    "\n",
    "\n",
    "\"\"\".format(*days_browse)\n",
    "_ = t.SF_read_sql_with_duplicate(sql)"
   ]
  },
  {
   "cell_type": "raw",
   "metadata": {},
   "source": [
    "## Retrieve browse data\n",
    "sql = \"\"\"\n",
    "    drop table if exists nmedwprd_db.mktsand.click_stream_data;\n",
    "    create table nmedwprd_db.mktsand.click_stream_data as\n",
    "    \n",
    "    select distinct x.date_time, x.curr_cmd_id, x.web_item_id, x.action_type, x.product_desc_text,\n",
    "    x.regular_price,p.Brand_id as Designer_id, p.Brand_name as Designer, p.DiVISION_ID, p.DIVISION_NAME, p.GROUP_NAME, p.class_Id, p.CLASS_NAME,\n",
    "    p.SUBCLASS_NAME, p.DEPARTMENT_NAME,  p.GROUP_ID from \n",
    "    (select distinct a.*, b.web_item_id, b.nmg_pim_id, b.product_desc_text, b.regular_price from \n",
    "    (select distinct c.*, e.curr_cmd_id from \n",
    "    (select date_time, email,our_id,\n",
    "    CASE\n",
    "       WHEN pagename like '%Cart%' THEN 'Cart_Add'\n",
    "       WHEN pagename = 'product detail' THEN 'Product_Page'\n",
    "       WHEN (post_purchaseid IS NOT NULL OR post_purchaseid > 0) THEN 'Purchase'\n",
    "       ELSE 'Other'\n",
    "     END AS action_type,\n",
    "       cast(split(s.value,';')[1] as string) as cmos_item_depict, \n",
    "       cast(split(s.value,';')[2] as string) as qty,\n",
    "       cast(split(s.value,';')[3] as string) as total_price\n",
    "    from (select date_time, post_evar49 as email, (CONCAT(visid_high, visid_low)) as our_id,\n",
    "           post_purchaseid, product_list, pagename\n",
    "            from nmedwprd_db.pdwdm.om_consolidated_subset_v\n",
    "                        where ( (post_evar49 is not null)\n",
    "                        and (event_date between '{0}'and '{1}')\n",
    "                        and (brand = '{2}') \n",
    "                        and (exclude_hit = 0) \n",
    "                        and (duplicate_purchase = 0)\n",
    "                        and (product_list IS NOT NULL)\n",
    "                        )) tst\n",
    "                        , \n",
    "                         LATERAL FLATTEN (INPUT => SPLIT(tst.product_list,',')) s\n",
    "                         where cmos_item_depict like 'NM%' and action_type <> 'Purchase') c\n",
    "    left join \n",
    "    (select distinct (CONCAT(visid_high, visid_low)) as our_id, curr_cmd_id \n",
    "     from NMEDWPRD_DB.DASAND.COOKIE2CUST where curr_cmd_id is not null) e \n",
    "     on c.our_id = e.our_id ) a\n",
    "     left join \n",
    "     (select distinct web_item_id, nmg_pim_id, product_desc_text, regular_price,\n",
    "      concat(concat(CMOS_CATALOG_CODE, '_'), CMOS_ITEM_CODE) as CMOS_ITEM_DEPICT\n",
    "     from nmedwprd_db.pdwdm.catalog_item_dim) b\n",
    "     on a.cmos_item_depict = b.cmos_item_depict) x \n",
    "      left join \n",
    "     (select distinct pim_id, BRAND_ID, BRAND_NAME, DIVISION_ID,DIVISION_NAME, GROUP_NAME,CLASS_ID, CLASS_NAME, SUBCLASS_NAME, DEPARTMENT_NAME, \n",
    "      BRAND_NAME as designer, GROUP_ID from  nmedwprd_db.pdwdm.product_dim\n",
    "     where pim_id  <> 'UNKNOWN' AND\n",
    "           BRAND_NAME <> 'UNKNOWN BRAND') p \n",
    "     on p.pim_id = x.nmg_pim_id\n",
    "     \n",
    "    ;\n",
    "\"\"\".format(*days_browse)\n",
    "_ = t.SF_read_sql_with_duplicate(sql)"
   ]
  },
  {
   "cell_type": "markdown",
   "metadata": {},
   "source": [
    "## Retrieved transaction data"
   ]
  },
  {
   "cell_type": "code",
   "execution_count": 3,
   "metadata": {},
   "outputs": [],
   "source": [
    "# Transaction data created by Designer_division_class_historical_ranking script for customers who are active from \n",
    "# the last recent 3 years\n",
    "\n",
    "def read_df_from_s3_parquet( save_dir_nameX, bucket_nameX):\n",
    "    import pyarrow.parquet as pq\n",
    "    import s3fs\n",
    "    s3 = s3fs.S3FileSystem()\n",
    "    \n",
    "    df = pq.ParquetDataset(\"s3a://\"+bucket_nameX+'/'+save_dir_nameX, filesystem=s3).read_pandas().to_pandas()\n",
    "    return df\n"
   ]
  },
  {
   "cell_type": "markdown",
   "metadata": {},
   "source": [
    "## Query trans data"
   ]
  },
  {
   "cell_type": "code",
   "execution_count": 4,
   "metadata": {},
   "outputs": [],
   "source": [
    "## Using this function to filter out data depending oon category\n",
    "def retrieve_trans(trans_df, categories):\n",
    "    \"\"\"  last 3 yearstransaction with transfomation implemented in Designer_division_class_historical_ranking \n",
    "    script\n",
    "    \"\"\"\n",
    "    cols = ['cmd_id']+ categories\n",
    "    return trans_df[cols]"
   ]
  },
  {
   "cell_type": "code",
   "execution_count": 5,
   "metadata": {},
   "outputs": [],
   "source": [
    "def query_browse(category):\n",
    "    \"\"\" Retrieve all browse data who perform any product search for the last 49 days\n",
    "    \"\"\"\n",
    "    sql=\"\"\"select curr_cmd_id cmd_id ,{0} from nmedwprd_db.mktsand.click_stream_data;\"\"\".format(category)\n",
    "    df = t.SF_read_sql_with_duplicate(sql)\n",
    "    df = df[df.cmd_id != '-1']\n",
    "    return df"
   ]
  },
  {
   "cell_type": "raw",
   "metadata": {},
   "source": [
    "def query_trans(category):\n",
    "    \"\"\" Retrieve all customers who did transaction for the last 3 years without transformation.\n",
    "    \"\"\"\n",
    "    query = \"\"\"select curr_customer_id cmd_id,{0} from nmedwprd_db.mktsand.sales_xor_su \"\"\".format(category)\n",
    "    df = t.SF_read_sql_with_duplicate(query)\n",
    "    df = df[df.cmd_id != '-1']\n",
    "    return df"
   ]
  },
  {
   "cell_type": "code",
   "execution_count": 6,
   "metadata": {},
   "outputs": [],
   "source": [
    "def concat_columns(df, cols_to_concat, new_col_name, sep=\" \"):\n",
    "    \"\"\" concatenate multiple columns\n",
    "    \"\"\"\n",
    "    tmp = df.copy(deep= True)\n",
    "    col_list = tmp.columns.values\n",
    "    tmp[new_col_name] = tmp[cols_to_concat[0]]\n",
    "    for col in cols_to_concat[1:]:\n",
    "        tmp[new_col_name] = tmp[new_col_name].astype(str) + sep + tmp[col].astype(str)\n",
    "    cols = tmp.columns.values\n",
    "    return tmp[[cols[0],cols[-1]] +list(cols[1:-1])]"
   ]
  },
  {
   "cell_type": "code",
   "execution_count": 7,
   "metadata": {},
   "outputs": [],
   "source": [
    "def agg_category(browse_df, trans_df, category):\n",
    "    \"\"\" Aggregate CLV features per customer including Monetary value, Frequency and Recency \n",
    "    \"\"\"\n",
    "    group = list(browse_df.columns)\n",
    "    browse_df = browse_df.groupby(group).size().reset_index(name= 'Times_Browse')\n",
    "    group = list(trans_df.columns)\n",
    "    trans_df  = trans_df.groupby(group).size().reset_index(name='Total_transactions')\n",
    "    # Merge profiles\n",
    "    cust= pd.merge(browse_df, trans_df,  how='outer', on= group)\n",
    "    del browse_df, trans_df\n",
    "    \n",
    "    cust.fillna(value=0, axis=1, inplace = True)\n",
    "   \n",
    "    #Multiplying Times_Browsed and Total_Transactions by weights to build customer category taste profile\n",
    "    cust['Transactions_W'] = cust['Total_transactions'].apply(lambda x: x*0.8)\n",
    "    cust['Browsed_W'] = cust['Times_Browse'].apply(lambda x: x*0.2)\n",
    "\n",
    "    #Summing the two weighted columns to obtained implicit rank unscaled \n",
    "    cust['rank_implicit'] = cust['Transactions_W'] + cust['Browsed_W']\n",
    "    cust = cust.dropna(subset=['rank_implicit']) #Dropping NAN values\n",
    "    cust['rank_implicit'] = pd.to_numeric(cust['rank_implicit'], errors='coerce')\n",
    "    \n",
    "    #Bucketizing column 'rank_implicit' based on quantiles so that it ranges from 1-5\n",
    "    cust['score'] = np.where(cust['rank_implicit'] < cust['rank_implicit'].quantile(0.25),1,\n",
    "\tnp.where((cust['rank_implicit'] >= cust['rank_implicit'].quantile(0.25)) & (cust['rank_implicit'] < cust['rank_implicit'].quantile(0.5)),2,\n",
    "\tnp.where((cust['rank_implicit'] >= cust['rank_implicit'].quantile(0.5)) & (cust['rank_implicit'] < cust['rank_implicit'].quantile(0.75)),3,\n",
    "\tnp.where((cust['rank_implicit'] >= cust['rank_implicit'].quantile(0.75)) & (cust['rank_implicit'] < cust['rank_implicit'].quantile(0.85)),4,5))))\n",
    "    cust.drop(['Times_Browse','Total_transactions','Transactions_W','Browsed_W','rank_implicit'], axis=1, inplace= True)\n",
    "    #cust.columns = ['cmd_id']+[category]+['score']\n",
    "    return cust"
   ]
  },
  {
   "cell_type": "code",
   "execution_count": 8,
   "metadata": {},
   "outputs": [],
   "source": [
    "def save_df_to_s3_gz(df_to_save,  dir_nameX, file_nameX, bucket_nameX='nmg-analytics-ds-prod'):\n",
    "    \"\"\"\n",
    "       dir_nameX  = 'ds/prod/brand_affinity/nm/output/'\n",
    "       file_nameX = 'designer_division_class_rank.csv'\n",
    "       save_df_to_s3_gz(df , dir_nameX, file_nameX )\n",
    "    \"\"\"\n",
    "    import gzip\n",
    "    from io import BytesIO, TextIOWrapper\n",
    "    \n",
    "    gz_buffer = BytesIO()\n",
    "\n",
    "    with gzip.GzipFile(mode='w', fileobj=gz_buffer) as gz_file:\n",
    "        df_to_save.to_csv(TextIOWrapper(gz_file, 'utf8'), index=False,header=True,sep=',')\n",
    "   \n",
    "    \n",
    "    s3_object = resource.Object(bucket_nameX, dir_nameX +file_nameX +'.gz')\n",
    "    s3_object.put(Body=gz_buffer.getvalue())    \n",
    " \n",
    "    return True"
   ]
  },
  {
   "cell_type": "markdown",
   "metadata": {},
   "source": [
    "## 1. Division"
   ]
  },
  {
   "cell_type": "code",
   "execution_count": 9,
   "metadata": {},
   "outputs": [
    {
     "data": {
      "text/html": [
       "<div>\n",
       "<style scoped>\n",
       "    .dataframe tbody tr th:only-of-type {\n",
       "        vertical-align: middle;\n",
       "    }\n",
       "\n",
       "    .dataframe tbody tr th {\n",
       "        vertical-align: top;\n",
       "    }\n",
       "\n",
       "    .dataframe thead th {\n",
       "        text-align: right;\n",
       "    }\n",
       "</style>\n",
       "<table border=\"1\" class=\"dataframe\">\n",
       "  <thead>\n",
       "    <tr style=\"text-align: right;\">\n",
       "      <th></th>\n",
       "      <th>cmd_id</th>\n",
       "      <th>category</th>\n",
       "      <th>division_id</th>\n",
       "      <th>division</th>\n",
       "    </tr>\n",
       "  </thead>\n",
       "  <tbody>\n",
       "    <tr>\n",
       "      <th>0</th>\n",
       "      <td>wcoVuNC</td>\n",
       "      <td>Contemporary Apparel</td>\n",
       "      <td>14</td>\n",
       "      <td>Contemporary Apparel</td>\n",
       "    </tr>\n",
       "    <tr>\n",
       "      <th>1</th>\n",
       "      <td>QYQApX5</td>\n",
       "      <td>Women's Apparel</td>\n",
       "      <td>11</td>\n",
       "      <td>Women's Apparel</td>\n",
       "    </tr>\n",
       "    <tr>\n",
       "      <th>2</th>\n",
       "      <td>yus8dAc</td>\n",
       "      <td>Men's</td>\n",
       "      <td>44</td>\n",
       "      <td>Men's</td>\n",
       "    </tr>\n",
       "    <tr>\n",
       "      <th>3</th>\n",
       "      <td>fM5P58d</td>\n",
       "      <td>Contemporary Apparel</td>\n",
       "      <td>14</td>\n",
       "      <td>Contemporary Apparel</td>\n",
       "    </tr>\n",
       "    <tr>\n",
       "      <th>5</th>\n",
       "      <td>1WSAPeXb</td>\n",
       "      <td>Ladies Shoes</td>\n",
       "      <td>34</td>\n",
       "      <td>Ladies Shoes</td>\n",
       "    </tr>\n",
       "  </tbody>\n",
       "</table>\n",
       "</div>"
      ],
      "text/plain": [
       "     cmd_id              category  division_id              division\n",
       "0   wcoVuNC  Contemporary Apparel           14  Contemporary Apparel\n",
       "1   QYQApX5       Women's Apparel           11       Women's Apparel\n",
       "2   yus8dAc                 Men's           44                 Men's\n",
       "3   fM5P58d  Contemporary Apparel           14  Contemporary Apparel\n",
       "5  1WSAPeXb          Ladies Shoes           34          Ladies Shoes"
      ]
     },
     "execution_count": 9,
     "metadata": {},
     "output_type": "execute_result"
    }
   ],
   "source": [
    "browse_df = query_browse('division_name as category, division_id, division_name as division')\n",
    "browse_df.dropna(axis=0, how= 'any',inplace= True)\n",
    "browse_df.division_id = browse_df.division_id.astype('int')\n",
    "browse_df.head()"
   ]
  },
  {
   "cell_type": "code",
   "execution_count": 10,
   "metadata": {},
   "outputs": [
    {
     "data": {
      "text/html": [
       "<div>\n",
       "<style scoped>\n",
       "    .dataframe tbody tr th:only-of-type {\n",
       "        vertical-align: middle;\n",
       "    }\n",
       "\n",
       "    .dataframe tbody tr th {\n",
       "        vertical-align: top;\n",
       "    }\n",
       "\n",
       "    .dataframe thead th {\n",
       "        text-align: right;\n",
       "    }\n",
       "</style>\n",
       "<table border=\"1\" class=\"dataframe\">\n",
       "  <thead>\n",
       "    <tr style=\"text-align: right;\">\n",
       "      <th></th>\n",
       "      <th>cmd_id</th>\n",
       "      <th>category</th>\n",
       "      <th>division_id</th>\n",
       "      <th>division</th>\n",
       "    </tr>\n",
       "  </thead>\n",
       "  <tbody>\n",
       "    <tr>\n",
       "      <th>0</th>\n",
       "      <td>17EtLPS8</td>\n",
       "      <td>Contemporary Apparel</td>\n",
       "      <td>14</td>\n",
       "      <td>Contemporary Apparel</td>\n",
       "    </tr>\n",
       "    <tr>\n",
       "      <th>1</th>\n",
       "      <td>uaAJGq0</td>\n",
       "      <td>Women's Apparel</td>\n",
       "      <td>11</td>\n",
       "      <td>Women's Apparel</td>\n",
       "    </tr>\n",
       "    <tr>\n",
       "      <th>2</th>\n",
       "      <td>qVD9A2t</td>\n",
       "      <td>Women's Apparel</td>\n",
       "      <td>11</td>\n",
       "      <td>Women's Apparel</td>\n",
       "    </tr>\n",
       "    <tr>\n",
       "      <th>3</th>\n",
       "      <td>ryYPgRF</td>\n",
       "      <td>Women's Apparel</td>\n",
       "      <td>11</td>\n",
       "      <td>Women's Apparel</td>\n",
       "    </tr>\n",
       "    <tr>\n",
       "      <th>4</th>\n",
       "      <td>ytUWIo1</td>\n",
       "      <td>Beauty</td>\n",
       "      <td>53</td>\n",
       "      <td>Beauty</td>\n",
       "    </tr>\n",
       "  </tbody>\n",
       "</table>\n",
       "</div>"
      ],
      "text/plain": [
       "     cmd_id              category  division_id              division\n",
       "0  17EtLPS8  Contemporary Apparel           14  Contemporary Apparel\n",
       "1   uaAJGq0       Women's Apparel           11       Women's Apparel\n",
       "2   qVD9A2t       Women's Apparel           11       Women's Apparel\n",
       "3   ryYPgRF       Women's Apparel           11       Women's Apparel\n",
       "4   ytUWIo1                Beauty           53                Beauty"
      ]
     },
     "execution_count": 10,
     "metadata": {},
     "output_type": "execute_result"
    }
   ],
   "source": [
    "trans_df = read_df_from_s3_parquet( 'ds/prod/ClientConnect/CMD/data/nm/trans_3y_history.csv.gz','nmg-analytics-ds-prod')\n",
    "trans_df = retrieve_trans(trans_df, ['division','division_id','division'])\n",
    "trans_df.columns = ['cmd_id','category','division_id','division']\n",
    "trans_df.head()"
   ]
  },
  {
   "cell_type": "code",
   "execution_count": 11,
   "metadata": {},
   "outputs": [
    {
     "data": {
      "text/html": [
       "<div>\n",
       "<style scoped>\n",
       "    .dataframe tbody tr th:only-of-type {\n",
       "        vertical-align: middle;\n",
       "    }\n",
       "\n",
       "    .dataframe tbody tr th {\n",
       "        vertical-align: top;\n",
       "    }\n",
       "\n",
       "    .dataframe thead th {\n",
       "        text-align: right;\n",
       "    }\n",
       "</style>\n",
       "<table border=\"1\" class=\"dataframe\">\n",
       "  <thead>\n",
       "    <tr style=\"text-align: right;\">\n",
       "      <th></th>\n",
       "      <th>cmd_id</th>\n",
       "      <th>category</th>\n",
       "      <th>division_id</th>\n",
       "      <th>division</th>\n",
       "      <th>score</th>\n",
       "    </tr>\n",
       "  </thead>\n",
       "  <tbody>\n",
       "    <tr>\n",
       "      <th>0</th>\n",
       "      <td>002vWGm</td>\n",
       "      <td>Contemporary Apparel</td>\n",
       "      <td>14</td>\n",
       "      <td>Contemporary Apparel</td>\n",
       "      <td>5</td>\n",
       "    </tr>\n",
       "    <tr>\n",
       "      <th>1</th>\n",
       "      <td>002vWGm</td>\n",
       "      <td>Designer Handbags</td>\n",
       "      <td>35</td>\n",
       "      <td>Designer Handbags</td>\n",
       "      <td>3</td>\n",
       "    </tr>\n",
       "    <tr>\n",
       "      <th>2</th>\n",
       "      <td>002vWGm</td>\n",
       "      <td>Jewelry</td>\n",
       "      <td>56</td>\n",
       "      <td>Jewelry</td>\n",
       "      <td>3</td>\n",
       "    </tr>\n",
       "    <tr>\n",
       "      <th>3</th>\n",
       "      <td>002vWGm</td>\n",
       "      <td>Ladies Shoes</td>\n",
       "      <td>34</td>\n",
       "      <td>Ladies Shoes</td>\n",
       "      <td>3</td>\n",
       "    </tr>\n",
       "    <tr>\n",
       "      <th>4</th>\n",
       "      <td>002wpFg</td>\n",
       "      <td>Children's</td>\n",
       "      <td>15</td>\n",
       "      <td>Children's</td>\n",
       "      <td>5</td>\n",
       "    </tr>\n",
       "  </tbody>\n",
       "</table>\n",
       "</div>"
      ],
      "text/plain": [
       "    cmd_id              category  division_id              division  score\n",
       "0  002vWGm  Contemporary Apparel           14  Contemporary Apparel      5\n",
       "1  002vWGm     Designer Handbags           35     Designer Handbags      3\n",
       "2  002vWGm               Jewelry           56               Jewelry      3\n",
       "3  002vWGm          Ladies Shoes           34          Ladies Shoes      3\n",
       "4  002wpFg            Children's           15            Children's      5"
      ]
     },
     "execution_count": 11,
     "metadata": {},
     "output_type": "execute_result"
    }
   ],
   "source": [
    "trans_df = agg_category(browse_df, trans_df,'category')\n",
    "trans_df.head()"
   ]
  },
  {
   "cell_type": "code",
   "execution_count": 12,
   "metadata": {},
   "outputs": [
    {
     "data": {
      "text/plain": [
       "True"
      ]
     },
     "execution_count": 12,
     "metadata": {},
     "output_type": "execute_result"
    }
   ],
   "source": [
    "dir_name = 'ds/prod/ClientConnect/CMD/data/nm/'\n",
    "save_df_to_s3_gz(trans_df, dir_name, 'cust_division_rank.csv', bucket_nameX='nmg-analytics-ds-prod')"
   ]
  },
  {
   "cell_type": "markdown",
   "metadata": {},
   "source": [
    "## 2. Designer "
   ]
  },
  {
   "cell_type": "code",
   "execution_count": 13,
   "metadata": {},
   "outputs": [
    {
     "data": {
      "text/html": [
       "<div>\n",
       "<style scoped>\n",
       "    .dataframe tbody tr th:only-of-type {\n",
       "        vertical-align: middle;\n",
       "    }\n",
       "\n",
       "    .dataframe tbody tr th {\n",
       "        vertical-align: top;\n",
       "    }\n",
       "\n",
       "    .dataframe thead th {\n",
       "        text-align: right;\n",
       "    }\n",
       "</style>\n",
       "<table border=\"1\" class=\"dataframe\">\n",
       "  <thead>\n",
       "    <tr style=\"text-align: right;\">\n",
       "      <th></th>\n",
       "      <th>cmd_id</th>\n",
       "      <th>category</th>\n",
       "      <th>designer_id</th>\n",
       "      <th>designer</th>\n",
       "    </tr>\n",
       "  </thead>\n",
       "  <tbody>\n",
       "    <tr>\n",
       "      <th>0</th>\n",
       "      <td>ZrfAX64</td>\n",
       "      <td>Eileen Fisher</td>\n",
       "      <td>11658</td>\n",
       "      <td>Eileen Fisher</td>\n",
       "    </tr>\n",
       "    <tr>\n",
       "      <th>1</th>\n",
       "      <td>oCYyeUy</td>\n",
       "      <td>Marc Fisher LTD</td>\n",
       "      <td>15981</td>\n",
       "      <td>Marc Fisher LTD</td>\n",
       "    </tr>\n",
       "    <tr>\n",
       "      <th>2</th>\n",
       "      <td>NDSherR</td>\n",
       "      <td>TOM FORD</td>\n",
       "      <td>10978</td>\n",
       "      <td>TOM FORD</td>\n",
       "    </tr>\n",
       "    <tr>\n",
       "      <th>3</th>\n",
       "      <td>jPMKh37</td>\n",
       "      <td>Saint Laurent</td>\n",
       "      <td>11700</td>\n",
       "      <td>Saint Laurent</td>\n",
       "    </tr>\n",
       "    <tr>\n",
       "      <th>4</th>\n",
       "      <td>1WSNAz2B</td>\n",
       "      <td>Vince</td>\n",
       "      <td>15542</td>\n",
       "      <td>Vince</td>\n",
       "    </tr>\n",
       "  </tbody>\n",
       "</table>\n",
       "</div>"
      ],
      "text/plain": [
       "     cmd_id         category designer_id         designer\n",
       "0   ZrfAX64    Eileen Fisher       11658    Eileen Fisher\n",
       "1   oCYyeUy  Marc Fisher LTD       15981  Marc Fisher LTD\n",
       "2   NDSherR         TOM FORD       10978         TOM FORD\n",
       "3   jPMKh37    Saint Laurent       11700    Saint Laurent\n",
       "4  1WSNAz2B            Vince       15542            Vince"
      ]
     },
     "execution_count": 13,
     "metadata": {},
     "output_type": "execute_result"
    }
   ],
   "source": [
    "category= 'designer'\n",
    "browse_df = query_browse('designer as category, designer_id, designer')\n",
    "browse_df.dropna(axis=0, how= 'any',inplace= True)\n",
    "browse_df.head()"
   ]
  },
  {
   "cell_type": "code",
   "execution_count": 14,
   "metadata": {},
   "outputs": [
    {
     "data": {
      "text/html": [
       "<div>\n",
       "<style scoped>\n",
       "    .dataframe tbody tr th:only-of-type {\n",
       "        vertical-align: middle;\n",
       "    }\n",
       "\n",
       "    .dataframe tbody tr th {\n",
       "        vertical-align: top;\n",
       "    }\n",
       "\n",
       "    .dataframe thead th {\n",
       "        text-align: right;\n",
       "    }\n",
       "</style>\n",
       "<table border=\"1\" class=\"dataframe\">\n",
       "  <thead>\n",
       "    <tr style=\"text-align: right;\">\n",
       "      <th></th>\n",
       "      <th>cmd_id</th>\n",
       "      <th>category</th>\n",
       "      <th>designer_id</th>\n",
       "      <th>designer</th>\n",
       "    </tr>\n",
       "  </thead>\n",
       "  <tbody>\n",
       "    <tr>\n",
       "      <th>0</th>\n",
       "      <td>17EtLPS8</td>\n",
       "      <td>Parker</td>\n",
       "      <td>14069</td>\n",
       "      <td>Parker</td>\n",
       "    </tr>\n",
       "    <tr>\n",
       "      <th>1</th>\n",
       "      <td>uaAJGq0</td>\n",
       "      <td>Johnny Was</td>\n",
       "      <td>12751</td>\n",
       "      <td>Johnny Was</td>\n",
       "    </tr>\n",
       "    <tr>\n",
       "      <th>2</th>\n",
       "      <td>qVD9A2t</td>\n",
       "      <td>Lafayette 148 New York</td>\n",
       "      <td>12797</td>\n",
       "      <td>Lafayette 148 New York</td>\n",
       "    </tr>\n",
       "    <tr>\n",
       "      <th>3</th>\n",
       "      <td>ryYPgRF</td>\n",
       "      <td>Jay Godfrey</td>\n",
       "      <td>12645</td>\n",
       "      <td>Jay Godfrey</td>\n",
       "    </tr>\n",
       "    <tr>\n",
       "      <th>4</th>\n",
       "      <td>ytUWIo1</td>\n",
       "      <td>Bobbi Brown</td>\n",
       "      <td>10781</td>\n",
       "      <td>Bobbi Brown</td>\n",
       "    </tr>\n",
       "  </tbody>\n",
       "</table>\n",
       "</div>"
      ],
      "text/plain": [
       "     cmd_id                category designer_id                designer\n",
       "0  17EtLPS8                  Parker       14069                  Parker\n",
       "1   uaAJGq0              Johnny Was       12751              Johnny Was\n",
       "2   qVD9A2t  Lafayette 148 New York       12797  Lafayette 148 New York\n",
       "3   ryYPgRF             Jay Godfrey       12645             Jay Godfrey\n",
       "4   ytUWIo1             Bobbi Brown       10781             Bobbi Brown"
      ]
     },
     "execution_count": 14,
     "metadata": {},
     "output_type": "execute_result"
    }
   ],
   "source": [
    "trans_df = read_df_from_s3_parquet( 'ds/prod/ClientConnect/CMD/data/nm/trans_3y_history.csv.gz','nmg-analytics-ds-prod')\n",
    "trans_df = retrieve_trans(trans_df, ['designer','designer_id', 'designer'])\n",
    "trans_df.columns = ['cmd_id','category','designer_id', 'designer']\n",
    "trans_df.head()"
   ]
  },
  {
   "cell_type": "code",
   "execution_count": 15,
   "metadata": {},
   "outputs": [],
   "source": [
    "trans_df = agg_category(browse_df, trans_df,'category')\n"
   ]
  },
  {
   "cell_type": "code",
   "execution_count": 16,
   "metadata": {},
   "outputs": [
    {
     "data": {
      "text/plain": [
       "True"
      ]
     },
     "execution_count": 16,
     "metadata": {},
     "output_type": "execute_result"
    }
   ],
   "source": [
    "dir_name = 'ds/prod/ClientConnect/CMD/data/nm/'\n",
    "save_df_to_s3_gz(trans_df, dir_name, 'cust_designer_rank.csv', bucket_nameX='nmg-analytics-ds-prod')\n"
   ]
  },
  {
   "cell_type": "markdown",
   "metadata": {},
   "source": [
    "## 3. Class"
   ]
  },
  {
   "cell_type": "code",
   "execution_count": 17,
   "metadata": {},
   "outputs": [
    {
     "data": {
      "text/html": [
       "<div>\n",
       "<style scoped>\n",
       "    .dataframe tbody tr th:only-of-type {\n",
       "        vertical-align: middle;\n",
       "    }\n",
       "\n",
       "    .dataframe tbody tr th {\n",
       "        vertical-align: top;\n",
       "    }\n",
       "\n",
       "    .dataframe thead th {\n",
       "        text-align: right;\n",
       "    }\n",
       "</style>\n",
       "<table border=\"1\" class=\"dataframe\">\n",
       "  <thead>\n",
       "    <tr style=\"text-align: right;\">\n",
       "      <th></th>\n",
       "      <th>cmd_id</th>\n",
       "      <th>category</th>\n",
       "      <th>class_id</th>\n",
       "      <th>class</th>\n",
       "    </tr>\n",
       "  </thead>\n",
       "  <tbody>\n",
       "    <tr>\n",
       "      <th>0</th>\n",
       "      <td>19FeQNhN</td>\n",
       "      <td>Sweaters</td>\n",
       "      <td>2</td>\n",
       "      <td>Sweaters</td>\n",
       "    </tr>\n",
       "    <tr>\n",
       "      <th>1</th>\n",
       "      <td>eBF3Ltg</td>\n",
       "      <td>Sneakers</td>\n",
       "      <td>55</td>\n",
       "      <td>Sneakers</td>\n",
       "    </tr>\n",
       "    <tr>\n",
       "      <th>2</th>\n",
       "      <td>tpOkzvZ</td>\n",
       "      <td>Sneakers</td>\n",
       "      <td>55</td>\n",
       "      <td>Sneakers</td>\n",
       "    </tr>\n",
       "    <tr>\n",
       "      <th>3</th>\n",
       "      <td>d0wuM56</td>\n",
       "      <td>Vests</td>\n",
       "      <td>155</td>\n",
       "      <td>Vests</td>\n",
       "    </tr>\n",
       "    <tr>\n",
       "      <th>4</th>\n",
       "      <td>hYcltc9</td>\n",
       "      <td>Leggings</td>\n",
       "      <td>7</td>\n",
       "      <td>Leggings</td>\n",
       "    </tr>\n",
       "  </tbody>\n",
       "</table>\n",
       "</div>"
      ],
      "text/plain": [
       "     cmd_id  category  class_id     class\n",
       "0  19FeQNhN  Sweaters         2  Sweaters\n",
       "1   eBF3Ltg  Sneakers        55  Sneakers\n",
       "2   tpOkzvZ  Sneakers        55  Sneakers\n",
       "3   d0wuM56     Vests       155     Vests\n",
       "4   hYcltc9  Leggings         7  Leggings"
      ]
     },
     "execution_count": 17,
     "metadata": {},
     "output_type": "execute_result"
    }
   ],
   "source": [
    "browse_df = query_browse('class_name as category, class_id, class_name as class')\n",
    "browse_df.dropna(axis=0, how= 'any',inplace= True)\n",
    "browse_df.class_id = browse_df.class_id.astype('int')\n",
    "browse_df.head()"
   ]
  },
  {
   "cell_type": "code",
   "execution_count": 18,
   "metadata": {},
   "outputs": [],
   "source": [
    "trans_df = read_df_from_s3_parquet( 'ds/prod/ClientConnect/CMD/data/nm/trans_3y_history.csv.gz','nmg-analytics-ds-prod')\n",
    "trans_df = retrieve_trans(trans_df, ['class','class_id','class'])\n",
    "trans_df.columns = ['cmd_id','category','class_id','class']"
   ]
  },
  {
   "cell_type": "code",
   "execution_count": 19,
   "metadata": {},
   "outputs": [
    {
     "data": {
      "text/html": [
       "<div>\n",
       "<style scoped>\n",
       "    .dataframe tbody tr th:only-of-type {\n",
       "        vertical-align: middle;\n",
       "    }\n",
       "\n",
       "    .dataframe tbody tr th {\n",
       "        vertical-align: top;\n",
       "    }\n",
       "\n",
       "    .dataframe thead th {\n",
       "        text-align: right;\n",
       "    }\n",
       "</style>\n",
       "<table border=\"1\" class=\"dataframe\">\n",
       "  <thead>\n",
       "    <tr style=\"text-align: right;\">\n",
       "      <th></th>\n",
       "      <th>cmd_id</th>\n",
       "      <th>category</th>\n",
       "      <th>class_id</th>\n",
       "      <th>class</th>\n",
       "      <th>score</th>\n",
       "    </tr>\n",
       "  </thead>\n",
       "  <tbody>\n",
       "    <tr>\n",
       "      <th>0</th>\n",
       "      <td>002vWGm</td>\n",
       "      <td>Denim</td>\n",
       "      <td>6</td>\n",
       "      <td>Denim</td>\n",
       "      <td>5</td>\n",
       "    </tr>\n",
       "    <tr>\n",
       "      <th>1</th>\n",
       "      <td>002vWGm</td>\n",
       "      <td>Rings</td>\n",
       "      <td>40</td>\n",
       "      <td>Rings</td>\n",
       "      <td>5</td>\n",
       "    </tr>\n",
       "    <tr>\n",
       "      <th>2</th>\n",
       "      <td>002vWGm</td>\n",
       "      <td>Sandals</td>\n",
       "      <td>54</td>\n",
       "      <td>Sandals</td>\n",
       "      <td>3</td>\n",
       "    </tr>\n",
       "    <tr>\n",
       "      <th>3</th>\n",
       "      <td>002vWGm</td>\n",
       "      <td>Top Handle</td>\n",
       "      <td>29</td>\n",
       "      <td>Top Handle</td>\n",
       "      <td>3</td>\n",
       "    </tr>\n",
       "    <tr>\n",
       "      <th>4</th>\n",
       "      <td>002wpFg</td>\n",
       "      <td>Body Suits</td>\n",
       "      <td>107</td>\n",
       "      <td>Body Suits</td>\n",
       "      <td>5</td>\n",
       "    </tr>\n",
       "  </tbody>\n",
       "</table>\n",
       "</div>"
      ],
      "text/plain": [
       "    cmd_id    category  class_id       class  score\n",
       "0  002vWGm       Denim         6       Denim      5\n",
       "1  002vWGm       Rings        40       Rings      5\n",
       "2  002vWGm     Sandals        54     Sandals      3\n",
       "3  002vWGm  Top Handle        29  Top Handle      3\n",
       "4  002wpFg  Body Suits       107  Body Suits      5"
      ]
     },
     "execution_count": 19,
     "metadata": {},
     "output_type": "execute_result"
    }
   ],
   "source": [
    "trans_df = agg_category(browse_df, trans_df,'category')\n",
    "trans_df.head()"
   ]
  },
  {
   "cell_type": "code",
   "execution_count": 20,
   "metadata": {},
   "outputs": [
    {
     "data": {
      "text/plain": [
       "True"
      ]
     },
     "execution_count": 20,
     "metadata": {},
     "output_type": "execute_result"
    }
   ],
   "source": [
    "dir_name = 'ds/prod/ClientConnect/CMD/data/nm/'\n",
    "save_df_to_s3_gz(trans_df, dir_name, 'cust_class_rank.csv', bucket_nameX='nmg-analytics-ds-prod')\n"
   ]
  },
  {
   "cell_type": "markdown",
   "metadata": {},
   "source": [
    "## 4. Designer_class"
   ]
  },
  {
   "cell_type": "code",
   "execution_count": 9,
   "metadata": {},
   "outputs": [
    {
     "data": {
      "text/html": [
       "<div>\n",
       "<style scoped>\n",
       "    .dataframe tbody tr th:only-of-type {\n",
       "        vertical-align: middle;\n",
       "    }\n",
       "\n",
       "    .dataframe tbody tr th {\n",
       "        vertical-align: top;\n",
       "    }\n",
       "\n",
       "    .dataframe thead th {\n",
       "        text-align: right;\n",
       "    }\n",
       "</style>\n",
       "<table border=\"1\" class=\"dataframe\">\n",
       "  <thead>\n",
       "    <tr style=\"text-align: right;\">\n",
       "      <th></th>\n",
       "      <th>cmd_id</th>\n",
       "      <th>category</th>\n",
       "      <th>designer_id</th>\n",
       "      <th>designer</th>\n",
       "      <th>class_id</th>\n",
       "      <th>class</th>\n",
       "    </tr>\n",
       "  </thead>\n",
       "  <tbody>\n",
       "    <tr>\n",
       "      <th>0</th>\n",
       "      <td>ZYBA41J</td>\n",
       "      <td>Shoshanna Dress</td>\n",
       "      <td>14769</td>\n",
       "      <td>Shoshanna</td>\n",
       "      <td>124</td>\n",
       "      <td>Dress</td>\n",
       "    </tr>\n",
       "    <tr>\n",
       "      <th>1</th>\n",
       "      <td>jQSMvHx</td>\n",
       "      <td>Gorski Outerwear</td>\n",
       "      <td>12196</td>\n",
       "      <td>Gorski</td>\n",
       "      <td>9</td>\n",
       "      <td>Outerwear</td>\n",
       "    </tr>\n",
       "    <tr>\n",
       "      <th>2</th>\n",
       "      <td>aPwL9oq</td>\n",
       "      <td>Veronica Beard Denim</td>\n",
       "      <td>15452</td>\n",
       "      <td>Veronica Beard</td>\n",
       "      <td>6</td>\n",
       "      <td>Denim</td>\n",
       "    </tr>\n",
       "    <tr>\n",
       "      <th>3</th>\n",
       "      <td>X9v6h56</td>\n",
       "      <td>Vince Shirts/Tops</td>\n",
       "      <td>15542</td>\n",
       "      <td>Vince</td>\n",
       "      <td>1</td>\n",
       "      <td>Shirts/Tops</td>\n",
       "    </tr>\n",
       "    <tr>\n",
       "      <th>4</th>\n",
       "      <td>1Bi4C9V3</td>\n",
       "      <td>Valentino Sandals</td>\n",
       "      <td>11778</td>\n",
       "      <td>Valentino</td>\n",
       "      <td>54</td>\n",
       "      <td>Sandals</td>\n",
       "    </tr>\n",
       "  </tbody>\n",
       "</table>\n",
       "</div>"
      ],
      "text/plain": [
       "     cmd_id              category designer_id        designer  class_id  \\\n",
       "0   ZYBA41J       Shoshanna Dress       14769       Shoshanna       124   \n",
       "1   jQSMvHx      Gorski Outerwear       12196          Gorski         9   \n",
       "2   aPwL9oq  Veronica Beard Denim       15452  Veronica Beard         6   \n",
       "3   X9v6h56     Vince Shirts/Tops       15542           Vince         1   \n",
       "4  1Bi4C9V3     Valentino Sandals       11778       Valentino        54   \n",
       "\n",
       "         class  \n",
       "0        Dress  \n",
       "1    Outerwear  \n",
       "2        Denim  \n",
       "3  Shirts/Tops  \n",
       "4      Sandals  "
      ]
     },
     "execution_count": 9,
     "metadata": {},
     "output_type": "execute_result"
    }
   ],
   "source": [
    "browse_df = query_browse('designer_id,designer, class_id, class_name as class')\n",
    "browse_df.dropna(axis=0, how= 'any',inplace= True)\n",
    "browse_df = concat_columns(browse_df, ['designer','class'], 'category', sep=\" \")\n",
    "browse_df.class_id = browse_df.class_id.astype('int')\n",
    "browse_df.head()"
   ]
  },
  {
   "cell_type": "code",
   "execution_count": 10,
   "metadata": {},
   "outputs": [
    {
     "data": {
      "text/html": [
       "<div>\n",
       "<style scoped>\n",
       "    .dataframe tbody tr th:only-of-type {\n",
       "        vertical-align: middle;\n",
       "    }\n",
       "\n",
       "    .dataframe tbody tr th {\n",
       "        vertical-align: top;\n",
       "    }\n",
       "\n",
       "    .dataframe thead th {\n",
       "        text-align: right;\n",
       "    }\n",
       "</style>\n",
       "<table border=\"1\" class=\"dataframe\">\n",
       "  <thead>\n",
       "    <tr style=\"text-align: right;\">\n",
       "      <th></th>\n",
       "      <th>cmd_id</th>\n",
       "      <th>designer_id</th>\n",
       "      <th>designer</th>\n",
       "      <th>class_id</th>\n",
       "      <th>class</th>\n",
       "    </tr>\n",
       "  </thead>\n",
       "  <tbody>\n",
       "    <tr>\n",
       "      <th>0</th>\n",
       "      <td>17EtLPS8</td>\n",
       "      <td>14069</td>\n",
       "      <td>Parker</td>\n",
       "      <td>124</td>\n",
       "      <td>Dress</td>\n",
       "    </tr>\n",
       "    <tr>\n",
       "      <th>1</th>\n",
       "      <td>uaAJGq0</td>\n",
       "      <td>12751</td>\n",
       "      <td>Johnny Was</td>\n",
       "      <td>1</td>\n",
       "      <td>Shirts/Tops</td>\n",
       "    </tr>\n",
       "    <tr>\n",
       "      <th>2</th>\n",
       "      <td>qVD9A2t</td>\n",
       "      <td>12797</td>\n",
       "      <td>Lafayette 148 New York</td>\n",
       "      <td>4</td>\n",
       "      <td>Pants</td>\n",
       "    </tr>\n",
       "    <tr>\n",
       "      <th>3</th>\n",
       "      <td>ryYPgRF</td>\n",
       "      <td>12645</td>\n",
       "      <td>Jay Godfrey</td>\n",
       "      <td>139</td>\n",
       "      <td>Gowns</td>\n",
       "    </tr>\n",
       "    <tr>\n",
       "      <th>4</th>\n",
       "      <td>ytUWIo1</td>\n",
       "      <td>10781</td>\n",
       "      <td>Bobbi Brown</td>\n",
       "      <td>317</td>\n",
       "      <td>Makeup</td>\n",
       "    </tr>\n",
       "  </tbody>\n",
       "</table>\n",
       "</div>"
      ],
      "text/plain": [
       "     cmd_id designer_id                designer  class_id        class\n",
       "0  17EtLPS8       14069                  Parker       124        Dress\n",
       "1   uaAJGq0       12751              Johnny Was         1  Shirts/Tops\n",
       "2   qVD9A2t       12797  Lafayette 148 New York         4        Pants\n",
       "3   ryYPgRF       12645             Jay Godfrey       139        Gowns\n",
       "4   ytUWIo1       10781             Bobbi Brown       317       Makeup"
      ]
     },
     "execution_count": 10,
     "metadata": {},
     "output_type": "execute_result"
    }
   ],
   "source": [
    "trans_df = read_df_from_s3_parquet( 'ds/prod/ClientConnect/CMD/data/nm/trans_3y_history.csv.gz','nmg-analytics-ds-prod')\n",
    "trans_df = retrieve_trans(trans_df, ['designer_id','designer','class_id','class'])\n",
    "trans_df.head()"
   ]
  },
  {
   "cell_type": "code",
   "execution_count": 11,
   "metadata": {},
   "outputs": [
    {
     "data": {
      "text/html": [
       "<div>\n",
       "<style scoped>\n",
       "    .dataframe tbody tr th:only-of-type {\n",
       "        vertical-align: middle;\n",
       "    }\n",
       "\n",
       "    .dataframe tbody tr th {\n",
       "        vertical-align: top;\n",
       "    }\n",
       "\n",
       "    .dataframe thead th {\n",
       "        text-align: right;\n",
       "    }\n",
       "</style>\n",
       "<table border=\"1\" class=\"dataframe\">\n",
       "  <thead>\n",
       "    <tr style=\"text-align: right;\">\n",
       "      <th></th>\n",
       "      <th>cmd_id</th>\n",
       "      <th>category</th>\n",
       "      <th>designer_id</th>\n",
       "      <th>designer</th>\n",
       "      <th>class_id</th>\n",
       "      <th>class</th>\n",
       "      <th>score</th>\n",
       "    </tr>\n",
       "  </thead>\n",
       "  <tbody>\n",
       "    <tr>\n",
       "      <th>0</th>\n",
       "      <td>002vWGm</td>\n",
       "      <td>Bottega Veneta Top Handle</td>\n",
       "      <td>10811</td>\n",
       "      <td>Bottega Veneta</td>\n",
       "      <td>29</td>\n",
       "      <td>Top Handle</td>\n",
       "      <td>3</td>\n",
       "    </tr>\n",
       "    <tr>\n",
       "      <th>1</th>\n",
       "      <td>002vWGm</td>\n",
       "      <td>Chanel Rings</td>\n",
       "      <td>11078</td>\n",
       "      <td>Chanel</td>\n",
       "      <td>40</td>\n",
       "      <td>Rings</td>\n",
       "      <td>1</td>\n",
       "    </tr>\n",
       "    <tr>\n",
       "      <th>2</th>\n",
       "      <td>002vWGm</td>\n",
       "      <td>Gianvito Rossi Sandals</td>\n",
       "      <td>12104</td>\n",
       "      <td>Gianvito Rossi</td>\n",
       "      <td>54</td>\n",
       "      <td>Sandals</td>\n",
       "      <td>1</td>\n",
       "    </tr>\n",
       "    <tr>\n",
       "      <th>3</th>\n",
       "      <td>002vWGm</td>\n",
       "      <td>Moussy Vintage Denim</td>\n",
       "      <td>23717</td>\n",
       "      <td>Moussy Vintage</td>\n",
       "      <td>6</td>\n",
       "      <td>Denim</td>\n",
       "      <td>1</td>\n",
       "    </tr>\n",
       "    <tr>\n",
       "      <th>4</th>\n",
       "      <td>002wpFg</td>\n",
       "      <td>A.L.C. Dress</td>\n",
       "      <td>10047</td>\n",
       "      <td>A.L.C.</td>\n",
       "      <td>124</td>\n",
       "      <td>Dress</td>\n",
       "      <td>5</td>\n",
       "    </tr>\n",
       "  </tbody>\n",
       "</table>\n",
       "</div>"
      ],
      "text/plain": [
       "    cmd_id                   category designer_id        designer  class_id  \\\n",
       "0  002vWGm  Bottega Veneta Top Handle       10811  Bottega Veneta        29   \n",
       "1  002vWGm               Chanel Rings       11078          Chanel        40   \n",
       "2  002vWGm     Gianvito Rossi Sandals       12104  Gianvito Rossi        54   \n",
       "3  002vWGm       Moussy Vintage Denim       23717  Moussy Vintage         6   \n",
       "4  002wpFg               A.L.C. Dress       10047          A.L.C.       124   \n",
       "\n",
       "        class  score  \n",
       "0  Top Handle      3  \n",
       "1       Rings      1  \n",
       "2     Sandals      1  \n",
       "3       Denim      1  \n",
       "4       Dress      5  "
      ]
     },
     "execution_count": 11,
     "metadata": {},
     "output_type": "execute_result"
    }
   ],
   "source": [
    "cols = ['designer','class']\n",
    "trans_df = concat_columns(trans_df, cols , 'category', sep=\" \")\n",
    "trans_df = agg_category(browse_df, trans_df,'category')\n",
    "trans_df.head()"
   ]
  },
  {
   "cell_type": "code",
   "execution_count": 12,
   "metadata": {},
   "outputs": [
    {
     "data": {
      "text/plain": [
       "True"
      ]
     },
     "execution_count": 12,
     "metadata": {},
     "output_type": "execute_result"
    }
   ],
   "source": [
    "dir_name = 'ds/prod/ClientConnect/CMD/data/nm/'\n",
    "save_df_to_s3_gz(trans_df, dir_name, 'cust_designer_class_rank.csv', bucket_nameX='nmg-analytics-ds-prod')\n"
   ]
  },
  {
   "cell_type": "markdown",
   "metadata": {},
   "source": [
    "## 5. Division_class"
   ]
  },
  {
   "cell_type": "code",
   "execution_count": 13,
   "metadata": {},
   "outputs": [
    {
     "data": {
      "text/html": [
       "<div>\n",
       "<style scoped>\n",
       "    .dataframe tbody tr th:only-of-type {\n",
       "        vertical-align: middle;\n",
       "    }\n",
       "\n",
       "    .dataframe tbody tr th {\n",
       "        vertical-align: top;\n",
       "    }\n",
       "\n",
       "    .dataframe thead th {\n",
       "        text-align: right;\n",
       "    }\n",
       "</style>\n",
       "<table border=\"1\" class=\"dataframe\">\n",
       "  <thead>\n",
       "    <tr style=\"text-align: right;\">\n",
       "      <th></th>\n",
       "      <th>cmd_id</th>\n",
       "      <th>category</th>\n",
       "      <th>division_id</th>\n",
       "      <th>division</th>\n",
       "      <th>class_id</th>\n",
       "      <th>class</th>\n",
       "    </tr>\n",
       "  </thead>\n",
       "  <tbody>\n",
       "    <tr>\n",
       "      <th>0</th>\n",
       "      <td>diWz6ez</td>\n",
       "      <td>Contemporary Apparel Bras</td>\n",
       "      <td>14</td>\n",
       "      <td>Contemporary Apparel</td>\n",
       "      <td>42</td>\n",
       "      <td>Bras</td>\n",
       "    </tr>\n",
       "    <tr>\n",
       "      <th>1</th>\n",
       "      <td>19H3h8mr</td>\n",
       "      <td>Gifts &amp; Home Quilts/Coverlets</td>\n",
       "      <td>21</td>\n",
       "      <td>Gifts &amp; Home</td>\n",
       "      <td>822</td>\n",
       "      <td>Quilts/Coverlets</td>\n",
       "    </tr>\n",
       "    <tr>\n",
       "      <th>2</th>\n",
       "      <td>xZXsye6</td>\n",
       "      <td>Men's Slip On</td>\n",
       "      <td>44</td>\n",
       "      <td>Men's</td>\n",
       "      <td>880</td>\n",
       "      <td>Slip On</td>\n",
       "    </tr>\n",
       "    <tr>\n",
       "      <th>3</th>\n",
       "      <td>CKgao9B</td>\n",
       "      <td>Ladies Shoes Pumps</td>\n",
       "      <td>34</td>\n",
       "      <td>Ladies Shoes</td>\n",
       "      <td>51</td>\n",
       "      <td>Pumps</td>\n",
       "    </tr>\n",
       "    <tr>\n",
       "      <th>4</th>\n",
       "      <td>weI9f9y</td>\n",
       "      <td>Contemporary Apparel Denim</td>\n",
       "      <td>14</td>\n",
       "      <td>Contemporary Apparel</td>\n",
       "      <td>6</td>\n",
       "      <td>Denim</td>\n",
       "    </tr>\n",
       "  </tbody>\n",
       "</table>\n",
       "</div>"
      ],
      "text/plain": [
       "     cmd_id                       category  division_id              division  \\\n",
       "0   diWz6ez      Contemporary Apparel Bras           14  Contemporary Apparel   \n",
       "1  19H3h8mr  Gifts & Home Quilts/Coverlets           21          Gifts & Home   \n",
       "2   xZXsye6                  Men's Slip On           44                 Men's   \n",
       "3   CKgao9B             Ladies Shoes Pumps           34          Ladies Shoes   \n",
       "4   weI9f9y     Contemporary Apparel Denim           14  Contemporary Apparel   \n",
       "\n",
       "   class_id             class  \n",
       "0        42              Bras  \n",
       "1       822  Quilts/Coverlets  \n",
       "2       880           Slip On  \n",
       "3        51             Pumps  \n",
       "4         6             Denim  "
      ]
     },
     "execution_count": 13,
     "metadata": {},
     "output_type": "execute_result"
    }
   ],
   "source": [
    "browse_df = query_browse('division_id,division_name as division, class_id, class_name as class')\n",
    "browse_df.dropna(axis=0, how= 'any',inplace= True)\n",
    "browse_df = concat_columns(browse_df, ['division','class'], 'category', sep=\" \")\n",
    "browse_df.division_id = browse_df.division_id.astype('int')\n",
    "browse_df.class_id = browse_df.class_id.astype('int')\n",
    "browse_df.head()"
   ]
  },
  {
   "cell_type": "code",
   "execution_count": 14,
   "metadata": {},
   "outputs": [
    {
     "data": {
      "text/html": [
       "<div>\n",
       "<style scoped>\n",
       "    .dataframe tbody tr th:only-of-type {\n",
       "        vertical-align: middle;\n",
       "    }\n",
       "\n",
       "    .dataframe tbody tr th {\n",
       "        vertical-align: top;\n",
       "    }\n",
       "\n",
       "    .dataframe thead th {\n",
       "        text-align: right;\n",
       "    }\n",
       "</style>\n",
       "<table border=\"1\" class=\"dataframe\">\n",
       "  <thead>\n",
       "    <tr style=\"text-align: right;\">\n",
       "      <th></th>\n",
       "      <th>cmd_id</th>\n",
       "      <th>division_id</th>\n",
       "      <th>division</th>\n",
       "      <th>class_id</th>\n",
       "      <th>class</th>\n",
       "    </tr>\n",
       "  </thead>\n",
       "  <tbody>\n",
       "    <tr>\n",
       "      <th>0</th>\n",
       "      <td>17EtLPS8</td>\n",
       "      <td>14</td>\n",
       "      <td>Contemporary Apparel</td>\n",
       "      <td>124</td>\n",
       "      <td>Dress</td>\n",
       "    </tr>\n",
       "    <tr>\n",
       "      <th>1</th>\n",
       "      <td>uaAJGq0</td>\n",
       "      <td>11</td>\n",
       "      <td>Women's Apparel</td>\n",
       "      <td>1</td>\n",
       "      <td>Shirts/Tops</td>\n",
       "    </tr>\n",
       "    <tr>\n",
       "      <th>2</th>\n",
       "      <td>qVD9A2t</td>\n",
       "      <td>11</td>\n",
       "      <td>Women's Apparel</td>\n",
       "      <td>4</td>\n",
       "      <td>Pants</td>\n",
       "    </tr>\n",
       "    <tr>\n",
       "      <th>3</th>\n",
       "      <td>ryYPgRF</td>\n",
       "      <td>11</td>\n",
       "      <td>Women's Apparel</td>\n",
       "      <td>139</td>\n",
       "      <td>Gowns</td>\n",
       "    </tr>\n",
       "    <tr>\n",
       "      <th>4</th>\n",
       "      <td>ytUWIo1</td>\n",
       "      <td>53</td>\n",
       "      <td>Beauty</td>\n",
       "      <td>317</td>\n",
       "      <td>Makeup</td>\n",
       "    </tr>\n",
       "  </tbody>\n",
       "</table>\n",
       "</div>"
      ],
      "text/plain": [
       "     cmd_id  division_id              division  class_id        class\n",
       "0  17EtLPS8           14  Contemporary Apparel       124        Dress\n",
       "1   uaAJGq0           11       Women's Apparel         1  Shirts/Tops\n",
       "2   qVD9A2t           11       Women's Apparel         4        Pants\n",
       "3   ryYPgRF           11       Women's Apparel       139        Gowns\n",
       "4   ytUWIo1           53                Beauty       317       Makeup"
      ]
     },
     "execution_count": 14,
     "metadata": {},
     "output_type": "execute_result"
    }
   ],
   "source": [
    "trans_df = read_df_from_s3_parquet( 'ds/prod/ClientConnect/CMD/data/nm/trans_3y_history.csv.gz','nmg-analytics-ds-prod')\n",
    "trans_df = retrieve_trans(trans_df, ['division_id','division','class_id','class'])\n",
    "trans_df.head()"
   ]
  },
  {
   "cell_type": "code",
   "execution_count": 15,
   "metadata": {},
   "outputs": [
    {
     "data": {
      "text/html": [
       "<div>\n",
       "<style scoped>\n",
       "    .dataframe tbody tr th:only-of-type {\n",
       "        vertical-align: middle;\n",
       "    }\n",
       "\n",
       "    .dataframe tbody tr th {\n",
       "        vertical-align: top;\n",
       "    }\n",
       "\n",
       "    .dataframe thead th {\n",
       "        text-align: right;\n",
       "    }\n",
       "</style>\n",
       "<table border=\"1\" class=\"dataframe\">\n",
       "  <thead>\n",
       "    <tr style=\"text-align: right;\">\n",
       "      <th></th>\n",
       "      <th>cmd_id</th>\n",
       "      <th>category</th>\n",
       "      <th>division_id</th>\n",
       "      <th>division</th>\n",
       "      <th>class_id</th>\n",
       "      <th>class</th>\n",
       "    </tr>\n",
       "  </thead>\n",
       "  <tbody>\n",
       "    <tr>\n",
       "      <th>0</th>\n",
       "      <td>17EtLPS8</td>\n",
       "      <td>Contemporary Apparel Dress</td>\n",
       "      <td>14</td>\n",
       "      <td>Contemporary Apparel</td>\n",
       "      <td>124</td>\n",
       "      <td>Dress</td>\n",
       "    </tr>\n",
       "    <tr>\n",
       "      <th>1</th>\n",
       "      <td>uaAJGq0</td>\n",
       "      <td>Women's Apparel Shirts/Tops</td>\n",
       "      <td>11</td>\n",
       "      <td>Women's Apparel</td>\n",
       "      <td>1</td>\n",
       "      <td>Shirts/Tops</td>\n",
       "    </tr>\n",
       "    <tr>\n",
       "      <th>2</th>\n",
       "      <td>qVD9A2t</td>\n",
       "      <td>Women's Apparel Pants</td>\n",
       "      <td>11</td>\n",
       "      <td>Women's Apparel</td>\n",
       "      <td>4</td>\n",
       "      <td>Pants</td>\n",
       "    </tr>\n",
       "    <tr>\n",
       "      <th>3</th>\n",
       "      <td>ryYPgRF</td>\n",
       "      <td>Women's Apparel Gowns</td>\n",
       "      <td>11</td>\n",
       "      <td>Women's Apparel</td>\n",
       "      <td>139</td>\n",
       "      <td>Gowns</td>\n",
       "    </tr>\n",
       "    <tr>\n",
       "      <th>4</th>\n",
       "      <td>ytUWIo1</td>\n",
       "      <td>Beauty Makeup</td>\n",
       "      <td>53</td>\n",
       "      <td>Beauty</td>\n",
       "      <td>317</td>\n",
       "      <td>Makeup</td>\n",
       "    </tr>\n",
       "  </tbody>\n",
       "</table>\n",
       "</div>"
      ],
      "text/plain": [
       "     cmd_id                     category  division_id              division  \\\n",
       "0  17EtLPS8   Contemporary Apparel Dress           14  Contemporary Apparel   \n",
       "1   uaAJGq0  Women's Apparel Shirts/Tops           11       Women's Apparel   \n",
       "2   qVD9A2t        Women's Apparel Pants           11       Women's Apparel   \n",
       "3   ryYPgRF        Women's Apparel Gowns           11       Women's Apparel   \n",
       "4   ytUWIo1                Beauty Makeup           53                Beauty   \n",
       "\n",
       "   class_id        class  \n",
       "0       124        Dress  \n",
       "1         1  Shirts/Tops  \n",
       "2         4        Pants  \n",
       "3       139        Gowns  \n",
       "4       317       Makeup  "
      ]
     },
     "execution_count": 15,
     "metadata": {},
     "output_type": "execute_result"
    }
   ],
   "source": [
    "cols = ['division','class']\n",
    "trans_df = concat_columns(trans_df, cols , 'category', sep=\" \")\n",
    "trans_df.head()"
   ]
  },
  {
   "cell_type": "code",
   "execution_count": 16,
   "metadata": {},
   "outputs": [
    {
     "data": {
      "text/html": [
       "<div>\n",
       "<style scoped>\n",
       "    .dataframe tbody tr th:only-of-type {\n",
       "        vertical-align: middle;\n",
       "    }\n",
       "\n",
       "    .dataframe tbody tr th {\n",
       "        vertical-align: top;\n",
       "    }\n",
       "\n",
       "    .dataframe thead th {\n",
       "        text-align: right;\n",
       "    }\n",
       "</style>\n",
       "<table border=\"1\" class=\"dataframe\">\n",
       "  <thead>\n",
       "    <tr style=\"text-align: right;\">\n",
       "      <th></th>\n",
       "      <th>cmd_id</th>\n",
       "      <th>category</th>\n",
       "      <th>division_id</th>\n",
       "      <th>division</th>\n",
       "      <th>class_id</th>\n",
       "      <th>class</th>\n",
       "      <th>score</th>\n",
       "    </tr>\n",
       "  </thead>\n",
       "  <tbody>\n",
       "    <tr>\n",
       "      <th>0</th>\n",
       "      <td>002vWGm</td>\n",
       "      <td>Contemporary Apparel Denim</td>\n",
       "      <td>14</td>\n",
       "      <td>Contemporary Apparel</td>\n",
       "      <td>6</td>\n",
       "      <td>Denim</td>\n",
       "      <td>5</td>\n",
       "    </tr>\n",
       "    <tr>\n",
       "      <th>1</th>\n",
       "      <td>002vWGm</td>\n",
       "      <td>Designer Handbags Top Handle</td>\n",
       "      <td>35</td>\n",
       "      <td>Designer Handbags</td>\n",
       "      <td>29</td>\n",
       "      <td>Top Handle</td>\n",
       "      <td>3</td>\n",
       "    </tr>\n",
       "    <tr>\n",
       "      <th>2</th>\n",
       "      <td>002vWGm</td>\n",
       "      <td>Jewelry Rings</td>\n",
       "      <td>56</td>\n",
       "      <td>Jewelry</td>\n",
       "      <td>40</td>\n",
       "      <td>Rings</td>\n",
       "      <td>5</td>\n",
       "    </tr>\n",
       "    <tr>\n",
       "      <th>3</th>\n",
       "      <td>002vWGm</td>\n",
       "      <td>Ladies Shoes Sandals</td>\n",
       "      <td>34</td>\n",
       "      <td>Ladies Shoes</td>\n",
       "      <td>54</td>\n",
       "      <td>Sandals</td>\n",
       "      <td>3</td>\n",
       "    </tr>\n",
       "    <tr>\n",
       "      <th>4</th>\n",
       "      <td>002wpFg</td>\n",
       "      <td>Children's Infant Boy</td>\n",
       "      <td>15</td>\n",
       "      <td>Children's</td>\n",
       "      <td>826</td>\n",
       "      <td>Infant Boy</td>\n",
       "      <td>1</td>\n",
       "    </tr>\n",
       "  </tbody>\n",
       "</table>\n",
       "</div>"
      ],
      "text/plain": [
       "    cmd_id                      category  division_id              division  \\\n",
       "0  002vWGm    Contemporary Apparel Denim           14  Contemporary Apparel   \n",
       "1  002vWGm  Designer Handbags Top Handle           35     Designer Handbags   \n",
       "2  002vWGm                 Jewelry Rings           56               Jewelry   \n",
       "3  002vWGm          Ladies Shoes Sandals           34          Ladies Shoes   \n",
       "4  002wpFg         Children's Infant Boy           15            Children's   \n",
       "\n",
       "   class_id       class  score  \n",
       "0         6       Denim      5  \n",
       "1        29  Top Handle      3  \n",
       "2        40       Rings      5  \n",
       "3        54     Sandals      3  \n",
       "4       826  Infant Boy      1  "
      ]
     },
     "execution_count": 16,
     "metadata": {},
     "output_type": "execute_result"
    }
   ],
   "source": [
    "trans_df = agg_category(browse_df, trans_df,'category')\n",
    "\n",
    "trans_df.head()"
   ]
  },
  {
   "cell_type": "code",
   "execution_count": 17,
   "metadata": {},
   "outputs": [
    {
     "data": {
      "text/plain": [
       "True"
      ]
     },
     "execution_count": 17,
     "metadata": {},
     "output_type": "execute_result"
    }
   ],
   "source": [
    "dir_name = 'ds/prod/ClientConnect/CMD/data/nm/'\n",
    "save_df_to_s3_gz(trans_df, dir_name, 'cust_division_class_rank.csv', bucket_nameX='nmg-analytics-ds-prod')\n"
   ]
  },
  {
   "cell_type": "markdown",
   "metadata": {},
   "source": [
    "## 6. Designer_division"
   ]
  },
  {
   "cell_type": "code",
   "execution_count": 9,
   "metadata": {},
   "outputs": [
    {
     "data": {
      "text/html": [
       "<div>\n",
       "<style scoped>\n",
       "    .dataframe tbody tr th:only-of-type {\n",
       "        vertical-align: middle;\n",
       "    }\n",
       "\n",
       "    .dataframe tbody tr th {\n",
       "        vertical-align: top;\n",
       "    }\n",
       "\n",
       "    .dataframe thead th {\n",
       "        text-align: right;\n",
       "    }\n",
       "</style>\n",
       "<table border=\"1\" class=\"dataframe\">\n",
       "  <thead>\n",
       "    <tr style=\"text-align: right;\">\n",
       "      <th></th>\n",
       "      <th>cmd_id</th>\n",
       "      <th>category</th>\n",
       "      <th>designer_id</th>\n",
       "      <th>designer</th>\n",
       "      <th>division_id</th>\n",
       "      <th>division</th>\n",
       "    </tr>\n",
       "  </thead>\n",
       "  <tbody>\n",
       "    <tr>\n",
       "      <th>0</th>\n",
       "      <td>ofzyTAs</td>\n",
       "      <td>Safavieh Gifts &amp; Home</td>\n",
       "      <td>14614</td>\n",
       "      <td>Safavieh</td>\n",
       "      <td>21</td>\n",
       "      <td>Gifts &amp; Home</td>\n",
       "    </tr>\n",
       "    <tr>\n",
       "      <th>1</th>\n",
       "      <td>14IEu9jL</td>\n",
       "      <td>Helena Children's</td>\n",
       "      <td>12338</td>\n",
       "      <td>Helena</td>\n",
       "      <td>15</td>\n",
       "      <td>Children's</td>\n",
       "    </tr>\n",
       "    <tr>\n",
       "      <th>2</th>\n",
       "      <td>eBf4XIx</td>\n",
       "      <td>PINKO Contemporary Apparel</td>\n",
       "      <td>21894</td>\n",
       "      <td>PINKO</td>\n",
       "      <td>14</td>\n",
       "      <td>Contemporary Apparel</td>\n",
       "    </tr>\n",
       "    <tr>\n",
       "      <th>3</th>\n",
       "      <td>lsrMEEm</td>\n",
       "      <td>NIC+ZOE Women's Apparel</td>\n",
       "      <td>13837</td>\n",
       "      <td>NIC+ZOE</td>\n",
       "      <td>11</td>\n",
       "      <td>Women's Apparel</td>\n",
       "    </tr>\n",
       "    <tr>\n",
       "      <th>4</th>\n",
       "      <td>QbgoudT</td>\n",
       "      <td>AG Men's</td>\n",
       "      <td>10122</td>\n",
       "      <td>AG</td>\n",
       "      <td>44</td>\n",
       "      <td>Men's</td>\n",
       "    </tr>\n",
       "  </tbody>\n",
       "</table>\n",
       "</div>"
      ],
      "text/plain": [
       "     cmd_id                    category designer_id  designer  division_id  \\\n",
       "0   ofzyTAs       Safavieh Gifts & Home       14614  Safavieh           21   \n",
       "1  14IEu9jL           Helena Children's       12338    Helena           15   \n",
       "2   eBf4XIx  PINKO Contemporary Apparel       21894     PINKO           14   \n",
       "3   lsrMEEm     NIC+ZOE Women's Apparel       13837   NIC+ZOE           11   \n",
       "4   QbgoudT                    AG Men's       10122        AG           44   \n",
       "\n",
       "               division  \n",
       "0          Gifts & Home  \n",
       "1            Children's  \n",
       "2  Contemporary Apparel  \n",
       "3       Women's Apparel  \n",
       "4                 Men's  "
      ]
     },
     "execution_count": 9,
     "metadata": {},
     "output_type": "execute_result"
    }
   ],
   "source": [
    "browse_df = query_browse('designer_id,designer, division_id, division_name as division')\n",
    "browse_df.dropna(axis=0, how= 'any',inplace= True)\n",
    "browse_df = concat_columns(browse_df, ['designer','division'], 'category', sep=\" \")\n",
    "browse_df.division_id = browse_df.division_id.astype('int')\n",
    "browse_df.head()"
   ]
  },
  {
   "cell_type": "code",
   "execution_count": 10,
   "metadata": {},
   "outputs": [
    {
     "data": {
      "text/html": [
       "<div>\n",
       "<style scoped>\n",
       "    .dataframe tbody tr th:only-of-type {\n",
       "        vertical-align: middle;\n",
       "    }\n",
       "\n",
       "    .dataframe tbody tr th {\n",
       "        vertical-align: top;\n",
       "    }\n",
       "\n",
       "    .dataframe thead th {\n",
       "        text-align: right;\n",
       "    }\n",
       "</style>\n",
       "<table border=\"1\" class=\"dataframe\">\n",
       "  <thead>\n",
       "    <tr style=\"text-align: right;\">\n",
       "      <th></th>\n",
       "      <th>cmd_id</th>\n",
       "      <th>category</th>\n",
       "      <th>designer_id</th>\n",
       "      <th>designer</th>\n",
       "      <th>division_id</th>\n",
       "      <th>division</th>\n",
       "    </tr>\n",
       "  </thead>\n",
       "  <tbody>\n",
       "    <tr>\n",
       "      <th>0</th>\n",
       "      <td>17EtLPS8</td>\n",
       "      <td>Parker Contemporary Apparel</td>\n",
       "      <td>14069</td>\n",
       "      <td>Parker</td>\n",
       "      <td>14</td>\n",
       "      <td>Contemporary Apparel</td>\n",
       "    </tr>\n",
       "    <tr>\n",
       "      <th>1</th>\n",
       "      <td>uaAJGq0</td>\n",
       "      <td>Johnny Was Women's Apparel</td>\n",
       "      <td>12751</td>\n",
       "      <td>Johnny Was</td>\n",
       "      <td>11</td>\n",
       "      <td>Women's Apparel</td>\n",
       "    </tr>\n",
       "    <tr>\n",
       "      <th>2</th>\n",
       "      <td>qVD9A2t</td>\n",
       "      <td>Lafayette 148 New York Women's Apparel</td>\n",
       "      <td>12797</td>\n",
       "      <td>Lafayette 148 New York</td>\n",
       "      <td>11</td>\n",
       "      <td>Women's Apparel</td>\n",
       "    </tr>\n",
       "    <tr>\n",
       "      <th>3</th>\n",
       "      <td>ryYPgRF</td>\n",
       "      <td>Jay Godfrey Women's Apparel</td>\n",
       "      <td>12645</td>\n",
       "      <td>Jay Godfrey</td>\n",
       "      <td>11</td>\n",
       "      <td>Women's Apparel</td>\n",
       "    </tr>\n",
       "    <tr>\n",
       "      <th>4</th>\n",
       "      <td>ytUWIo1</td>\n",
       "      <td>Bobbi Brown Beauty</td>\n",
       "      <td>10781</td>\n",
       "      <td>Bobbi Brown</td>\n",
       "      <td>53</td>\n",
       "      <td>Beauty</td>\n",
       "    </tr>\n",
       "  </tbody>\n",
       "</table>\n",
       "</div>"
      ],
      "text/plain": [
       "     cmd_id                                category designer_id  \\\n",
       "0  17EtLPS8             Parker Contemporary Apparel       14069   \n",
       "1   uaAJGq0              Johnny Was Women's Apparel       12751   \n",
       "2   qVD9A2t  Lafayette 148 New York Women's Apparel       12797   \n",
       "3   ryYPgRF             Jay Godfrey Women's Apparel       12645   \n",
       "4   ytUWIo1                      Bobbi Brown Beauty       10781   \n",
       "\n",
       "                 designer  division_id              division  \n",
       "0                  Parker           14  Contemporary Apparel  \n",
       "1              Johnny Was           11       Women's Apparel  \n",
       "2  Lafayette 148 New York           11       Women's Apparel  \n",
       "3             Jay Godfrey           11       Women's Apparel  \n",
       "4             Bobbi Brown           53                Beauty  "
      ]
     },
     "execution_count": 10,
     "metadata": {},
     "output_type": "execute_result"
    }
   ],
   "source": [
    "trans_df = read_df_from_s3_parquet( 'ds/prod/ClientConnect/CMD/data/nm/trans_3y_history.csv.gz','nmg-analytics-ds-prod')\n",
    "trans_df = retrieve_trans(trans_df, ['designer_id','designer','division_id','division'])\n",
    "cols = ['designer','division']\n",
    "trans_df = concat_columns(trans_df, cols , 'category', sep=\" \")\n",
    "trans_df.head()"
   ]
  },
  {
   "cell_type": "code",
   "execution_count": 11,
   "metadata": {},
   "outputs": [
    {
     "data": {
      "text/html": [
       "<div>\n",
       "<style scoped>\n",
       "    .dataframe tbody tr th:only-of-type {\n",
       "        vertical-align: middle;\n",
       "    }\n",
       "\n",
       "    .dataframe tbody tr th {\n",
       "        vertical-align: top;\n",
       "    }\n",
       "\n",
       "    .dataframe thead th {\n",
       "        text-align: right;\n",
       "    }\n",
       "</style>\n",
       "<table border=\"1\" class=\"dataframe\">\n",
       "  <thead>\n",
       "    <tr style=\"text-align: right;\">\n",
       "      <th></th>\n",
       "      <th>cmd_id</th>\n",
       "      <th>category</th>\n",
       "      <th>designer_id</th>\n",
       "      <th>designer</th>\n",
       "      <th>division_id</th>\n",
       "      <th>division</th>\n",
       "      <th>score</th>\n",
       "    </tr>\n",
       "  </thead>\n",
       "  <tbody>\n",
       "    <tr>\n",
       "      <th>0</th>\n",
       "      <td>002vWGm</td>\n",
       "      <td>Bottega Veneta Designer Handbags</td>\n",
       "      <td>10811</td>\n",
       "      <td>Bottega Veneta</td>\n",
       "      <td>35</td>\n",
       "      <td>Designer Handbags</td>\n",
       "      <td>4</td>\n",
       "    </tr>\n",
       "    <tr>\n",
       "      <th>1</th>\n",
       "      <td>002vWGm</td>\n",
       "      <td>Chanel Jewelry</td>\n",
       "      <td>11078</td>\n",
       "      <td>Chanel</td>\n",
       "      <td>56</td>\n",
       "      <td>Jewelry</td>\n",
       "      <td>1</td>\n",
       "    </tr>\n",
       "    <tr>\n",
       "      <th>2</th>\n",
       "      <td>002vWGm</td>\n",
       "      <td>Gianvito Rossi Ladies Shoes</td>\n",
       "      <td>12104</td>\n",
       "      <td>Gianvito Rossi</td>\n",
       "      <td>34</td>\n",
       "      <td>Ladies Shoes</td>\n",
       "      <td>1</td>\n",
       "    </tr>\n",
       "    <tr>\n",
       "      <th>3</th>\n",
       "      <td>002vWGm</td>\n",
       "      <td>Moussy Vintage Contemporary Apparel</td>\n",
       "      <td>23717</td>\n",
       "      <td>Moussy Vintage</td>\n",
       "      <td>14</td>\n",
       "      <td>Contemporary Apparel</td>\n",
       "      <td>1</td>\n",
       "    </tr>\n",
       "    <tr>\n",
       "      <th>4</th>\n",
       "      <td>002wpFg</td>\n",
       "      <td>A.L.C. Contemporary Apparel</td>\n",
       "      <td>10047</td>\n",
       "      <td>A.L.C.</td>\n",
       "      <td>14</td>\n",
       "      <td>Contemporary Apparel</td>\n",
       "      <td>5</td>\n",
       "    </tr>\n",
       "  </tbody>\n",
       "</table>\n",
       "</div>"
      ],
      "text/plain": [
       "    cmd_id                             category designer_id        designer  \\\n",
       "0  002vWGm     Bottega Veneta Designer Handbags       10811  Bottega Veneta   \n",
       "1  002vWGm                       Chanel Jewelry       11078          Chanel   \n",
       "2  002vWGm          Gianvito Rossi Ladies Shoes       12104  Gianvito Rossi   \n",
       "3  002vWGm  Moussy Vintage Contemporary Apparel       23717  Moussy Vintage   \n",
       "4  002wpFg          A.L.C. Contemporary Apparel       10047          A.L.C.   \n",
       "\n",
       "   division_id              division  score  \n",
       "0           35     Designer Handbags      4  \n",
       "1           56               Jewelry      1  \n",
       "2           34          Ladies Shoes      1  \n",
       "3           14  Contemporary Apparel      1  \n",
       "4           14  Contemporary Apparel      5  "
      ]
     },
     "execution_count": 11,
     "metadata": {},
     "output_type": "execute_result"
    }
   ],
   "source": [
    "trans_df = agg_category(browse_df, trans_df,'category')\n",
    "trans_df.head()"
   ]
  },
  {
   "cell_type": "code",
   "execution_count": 12,
   "metadata": {},
   "outputs": [
    {
     "data": {
      "text/plain": [
       "True"
      ]
     },
     "execution_count": 12,
     "metadata": {},
     "output_type": "execute_result"
    }
   ],
   "source": [
    "dir_name = 'ds/prod/ClientConnect/CMD/data/nm/'\n",
    "save_df_to_s3_gz(trans_df, dir_name, 'cust_designer_division_rank.csv', bucket_nameX='nmg-analytics-ds-prod')\n"
   ]
  },
  {
   "cell_type": "markdown",
   "metadata": {},
   "source": [
    "## 7.Designer_Division_Class"
   ]
  },
  {
   "cell_type": "code",
   "execution_count": 9,
   "metadata": {},
   "outputs": [
    {
     "data": {
      "text/html": [
       "<div>\n",
       "<style scoped>\n",
       "    .dataframe tbody tr th:only-of-type {\n",
       "        vertical-align: middle;\n",
       "    }\n",
       "\n",
       "    .dataframe tbody tr th {\n",
       "        vertical-align: top;\n",
       "    }\n",
       "\n",
       "    .dataframe thead th {\n",
       "        text-align: right;\n",
       "    }\n",
       "</style>\n",
       "<table border=\"1\" class=\"dataframe\">\n",
       "  <thead>\n",
       "    <tr style=\"text-align: right;\">\n",
       "      <th></th>\n",
       "      <th>cmd_id</th>\n",
       "      <th>category</th>\n",
       "      <th>designer_id</th>\n",
       "      <th>designer</th>\n",
       "      <th>division_id</th>\n",
       "      <th>division</th>\n",
       "      <th>class_id</th>\n",
       "      <th>class</th>\n",
       "    </tr>\n",
       "  </thead>\n",
       "  <tbody>\n",
       "    <tr>\n",
       "      <th>0</th>\n",
       "      <td>18M1XY0T</td>\n",
       "      <td>Eileen Fisher Women's Apparel Jackets</td>\n",
       "      <td>11658</td>\n",
       "      <td>Eileen Fisher</td>\n",
       "      <td>11</td>\n",
       "      <td>Women's Apparel</td>\n",
       "      <td>3</td>\n",
       "      <td>Jackets</td>\n",
       "    </tr>\n",
       "    <tr>\n",
       "      <th>1</th>\n",
       "      <td>iFUyae3</td>\n",
       "      <td>Christian Louboutin Ladies Shoes Sandals</td>\n",
       "      <td>11135</td>\n",
       "      <td>Christian Louboutin</td>\n",
       "      <td>34</td>\n",
       "      <td>Ladies Shoes</td>\n",
       "      <td>54</td>\n",
       "      <td>Sandals</td>\n",
       "    </tr>\n",
       "    <tr>\n",
       "      <th>3</th>\n",
       "      <td>jUj2I3B</td>\n",
       "      <td>Prada Ladies Shoes Sandals</td>\n",
       "      <td>12136</td>\n",
       "      <td>Prada</td>\n",
       "      <td>34</td>\n",
       "      <td>Ladies Shoes</td>\n",
       "      <td>54</td>\n",
       "      <td>Sandals</td>\n",
       "    </tr>\n",
       "    <tr>\n",
       "      <th>4</th>\n",
       "      <td>kLwm15V</td>\n",
       "      <td>Talbot Runhof Fine Apparel Dress</td>\n",
       "      <td>15074</td>\n",
       "      <td>Talbot Runhof</td>\n",
       "      <td>81</td>\n",
       "      <td>Fine Apparel</td>\n",
       "      <td>124</td>\n",
       "      <td>Dress</td>\n",
       "    </tr>\n",
       "    <tr>\n",
       "      <th>5</th>\n",
       "      <td>wnf9BZ3</td>\n",
       "      <td>W. Kleinberg Men's Belts</td>\n",
       "      <td>15580</td>\n",
       "      <td>W. Kleinberg</td>\n",
       "      <td>44</td>\n",
       "      <td>Men's</td>\n",
       "      <td>877</td>\n",
       "      <td>Belts</td>\n",
       "    </tr>\n",
       "  </tbody>\n",
       "</table>\n",
       "</div>"
      ],
      "text/plain": [
       "     cmd_id                                  category designer_id  \\\n",
       "0  18M1XY0T     Eileen Fisher Women's Apparel Jackets       11658   \n",
       "1   iFUyae3  Christian Louboutin Ladies Shoes Sandals       11135   \n",
       "3   jUj2I3B                Prada Ladies Shoes Sandals       12136   \n",
       "4   kLwm15V          Talbot Runhof Fine Apparel Dress       15074   \n",
       "5   wnf9BZ3                  W. Kleinberg Men's Belts       15580   \n",
       "\n",
       "              designer  division_id         division  class_id    class  \n",
       "0        Eileen Fisher           11  Women's Apparel         3  Jackets  \n",
       "1  Christian Louboutin           34     Ladies Shoes        54  Sandals  \n",
       "3                Prada           34     Ladies Shoes        54  Sandals  \n",
       "4        Talbot Runhof           81     Fine Apparel       124    Dress  \n",
       "5         W. Kleinberg           44            Men's       877    Belts  "
      ]
     },
     "execution_count": 9,
     "metadata": {},
     "output_type": "execute_result"
    }
   ],
   "source": [
    "browse_df = query_browse('designer_id,designer, division_id, division_name as division, class_id, class_name as class')\n",
    "browse_df.dropna(axis=0, how= 'any',inplace= True)\n",
    "browse_df = concat_columns(browse_df, ['designer','division','class'], 'category', sep=\" \")\n",
    "browse_df.division_id = browse_df.division_id.astype('int')\n",
    "browse_df.class_id = browse_df.class_id.astype('int')\n",
    "browse_df.head()"
   ]
  },
  {
   "cell_type": "code",
   "execution_count": 10,
   "metadata": {},
   "outputs": [
    {
     "data": {
      "text/html": [
       "<div>\n",
       "<style scoped>\n",
       "    .dataframe tbody tr th:only-of-type {\n",
       "        vertical-align: middle;\n",
       "    }\n",
       "\n",
       "    .dataframe tbody tr th {\n",
       "        vertical-align: top;\n",
       "    }\n",
       "\n",
       "    .dataframe thead th {\n",
       "        text-align: right;\n",
       "    }\n",
       "</style>\n",
       "<table border=\"1\" class=\"dataframe\">\n",
       "  <thead>\n",
       "    <tr style=\"text-align: right;\">\n",
       "      <th></th>\n",
       "      <th>cmd_id</th>\n",
       "      <th>designer_id</th>\n",
       "      <th>designer</th>\n",
       "      <th>division_id</th>\n",
       "      <th>division</th>\n",
       "      <th>class_id</th>\n",
       "      <th>class</th>\n",
       "    </tr>\n",
       "  </thead>\n",
       "  <tbody>\n",
       "    <tr>\n",
       "      <th>0</th>\n",
       "      <td>17EtLPS8</td>\n",
       "      <td>14069</td>\n",
       "      <td>Parker</td>\n",
       "      <td>14</td>\n",
       "      <td>Contemporary Apparel</td>\n",
       "      <td>124</td>\n",
       "      <td>Dress</td>\n",
       "    </tr>\n",
       "    <tr>\n",
       "      <th>1</th>\n",
       "      <td>uaAJGq0</td>\n",
       "      <td>12751</td>\n",
       "      <td>Johnny Was</td>\n",
       "      <td>11</td>\n",
       "      <td>Women's Apparel</td>\n",
       "      <td>1</td>\n",
       "      <td>Shirts/Tops</td>\n",
       "    </tr>\n",
       "    <tr>\n",
       "      <th>2</th>\n",
       "      <td>qVD9A2t</td>\n",
       "      <td>12797</td>\n",
       "      <td>Lafayette 148 New York</td>\n",
       "      <td>11</td>\n",
       "      <td>Women's Apparel</td>\n",
       "      <td>4</td>\n",
       "      <td>Pants</td>\n",
       "    </tr>\n",
       "    <tr>\n",
       "      <th>3</th>\n",
       "      <td>ryYPgRF</td>\n",
       "      <td>12645</td>\n",
       "      <td>Jay Godfrey</td>\n",
       "      <td>11</td>\n",
       "      <td>Women's Apparel</td>\n",
       "      <td>139</td>\n",
       "      <td>Gowns</td>\n",
       "    </tr>\n",
       "    <tr>\n",
       "      <th>4</th>\n",
       "      <td>ytUWIo1</td>\n",
       "      <td>10781</td>\n",
       "      <td>Bobbi Brown</td>\n",
       "      <td>53</td>\n",
       "      <td>Beauty</td>\n",
       "      <td>317</td>\n",
       "      <td>Makeup</td>\n",
       "    </tr>\n",
       "  </tbody>\n",
       "</table>\n",
       "</div>"
      ],
      "text/plain": [
       "     cmd_id designer_id                designer  division_id  \\\n",
       "0  17EtLPS8       14069                  Parker           14   \n",
       "1   uaAJGq0       12751              Johnny Was           11   \n",
       "2   qVD9A2t       12797  Lafayette 148 New York           11   \n",
       "3   ryYPgRF       12645             Jay Godfrey           11   \n",
       "4   ytUWIo1       10781             Bobbi Brown           53   \n",
       "\n",
       "               division  class_id        class  \n",
       "0  Contemporary Apparel       124        Dress  \n",
       "1       Women's Apparel         1  Shirts/Tops  \n",
       "2       Women's Apparel         4        Pants  \n",
       "3       Women's Apparel       139        Gowns  \n",
       "4                Beauty       317       Makeup  "
      ]
     },
     "execution_count": 10,
     "metadata": {},
     "output_type": "execute_result"
    }
   ],
   "source": [
    "trans_df = read_df_from_s3_parquet( 'ds/prod/ClientConnect/CMD/data/nm/trans_3y_history.csv.gz','nmg-analytics-ds-prod')\n",
    "trans_df = retrieve_trans(trans_df, ['designer_id','designer','division_id','division','class_id','class'])\n",
    "trans_df.head()"
   ]
  },
  {
   "cell_type": "code",
   "execution_count": 11,
   "metadata": {},
   "outputs": [
    {
     "data": {
      "text/html": [
       "<div>\n",
       "<style scoped>\n",
       "    .dataframe tbody tr th:only-of-type {\n",
       "        vertical-align: middle;\n",
       "    }\n",
       "\n",
       "    .dataframe tbody tr th {\n",
       "        vertical-align: top;\n",
       "    }\n",
       "\n",
       "    .dataframe thead th {\n",
       "        text-align: right;\n",
       "    }\n",
       "</style>\n",
       "<table border=\"1\" class=\"dataframe\">\n",
       "  <thead>\n",
       "    <tr style=\"text-align: right;\">\n",
       "      <th></th>\n",
       "      <th>cmd_id</th>\n",
       "      <th>category</th>\n",
       "      <th>designer_id</th>\n",
       "      <th>designer</th>\n",
       "      <th>division_id</th>\n",
       "      <th>division</th>\n",
       "      <th>class_id</th>\n",
       "      <th>class</th>\n",
       "      <th>score</th>\n",
       "    </tr>\n",
       "  </thead>\n",
       "  <tbody>\n",
       "    <tr>\n",
       "      <th>0</th>\n",
       "      <td>002vWGm</td>\n",
       "      <td>Bottega Veneta Designer Handbags Top Handle</td>\n",
       "      <td>10811</td>\n",
       "      <td>Bottega Veneta</td>\n",
       "      <td>35</td>\n",
       "      <td>Designer Handbags</td>\n",
       "      <td>29</td>\n",
       "      <td>Top Handle</td>\n",
       "      <td>3</td>\n",
       "    </tr>\n",
       "    <tr>\n",
       "      <th>1</th>\n",
       "      <td>002vWGm</td>\n",
       "      <td>Chanel Jewelry Rings</td>\n",
       "      <td>11078</td>\n",
       "      <td>Chanel</td>\n",
       "      <td>56</td>\n",
       "      <td>Jewelry</td>\n",
       "      <td>40</td>\n",
       "      <td>Rings</td>\n",
       "      <td>1</td>\n",
       "    </tr>\n",
       "    <tr>\n",
       "      <th>2</th>\n",
       "      <td>002vWGm</td>\n",
       "      <td>Gianvito Rossi Ladies Shoes Sandals</td>\n",
       "      <td>12104</td>\n",
       "      <td>Gianvito Rossi</td>\n",
       "      <td>34</td>\n",
       "      <td>Ladies Shoes</td>\n",
       "      <td>54</td>\n",
       "      <td>Sandals</td>\n",
       "      <td>1</td>\n",
       "    </tr>\n",
       "    <tr>\n",
       "      <th>3</th>\n",
       "      <td>002vWGm</td>\n",
       "      <td>Moussy Vintage Contemporary Apparel Denim</td>\n",
       "      <td>23717</td>\n",
       "      <td>Moussy Vintage</td>\n",
       "      <td>14</td>\n",
       "      <td>Contemporary Apparel</td>\n",
       "      <td>6</td>\n",
       "      <td>Denim</td>\n",
       "      <td>1</td>\n",
       "    </tr>\n",
       "    <tr>\n",
       "      <th>4</th>\n",
       "      <td>002wpFg</td>\n",
       "      <td>A.L.C. Contemporary Apparel Dress</td>\n",
       "      <td>10047</td>\n",
       "      <td>A.L.C.</td>\n",
       "      <td>14</td>\n",
       "      <td>Contemporary Apparel</td>\n",
       "      <td>124</td>\n",
       "      <td>Dress</td>\n",
       "      <td>5</td>\n",
       "    </tr>\n",
       "  </tbody>\n",
       "</table>\n",
       "</div>"
      ],
      "text/plain": [
       "    cmd_id                                     category designer_id  \\\n",
       "0  002vWGm  Bottega Veneta Designer Handbags Top Handle       10811   \n",
       "1  002vWGm                         Chanel Jewelry Rings       11078   \n",
       "2  002vWGm          Gianvito Rossi Ladies Shoes Sandals       12104   \n",
       "3  002vWGm    Moussy Vintage Contemporary Apparel Denim       23717   \n",
       "4  002wpFg            A.L.C. Contemporary Apparel Dress       10047   \n",
       "\n",
       "         designer  division_id              division  class_id       class  \\\n",
       "0  Bottega Veneta           35     Designer Handbags        29  Top Handle   \n",
       "1          Chanel           56               Jewelry        40       Rings   \n",
       "2  Gianvito Rossi           34          Ladies Shoes        54     Sandals   \n",
       "3  Moussy Vintage           14  Contemporary Apparel         6       Denim   \n",
       "4          A.L.C.           14  Contemporary Apparel       124       Dress   \n",
       "\n",
       "   score  \n",
       "0      3  \n",
       "1      1  \n",
       "2      1  \n",
       "3      1  \n",
       "4      5  "
      ]
     },
     "execution_count": 11,
     "metadata": {},
     "output_type": "execute_result"
    }
   ],
   "source": [
    "cols = ['designer','division','class']\n",
    "trans_df = concat_columns(trans_df, cols , 'category', sep=\" \")\n",
    "trans_df = agg_category(browse_df, trans_df,'category')\n",
    "trans_df.head()"
   ]
  },
  {
   "cell_type": "code",
   "execution_count": 12,
   "metadata": {},
   "outputs": [
    {
     "data": {
      "text/plain": [
       "True"
      ]
     },
     "execution_count": 12,
     "metadata": {},
     "output_type": "execute_result"
    }
   ],
   "source": [
    "dir_name = 'ds/prod/ClientConnect/CMD/data/nm/'\n",
    "save_df_to_s3_gz(trans_df, dir_name, 'cust_designer_division_class_rank.csv', bucket_nameX='nmg-analytics-ds-prod')\n"
   ]
  },
  {
   "cell_type": "markdown",
   "metadata": {},
   "source": [
    "## Business rule"
   ]
  },
  {
   "cell_type": "raw",
   "metadata": {},
   "source": [
    "# 1. Remove any email from neimanmarcus, bergdorfgoodman\n",
    "#Removing neimanmarcusstore emails\n",
    "df_remove = browse_date[(browse_data.email.str.contains(\"neimanmarcus\"))]\n",
    "#Removing the rows \n",
    "browse_data = browse_data.drop(df_2_remove.index)\n",
    "\n",
    "#Removing neimanmarcusstore emails\n",
    "df_remove = browse_data[(browse_data.email.str.contains(\"neimanmaracus.com\"))]\n",
    "#Removing the rows \n",
    "browse_data = browse_data.drop(df_remove.index)\n",
    "\n",
    "#Removing bergdorfgoodman emails\n",
    "df_remove = browse_data[(browse_data.email.str.contains(\"bergdorfgoodman\"))]\n",
    "#Removing the rows \n",
    "browse_data = browse_data.drop(df_remove.index)\n",
    "\n",
    "#Removing duplicates\n",
    "browse_data = browse_data.drop_duplicates(['e_mail','brand_name'])\n",
    "browse_data.head(10)"
   ]
  },
  {
   "cell_type": "markdown",
   "metadata": {},
   "source": [
    "### Load transaction data"
   ]
  },
  {
   "cell_type": "code",
   "execution_count": null,
   "metadata": {},
   "outputs": [],
   "source": []
  },
  {
   "cell_type": "markdown",
   "metadata": {},
   "source": [
    "**Notice**: The following cell is the current logic by NM that will be used later"
   ]
  },
  {
   "cell_type": "raw",
   "metadata": {},
   "source": [
    "# Removing Beauty division of 53, division_id of 98 as well as Gucci,Louis Vuitton a 98\n",
    "trans_df = trans_df.loc[trans_df['division_id'] != 53]\n",
    "trans_df.head()"
   ]
  },
  {
   "cell_type": "raw",
   "metadata": {},
   "source": [
    "#Loading brand exclusion file from S3\n",
    "obj1 = client.get_object(Bucket='nmg-analytics-ds-prod', Key='ds/'+env+'/brand_affinity/'+brand+'/Exclusions.csv')\n",
    "exclusion = pd.read_csv(obj1['Body'])\n",
    "\n",
    "#Removing exclusion brands\n",
    "keys = list(exclusion.columns.values)\n",
    "i1 = browse_data.set_index(keys).index\n",
    "i2 = exclusion.set_index(keys).index\n",
    "browse_data = browse_data[~i1.isin(i2)]"
   ]
  },
  {
   "cell_type": "markdown",
   "metadata": {},
   "source": [
    "#### Creating customer profile df with browse and transaction data"
   ]
  },
  {
   "cell_type": "code",
   "execution_count": null,
   "metadata": {},
   "outputs": [],
   "source": [
    "# Merge profiles\n",
    "cust_profile = pd.merge(browse_data, trans_df,  how='outer', on=['cmd_id','division'])\n",
    "cust_profile.isnull().sum()"
   ]
  },
  {
   "cell_type": "code",
   "execution_count": null,
   "metadata": {},
   "outputs": [],
   "source": [
    "del browse_data, trans_df"
   ]
  },
  {
   "cell_type": "code",
   "execution_count": null,
   "metadata": {},
   "outputs": [],
   "source": [
    "cust_profile.fillna(value=0, axis=1, inplace = True)\n",
    "cust_profile.head()"
   ]
  },
  {
   "cell_type": "markdown",
   "metadata": {},
   "source": [
    "**Notice**: customer brand taste profile (implicit ranking) is create by the following logic:   \n",
    "total_transaction * 0.8 + total_browsed * 0.2   \n",
    "\n",
    "* Any information of duration of time, customer stayed in the particular page? \n",
    "* historical trans that boughts similar products (collection) \n",
    "* Whether purchased product w/w o promotion? espcially the last two transactions: w promotion may indicate customer make purchase by price or w o illustrate by the need\n",
    "* check purchase pattern by season, with or without promo, repeat of one time purchase in the last 2 year?: a seasonal may be a factor to buy a gift as Xmas to someone.\n"
   ]
  },
  {
   "cell_type": "code",
   "execution_count": null,
   "metadata": {},
   "outputs": [],
   "source": [
    "#Multiplying Times_Browsed and Total_Transactions by weights to build customer category taste profile\n",
    "cust_profile['Transactions_W'] = cust_profile['Total_transactions'].apply(lambda x: x*0.8)\n",
    "cust_profile['Browsed_W'] = cust_profile['Times_Browse'].apply(lambda x: x*0.2)\n",
    "\n",
    "#Summing the two weighted columns to obtained implicit rank unscaled \n",
    "cust_profile['rank_implicit'] = cust_profile['Transactions_W'] + cust_profile['Browsed_W']\n",
    "cust_profile = cust_profile.dropna(subset=['rank_implicit'])#Dropping NAN values\n",
    "cust_profile['rank_implicit'] = pd.to_numeric(cust_profile['rank_implicit'], errors='coerce')\n",
    "cust_profile.head(10)"
   ]
  },
  {
   "cell_type": "code",
   "execution_count": null,
   "metadata": {},
   "outputs": [],
   "source": [
    "\n",
    "#Bucketizing column 'rank_implicit' based on quantiles so that it ranges from 1-5\n",
    "cust_profile['rank_bckt'] = np.where(cust_profile['rank_implicit'] < cust_profile['rank_implicit'].quantile(0.25),1,\n",
    "\tnp.where((cust_profile['rank_implicit'] >= cust_profile['rank_implicit'].quantile(0.25)) & (cust_profile['rank_implicit'] < cust_profile['rank_implicit'].quantile(0.5)),2,\n",
    "\tnp.where((cust_profile['rank_implicit'] >= cust_profile['rank_implicit'].quantile(0.5)) & (cust_profile['rank_implicit'] < cust_profile['rank_implicit'].quantile(0.75)),3,\n",
    "\tnp.where((cust_profile['rank_implicit'] >= cust_profile['rank_implicit'].quantile(0.75)) & (cust_profile['rank_implicit'] < cust_profile['rank_implicit'].quantile(0.85)),4,5))))\n",
    "cust_profile.head()"
   ]
  },
  {
   "cell_type": "code",
   "execution_count": null,
   "metadata": {},
   "outputs": [],
   "source": [
    "cust_profile.rank_bckt.value_counts()"
   ]
  },
  {
   "cell_type": "code",
   "execution_count": null,
   "metadata": {},
   "outputs": [],
   "source": [
    "cust_profile.rank_bckt.unique()"
   ]
  },
  {
   "cell_type": "code",
   "execution_count": null,
   "metadata": {},
   "outputs": [],
   "source": [
    "cust_profile.drop(['Times_Browse','Total_transactions','Transactions_W','Browsed_W','rank_implicit'], axis=1, inplace= True)"
   ]
  },
  {
   "cell_type": "code",
   "execution_count": null,
   "metadata": {},
   "outputs": [],
   "source": [
    "# Grabbing top 15 brand_name combinations for each customer\n",
    "cust_profile = cust_profile.sort_values(['cmd_id','rank_bckt'], ascending=False)\n",
    "cust_profile = cust_profile.groupby(['cmd_id']).head(15)\n",
    "cust_profile.head()"
   ]
  },
  {
   "cell_type": "code",
   "execution_count": null,
   "metadata": {},
   "outputs": [],
   "source": [
    "cust_profile.nunique()"
   ]
  },
  {
   "cell_type": "code",
   "execution_count": null,
   "metadata": {},
   "outputs": [],
   "source": [
    "cust_profile.shape"
   ]
  },
  {
   "cell_type": "code",
   "execution_count": null,
   "metadata": {},
   "outputs": [],
   "source": [
    "# Loading libraries for S3 bucket connection\n",
    "import boto3\n",
    "import io\n",
    "from io import StringIO\n",
    "client = boto3.client('s3') \n",
    "resource = boto3.resource('s3') "
   ]
  },
  {
   "cell_type": "code",
   "execution_count": null,
   "metadata": {},
   "outputs": [],
   "source": [
    "# Saving results to S3\n",
    "env='prod'\n",
    "brand='nm'\n",
    "csv_buffer = StringIO()\n",
    "cust_profile.to_csv(csv_buffer,index=False)\n",
    "resource.Object('nmg-analytics-ds-prod', 'ds/{0}/ClientConnect/CMD/data/{1}/cust_division_rank.csv'.format(env,brand)).put(Body=csv_buffer.getvalue())"
   ]
  },
  {
   "cell_type": "markdown",
   "metadata": {},
   "source": [
    "## Retrieve  new rating feature:   \n",
    "based on [paper](https://citeseerx.ist.psu.edu/viewdoc/download?doi=10.1.1.709.825&rep=rep1&type=pdf)    \n",
    "**credit:** Xoriant team"
   ]
  },
  {
   "cell_type": "markdown",
   "metadata": {},
   "source": [
    "## To-do: convert web_item_id --> Designer"
   ]
  },
  {
   "cell_type": "code",
   "execution_count": null,
   "metadata": {},
   "outputs": [],
   "source": [
    "# REad data from S3\n",
    "obj1 = client.get_object(Bucket='nmg-analytics-ds-prod', Key='ds/prod/ClientConnect/CMD/data/nm/cust_rating.csv')\n",
    "df = pd.read_csv(obj1['Body'])\n",
    "\n",
    "df.head()"
   ]
  },
  {
   "cell_type": "code",
   "execution_count": null,
   "metadata": {},
   "outputs": [],
   "source": [
    "df.shape"
   ]
  },
  {
   "cell_type": "code",
   "execution_count": null,
   "metadata": {},
   "outputs": [],
   "source": [
    "cust_profile = cust_profile.merge(df, left_on='cmd_id', right_on= 'curr_customer_id' ,how= 'left')\n",
    "cust_profile['combined_rating'] = cust_profile['rank_bckt'] + cust_profile['rating']\n",
    "cust_profile.drop(['curr_customer_id','action_type','web_item_id','day','number_of_events','sum_of_events','Pu'],axis = 1, inplace = True)\n",
    "cust_profile.fillna(0, inplace= True)"
   ]
  },
  {
   "cell_type": "code",
   "execution_count": null,
   "metadata": {},
   "outputs": [],
   "source": [
    "cust_profile.head()\n"
   ]
  },
  {
   "cell_type": "code",
   "execution_count": null,
   "metadata": {},
   "outputs": [],
   "source": [
    "cust_profile.drop('rating', axis=1, inplace = True)\n",
    "cust_profile.head()  "
   ]
  },
  {
   "cell_type": "code",
   "execution_count": null,
   "metadata": {},
   "outputs": [],
   "source": [
    "# Saving results to S3\n",
    "env='prod'\n",
    "brand='nm'\n",
    "csv_buffer = StringIO()\n",
    "cust_profile.to_csv(csv_buffer,index=False)\n",
    "resource.Object('nmg-analytics-ds-prod', 'ds/{0}/ClientConnect/CMD/data/{1}/cust_division.csv'.format(env,brand)).put(Body=csv_buffer.getvalue())"
   ]
  },
  {
   "cell_type": "code",
   "execution_count": null,
   "metadata": {},
   "outputs": [],
   "source": []
  }
 ],
 "metadata": {
  "kernelspec": {
   "display_name": "conda_python3",
   "language": "python",
   "name": "conda_python3"
  },
  "language_info": {
   "codemirror_mode": {
    "name": "ipython",
    "version": 3
   },
   "file_extension": ".py",
   "mimetype": "text/x-python",
   "name": "python",
   "nbconvert_exporter": "python",
   "pygments_lexer": "ipython3",
   "version": "3.6.13"
  }
 },
 "nbformat": 4,
 "nbformat_minor": 4
}
