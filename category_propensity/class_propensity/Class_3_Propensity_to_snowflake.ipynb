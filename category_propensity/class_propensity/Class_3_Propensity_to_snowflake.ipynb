{
 "cells": [
  {
   "cell_type": "markdown",
   "id": "growing-friendly",
   "metadata": {},
   "source": [
    "Last update: Feb 26, 2021"
   ]
  },
  {
   "cell_type": "code",
   "execution_count": 1,
   "id": "naval-trace",
   "metadata": {},
   "outputs": [],
   "source": [
    "# Loading libraries for S3 bucket connection\n",
    "\n",
    "import io\n",
    "import sys\n",
    "import boto3\n",
    "import numpy as np\n",
    "import pandas as pd\n",
    "from datetime import date\n",
    "sys.path.append('/home/ec2-user/SageMaker/Category_propensity_recs/')\n",
    "#from io import StringIO\n",
    "client = boto3.client('s3') \n",
    "resource = boto3.resource('s3')"
   ]
  },
  {
   "cell_type": "code",
   "execution_count": 2,
   "id": "bronze-personal",
   "metadata": {},
   "outputs": [],
   "source": [
    "# Establishing snowflake and hive connections\n",
    "p = '/home/ec2-user/SageMaker/Repos/data-science'\n",
    "if p not in sys.path:\n",
    "    sys.path.append(p)\n",
    "    \n",
    "from nm_data_sci.common import ssm_cnx, s3_util, db_util\n",
    "sf_cnx = ssm_cnx.get_snowflake_connection()\n",
    "scur= sf_cnx.cursor()\n",
    "today = date.today()"
   ]
  },
  {
   "cell_type": "code",
   "execution_count": 3,
   "id": "judicial-copper",
   "metadata": {},
   "outputs": [],
   "source": [
    "import pyarrow.parquet as pq\n",
    "import s3fs\n",
    "s3 = s3fs.S3FileSystem()"
   ]
  },
  {
   "cell_type": "code",
   "execution_count": 4,
   "id": "false-compound",
   "metadata": {},
   "outputs": [],
   "source": [
    "#Code Parameters\n",
    "brand = 'nm'\n",
    "env = 'prod'"
   ]
  },
  {
   "cell_type": "code",
   "execution_count": 5,
   "id": "italic-spare",
   "metadata": {},
   "outputs": [],
   "source": [
    "def save_df_to_s3_gz(df_to_save,  dir_nameX, file_nameX, bucket_nameX='nmg-analytics-ds-prod'):\n",
    "    \"\"\"\n",
    "       dir_nameX  = 'ds/prod/brand_affinity/nm/output/'\n",
    "       file_nameX = 'designer_division_class_rank.csv'\n",
    "       save_df_to_s3_gz(df , dir_nameX, file_nameX )\n",
    "    \"\"\"\n",
    "    import gzip\n",
    "    from io import BytesIO, TextIOWrapper\n",
    "    \n",
    "    gz_buffer = BytesIO()\n",
    "\n",
    "    with gzip.GzipFile(mode='w', fileobj=gz_buffer) as gz_file:\n",
    "        df_to_save.to_csv(TextIOWrapper(gz_file, 'utf8'), index=False,header=True,sep=',')\n",
    "   \n",
    "    \n",
    "    s3_object = resource.Object(bucket_nameX, dir_nameX +file_nameX +'.gz')\n",
    "    s3_object.put(Body=gz_buffer.getvalue())    \n",
    " \n",
    "    return True\n"
   ]
  },
  {
   "cell_type": "code",
   "execution_count": 6,
   "id": "trained-rainbow",
   "metadata": {},
   "outputs": [],
   "source": [
    "def upload_production(file_in_S3, table_name):\n",
    "    scur.execute(\"\"\"delete from  NMEDWPRD_DB.MLDM.{0}\"\"\".format(table_name))\n",
    "\n",
    "    scur.execute(\"\"\"copy into NMEDWPRD_DB.MLDM.{1}\n",
    "    from @NMEDWPRD_DB.PUBLIC.AWS_DS_PRD_STG/ds/prod/product_propensity/nm/output/{0} file_format = (type = csv field_delimiter = ',') on_error = 'CONTINUE' \"\"\".format(file_in_S3, table_name))\n",
    "    return True"
   ]
  },
  {
   "cell_type": "markdown",
   "id": "developed-organic",
   "metadata": {},
   "source": [
    "### Class"
   ]
  },
  {
   "cell_type": "code",
   "execution_count": 7,
   "id": "proud-producer",
   "metadata": {},
   "outputs": [],
   "source": [
    "#final = pd.read_csv('s3://nmg-analytics-ds-prod/ds/prod/product_propensity/nm/output/class_propensity_rank/part-00000-a4b7d125-1b1b-4579-8131-9348ef0ca342-c000.csv.gz',header=None)\n",
    "final = pq.ParquetDataset('s3://nmg-analytics-ds-prod/ds/{0}/product_propensity/{1}/output/class_propensity'.format(env,brand), filesystem=s3).read_pandas().to_pandas()\n",
    "final.columns = ['cmd_id','category','class_id','class','propensity_score','propensity_rank','next_best_rank']\n",
    "final.sort_values(['cmd_id','propensity_rank'], inplace= True)\n"
   ]
  },
  {
   "cell_type": "code",
   "execution_count": 8,
   "id": "occupied-motorcycle",
   "metadata": {},
   "outputs": [
    {
     "data": {
      "text/html": [
       "<div>\n",
       "<style scoped>\n",
       "    .dataframe tbody tr th:only-of-type {\n",
       "        vertical-align: middle;\n",
       "    }\n",
       "\n",
       "    .dataframe tbody tr th {\n",
       "        vertical-align: top;\n",
       "    }\n",
       "\n",
       "    .dataframe thead th {\n",
       "        text-align: right;\n",
       "    }\n",
       "</style>\n",
       "<table border=\"1\" class=\"dataframe\">\n",
       "  <thead>\n",
       "    <tr style=\"text-align: right;\">\n",
       "      <th></th>\n",
       "      <th>cmd_id</th>\n",
       "      <th>category</th>\n",
       "      <th>class_id</th>\n",
       "      <th>class</th>\n",
       "      <th>propensity_score</th>\n",
       "      <th>propensity_rank</th>\n",
       "      <th>next_best_rank</th>\n",
       "      <th>RECORD_CREATION_DATETIME</th>\n",
       "      <th>RECORD_UPDATED_DATETIME</th>\n",
       "    </tr>\n",
       "  </thead>\n",
       "  <tbody>\n",
       "    <tr>\n",
       "      <th>0</th>\n",
       "      <td>002meRU</td>\n",
       "      <td>Shirts/Tops</td>\n",
       "      <td>1</td>\n",
       "      <td>Shirts/Tops</td>\n",
       "      <td>26.813187</td>\n",
       "      <td>1</td>\n",
       "      <td>1.0</td>\n",
       "      <td>2021-03-10 14:41:45.798429</td>\n",
       "      <td>2021-03-10 14:41:45.798459</td>\n",
       "    </tr>\n",
       "    <tr>\n",
       "      <th>1</th>\n",
       "      <td>002meRU</td>\n",
       "      <td>Dress</td>\n",
       "      <td>124</td>\n",
       "      <td>Dress</td>\n",
       "      <td>25.233414</td>\n",
       "      <td>2</td>\n",
       "      <td>2.0</td>\n",
       "      <td>2021-03-10 14:41:45.798429</td>\n",
       "      <td>2021-03-10 14:41:45.798459</td>\n",
       "    </tr>\n",
       "    <tr>\n",
       "      <th>2</th>\n",
       "      <td>002meRU</td>\n",
       "      <td>Makeup</td>\n",
       "      <td>317</td>\n",
       "      <td>Makeup</td>\n",
       "      <td>24.846125</td>\n",
       "      <td>3</td>\n",
       "      <td>3.0</td>\n",
       "      <td>2021-03-10 14:41:45.798429</td>\n",
       "      <td>2021-03-10 14:41:45.798459</td>\n",
       "    </tr>\n",
       "    <tr>\n",
       "      <th>3</th>\n",
       "      <td>002meRU</td>\n",
       "      <td>Skin Care</td>\n",
       "      <td>324</td>\n",
       "      <td>Skin Care</td>\n",
       "      <td>23.829633</td>\n",
       "      <td>4</td>\n",
       "      <td>4.0</td>\n",
       "      <td>2021-03-10 14:41:45.798429</td>\n",
       "      <td>2021-03-10 14:41:45.798459</td>\n",
       "    </tr>\n",
       "    <tr>\n",
       "      <th>4</th>\n",
       "      <td>002meRU</td>\n",
       "      <td>Sweaters</td>\n",
       "      <td>2</td>\n",
       "      <td>Sweaters</td>\n",
       "      <td>23.762590</td>\n",
       "      <td>5</td>\n",
       "      <td>5.0</td>\n",
       "      <td>2021-03-10 14:41:45.798429</td>\n",
       "      <td>2021-03-10 14:41:45.798459</td>\n",
       "    </tr>\n",
       "  </tbody>\n",
       "</table>\n",
       "</div>"
      ],
      "text/plain": [
       "    cmd_id     category class_id        class  propensity_score  \\\n",
       "0  002meRU  Shirts/Tops        1  Shirts/Tops         26.813187   \n",
       "1  002meRU        Dress      124        Dress         25.233414   \n",
       "2  002meRU       Makeup      317       Makeup         24.846125   \n",
       "3  002meRU    Skin Care      324    Skin Care         23.829633   \n",
       "4  002meRU     Sweaters        2     Sweaters         23.762590   \n",
       "\n",
       "   propensity_rank  next_best_rank   RECORD_CREATION_DATETIME  \\\n",
       "0                1             1.0 2021-03-10 14:41:45.798429   \n",
       "1                2             2.0 2021-03-10 14:41:45.798429   \n",
       "2                3             3.0 2021-03-10 14:41:45.798429   \n",
       "3                4             4.0 2021-03-10 14:41:45.798429   \n",
       "4                5             5.0 2021-03-10 14:41:45.798429   \n",
       "\n",
       "     RECORD_UPDATED_DATETIME  \n",
       "0 2021-03-10 14:41:45.798459  \n",
       "1 2021-03-10 14:41:45.798459  \n",
       "2 2021-03-10 14:41:45.798459  \n",
       "3 2021-03-10 14:41:45.798459  \n",
       "4 2021-03-10 14:41:45.798459  "
      ]
     },
     "execution_count": 8,
     "metadata": {},
     "output_type": "execute_result"
    }
   ],
   "source": [
    "ts_creation = pd.Timestamp(today)\n",
    "ts_creation = ts_creation.now()\n",
    "ts_update = ts_creation.now()\n",
    "\n",
    "final['RECORD_CREATION_DATETIME'] = ts_creation\n",
    "final['RECORD_UPDATED_DATETIME'] = ts_update\n",
    "final.head()"
   ]
  },
  {
   "cell_type": "code",
   "execution_count": 9,
   "id": "valid-indian",
   "metadata": {},
   "outputs": [],
   "source": [
    "n = 10     # number of recommended items required by ALS\n",
    "extra = 5 # number of recommended if the first n items (n rows) purchased"
   ]
  },
  {
   "cell_type": "code",
   "execution_count": 10,
   "id": "conditional-customs",
   "metadata": {},
   "outputs": [],
   "source": [
    "extend_df= final.next_best_rank.isnull().groupby([final['cmd_id']]).sum().astype(int).reset_index(name='null_count')\n",
    "keep_list= list(extend_df[extend_df.null_count < n]['cmd_id'])"
   ]
  },
  {
   "cell_type": "code",
   "execution_count": 11,
   "id": "voluntary-scheme",
   "metadata": {},
   "outputs": [],
   "source": [
    "final = final[(final['cmd_id'].isin(keep_list) & (final['propensity_rank'] <= n)) | ( np.logical_not(final['cmd_id'].isin(keep_list)) & (final['propensity_rank']<= n+ extra)) ]\n",
    "final.head(500).to_csv(\"class_propensity_T.csv\", index= False)"
   ]
  },
  {
   "cell_type": "code",
   "execution_count": 12,
   "id": "resistant-buying",
   "metadata": {},
   "outputs": [
    {
     "data": {
      "text/plain": [
       "True"
      ]
     },
     "execution_count": 12,
     "metadata": {},
     "output_type": "execute_result"
    }
   ],
   "source": [
    "dir_nameX  = 'ds/prod/product_propensity/nm/output/'\n",
    "file_nameX = 'Class_Propensity.csv'\n",
    "save_df_to_s3_gz(final,  dir_nameX, file_nameX, bucket_nameX='nmg-analytics-ds-prod')"
   ]
  },
  {
   "cell_type": "code",
   "execution_count": 13,
   "id": "quick-deficit",
   "metadata": {},
   "outputs": [
    {
     "data": {
      "text/plain": [
       "True"
      ]
     },
     "execution_count": 13,
     "metadata": {},
     "output_type": "execute_result"
    }
   ],
   "source": [
    "table_name = 'Class_Propensity_T'\n",
    "file_in_S3 = 'Class_Propensity.csv'\n",
    "upload_production(file_in_S3, table_name)"
   ]
  },
  {
   "cell_type": "code",
   "execution_count": null,
   "id": "lyric-contrast",
   "metadata": {},
   "outputs": [],
   "source": []
  }
 ],
 "metadata": {
  "kernelspec": {
   "display_name": "conda_python3",
   "language": "python",
   "name": "conda_python3"
  },
  "language_info": {
   "codemirror_mode": {
    "name": "ipython",
    "version": 3
   },
   "file_extension": ".py",
   "mimetype": "text/x-python",
   "name": "python",
   "nbconvert_exporter": "python",
   "pygments_lexer": "ipython3",
   "version": "3.6.10"
  }
 },
 "nbformat": 4,
 "nbformat_minor": 5
}
