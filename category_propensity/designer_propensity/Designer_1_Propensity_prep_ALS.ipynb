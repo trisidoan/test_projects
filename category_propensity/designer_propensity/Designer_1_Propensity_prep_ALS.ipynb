{
 "cells": [
  {
   "cell_type": "markdown",
   "metadata": {},
   "source": [
    "### The script \n",
    "- will prepare brand data which is used to recommend up to 5 recommended next category.\n",
    "- browse data = 49 and trans for recent 3 years.\n",
    "Note: for transaction data, we can avoid itm_item_status is void or cancel as select * \n",
    "From nmedwprd_db.pdwdm.all_sas_sales_and_open_orders_v\n",
    "where itm_item_status not in ('V','CX')\n",
    "\n",
    "it can be done as itm_item_status ='S'\n",
    "   \n",
    "**Last update**: Feb 28, 2021"
   ]
  },
  {
   "cell_type": "code",
   "execution_count": 1,
   "metadata": {},
   "outputs": [
    {
     "data": {
      "text/html": [
       "<style>.container { width:100% !important; }</style>"
      ],
      "text/plain": [
       "<IPython.core.display.HTML object>"
      ]
     },
     "metadata": {},
     "output_type": "display_data"
    },
    {
     "data": {
      "text/html": [
       "<style>.container { height:100% !important; }</style>"
      ],
      "text/plain": [
       "<IPython.core.display.HTML object>"
      ]
     },
     "metadata": {},
     "output_type": "display_data"
    }
   ],
   "source": [
    "import gc\n",
    "import sys\n",
    "import numpy as np\n",
    "import pandas as pd\n",
    "import boto3\n",
    "import gc\n",
    "\n",
    "client = boto3.client('s3') \n",
    "resource = boto3.resource('s3')\n",
    "from datetime import date,datetime, timedelta\n",
    "sys.path.append('/home/ec2-user/SageMaker/Category_propensity_recs/')\n",
    "from Functions import common_header as h, tools as t, data_functions as d, ml_functions as m"
   ]
  },
  {
   "cell_type": "markdown",
   "metadata": {},
   "source": [
    "#Code Parameters\n",
    "brand = 'nm'\n",
    "env = 'prod'\n",
    "wbrand='NM'"
   ]
  },
  {
   "cell_type": "code",
   "execution_count": 2,
   "metadata": {},
   "outputs": [
    {
     "data": {
      "text/plain": [
       "([datetime.date(2021, 1, 16), datetime.date(2021, 3, 6), 'nm'],\n",
       " (datetime.date(2021, 2, 4), datetime.date(2021, 3, 6), 'nm'))"
      ]
     },
     "execution_count": 2,
     "metadata": {},
     "output_type": "execute_result"
    }
   ],
   "source": [
    "# Date parameters\n",
    "window = 49\n",
    "duration = 30            # duration to retrieve categories that customers purcchased on\n",
    "today = date.today()\n",
    "idx = (today.weekday() + 1) % 7\n",
    "last_sat = today - timedelta(7+idx-6)\n",
    "\n",
    "run_1yr  = today - timedelta(days= 365)\n",
    "run_3yr  = last_sat - timedelta(days=365*3)\n",
    "recent_duration = (last_sat - h.timedelta(days= duration), last_sat, 'nm')\n",
    "days_browse     = [last_sat - h.timedelta(days=window), last_sat, 'nm']\n",
    "days_browse, recent_duration"
   ]
  },
  {
   "cell_type": "markdown",
   "metadata": {},
   "source": [
    "## Retrieve browse data of 49 days"
   ]
  },
  {
   "cell_type": "raw",
   "metadata": {},
   "source": [
    "## Retrieve browse data\n",
    "sql = \"\"\"\n",
    "    drop table if exists nmedwprd_db.mktsand.click_stream_data;\n",
    "    create table nmedwprd_db.mktsand.click_stream_data as\n",
    "    \n",
    "    select distinct x.date_time, x.curr_cmd_id, x.web_item_id, x.action_type, x.product_desc_text,\n",
    "    x.regular_price,p.Brand_id as Designer_id, p.Brand_name as Designer, p.DiVISION_ID, p.DIVISION_NAME, p.GROUP_NAME, p.class_Id, p.CLASS_NAME,\n",
    "    p.SUBCLASS_NAME, p.DEPARTMENT_NAME,  p.GROUP_ID from \n",
    "    (select distinct a.*, b.web_item_id, b.nmg_pim_id, b.product_desc_text, b.regular_price from \n",
    "    (select distinct c.*, e.curr_cmd_id from \n",
    "    (select date_time, email,our_id,\n",
    "    CASE\n",
    "       WHEN pagename like '%Cart%' THEN 'Cart_Add'\n",
    "       WHEN pagename = 'product detail' THEN 'Product_Page'\n",
    "       WHEN (post_purchaseid IS NOT NULL OR post_purchaseid > 0) THEN 'Purchase'\n",
    "       ELSE 'Other'\n",
    "     END AS action_type,\n",
    "       cast(split(s.value,';')[1] as string) as cmos_item_depict, \n",
    "       cast(split(s.value,';')[2] as string) as qty,\n",
    "       cast(split(s.value,';')[3] as string) as total_price\n",
    "    from (select date_time, post_evar49 as email, (CONCAT(visid_high, visid_low)) as our_id,\n",
    "           post_purchaseid, product_list, pagename\n",
    "            from nmedwprd_db.pdwdm.om_consolidated_subset_v\n",
    "                        where ( (post_evar49 is not null)\n",
    "                        and (event_date between '{0}'and '{1}')\n",
    "                        and (brand = '{2}') \n",
    "                        and (exclude_hit = 0) \n",
    "                        and (duplicate_purchase = 0)\n",
    "                        and (product_list IS NOT NULL)\n",
    "                        )) tst\n",
    "                        , \n",
    "                         LATERAL FLATTEN (INPUT => SPLIT(tst.product_list,',')) s\n",
    "                         where cmos_item_depict like 'NM%' and action_type <> 'Purchase') c\n",
    "    left join \n",
    "    (select distinct (CONCAT(visid_high, visid_low)) as our_id, curr_cmd_id \n",
    "     from NMEDWPRD_DB.DASAND.COOKIE2CUST where curr_cmd_id is not null) e \n",
    "     on c.our_id = e.our_id ) a\n",
    "     left join \n",
    "     (select distinct web_item_id, nmg_pim_id, product_desc_text, regular_price,\n",
    "      concat(concat(CMOS_CATALOG_CODE, '_'), CMOS_ITEM_CODE) as CMOS_ITEM_DEPICT\n",
    "     from nmedwprd_db.pdwdm.catalog_item_dim) b\n",
    "     on a.cmos_item_depict = b.cmos_item_depict) x \n",
    "      left join \n",
    "     (select distinct pim_id, BRAND_ID, BRAND_NAME, DIVISION_ID,DIVISION_NAME, GROUP_NAME,CLASS_ID, CLASS_NAME, SUBCLASS_NAME, DEPARTMENT_NAME, \n",
    "      BRAND_NAME as designer, GROUP_ID from  nmedwprd_db.pdwdm.product_dim\n",
    "     where pim_id  <> 'UNKNOWN' AND\n",
    "           BRAND_NAME <> 'UNKNOWN BRAND') p \n",
    "     on p.pim_id = x.nmg_pim_id\n",
    "     \n",
    "    ;\n",
    "\"\"\".format(*days_browse)\n",
    "_ = t.SF_read_sql_with_duplicate(sql)"
   ]
  },
  {
   "cell_type": "markdown",
   "metadata": {},
   "source": [
    "## Retrieved transaction data"
   ]
  },
  {
   "cell_type": "code",
   "execution_count": 3,
   "metadata": {},
   "outputs": [],
   "source": [
    "# Transaction data created by Designer_division_class_historical_ranking script for customers who are active from \n",
    "# the last recent 3 years\n",
    "\n",
    "def read_df_from_s3_parquet( save_dir_nameX, bucket_nameX):\n",
    "    import pyarrow.parquet as pq\n",
    "    import s3fs\n",
    "    s3 = s3fs.S3FileSystem()\n",
    "    \n",
    "    df = pq.ParquetDataset(\"s3a://\"+bucket_nameX+'/'+save_dir_nameX, filesystem=s3).read_pandas().to_pandas()\n",
    "    return df\n"
   ]
  },
  {
   "cell_type": "markdown",
   "metadata": {},
   "source": [
    "## Query trans data"
   ]
  },
  {
   "cell_type": "code",
   "execution_count": 4,
   "metadata": {},
   "outputs": [],
   "source": [
    "## Using this function to filter out data depending oon category\n",
    "def retrieve_trans(trans_df, categories):\n",
    "    \"\"\"  last 3 yearstransaction with transfomation implemented in Designer_division_class_historical_ranking \n",
    "    script\n",
    "    \"\"\"\n",
    "    cols = ['cmd_id']+ categories\n",
    "    return trans_df[cols]"
   ]
  },
  {
   "cell_type": "code",
   "execution_count": 5,
   "metadata": {},
   "outputs": [],
   "source": [
    "def query_browse(category):\n",
    "    \"\"\" Retrieve all browse data who perform any product search for the last 49 days\n",
    "    \"\"\"\n",
    "    sql=\"\"\"select curr_cmd_id cmd_id ,{0} from nmedwprd_db.mktsand.click_stream_data;\"\"\".format(category)\n",
    "    df = t.SF_read_sql_with_duplicate(sql)\n",
    "    df = df[df.cmd_id != '-1']\n",
    "    return df"
   ]
  },
  {
   "cell_type": "code",
   "execution_count": 6,
   "metadata": {},
   "outputs": [],
   "source": [
    "def concat_columns(df, cols_to_concat, new_col_name, sep=\" \"):\n",
    "    \"\"\" concatenate multiple columns\n",
    "    \"\"\"\n",
    "    tmp = df.copy(deep= True)\n",
    "    col_list = tmp.columns.values\n",
    "    tmp[new_col_name] = tmp[cols_to_concat[0]]\n",
    "    for col in cols_to_concat[1:]:\n",
    "        tmp[new_col_name] = tmp[new_col_name].astype(str) + sep + tmp[col].astype(str)\n",
    "    cols = tmp.columns.values\n",
    "    return tmp[[cols[0],cols[-1]] +list(cols[1:-1])]"
   ]
  },
  {
   "cell_type": "code",
   "execution_count": 7,
   "metadata": {},
   "outputs": [],
   "source": [
    "def agg_category(browse_df, trans_df, category):\n",
    "    \"\"\" Aggregate CLV features per customer including Monetary value, Frequency and Recency \n",
    "    \"\"\"\n",
    "    group = list(browse_df.columns)\n",
    "    browse_df = browse_df.groupby(group).size().reset_index(name= 'Times_Browse')\n",
    "    group = list(trans_df.columns)\n",
    "    trans_df  = trans_df.groupby(group).size().reset_index(name='Total_transactions')\n",
    "    # Merge profiles\n",
    "    cust= pd.merge(browse_df, trans_df,  how='outer', on= group)\n",
    "    del browse_df, trans_df\n",
    "    \n",
    "    cust.fillna(value=0, axis=1, inplace = True)\n",
    "   \n",
    "    #Multiplying Times_Browsed and Total_Transactions by weights to build customer category taste profile\n",
    "    cust['Transactions_W'] = cust['Total_transactions'].apply(lambda x: x*0.8)\n",
    "    cust['Browsed_W'] = cust['Times_Browse'].apply(lambda x: x*0.2)\n",
    "\n",
    "    #Summing the two weighted columns to obtained implicit rank unscaled \n",
    "    cust['rank_implicit'] = cust['Transactions_W'] + cust['Browsed_W']\n",
    "    cust = cust.dropna(subset=['rank_implicit']) #Dropping NAN values\n",
    "    cust['rank_implicit'] = pd.to_numeric(cust['rank_implicit'], errors='coerce')\n",
    "    \n",
    "    #Bucketizing column 'rank_implicit' based on quantiles so that it ranges from 1-5\n",
    "    cust['score'] = np.where(cust['rank_implicit'] < cust['rank_implicit'].quantile(0.25),1,\n",
    "\tnp.where((cust['rank_implicit'] >= cust['rank_implicit'].quantile(0.25)) & (cust['rank_implicit'] < cust['rank_implicit'].quantile(0.5)),2,\n",
    "\tnp.where((cust['rank_implicit'] >= cust['rank_implicit'].quantile(0.5)) & (cust['rank_implicit'] < cust['rank_implicit'].quantile(0.75)),3,\n",
    "\tnp.where((cust['rank_implicit'] >= cust['rank_implicit'].quantile(0.75)) & (cust['rank_implicit'] < cust['rank_implicit'].quantile(0.85)),4,5))))\n",
    "    cust.drop(['Times_Browse','Total_transactions','Transactions_W','Browsed_W','rank_implicit'], axis=1, inplace= True)\n",
    "    #cust.columns = ['cmd_id']+[category]+['score']\n",
    "    return cust"
   ]
  },
  {
   "cell_type": "code",
   "execution_count": 8,
   "metadata": {},
   "outputs": [],
   "source": [
    "def save_df_to_s3_gz(df_to_save,  dir_nameX, file_nameX, bucket_nameX='nmg-analytics-ds-prod'):\n",
    "    \"\"\"\n",
    "       dir_nameX  = 'ds/prod/brand_affinity/nm/output/'\n",
    "       file_nameX = 'designer_division_class_rank.csv'\n",
    "       save_df_to_s3_gz(df , dir_nameX, file_nameX )\n",
    "    \"\"\"\n",
    "    import gzip\n",
    "    from io import BytesIO, TextIOWrapper\n",
    "    \n",
    "    gz_buffer = BytesIO()\n",
    "\n",
    "    with gzip.GzipFile(mode='w', fileobj=gz_buffer) as gz_file:\n",
    "        df_to_save.to_csv(TextIOWrapper(gz_file, 'utf8'), index=False,header=True,sep=',')\n",
    "   \n",
    "    \n",
    "    s3_object = resource.Object(bucket_nameX, dir_nameX +file_nameX +'.gz')\n",
    "    s3_object.put(Body=gz_buffer.getvalue())    \n",
    " \n",
    "    return True"
   ]
  },
  {
   "cell_type": "markdown",
   "metadata": {},
   "source": [
    "## Designer "
   ]
  },
  {
   "cell_type": "code",
   "execution_count": 1,
   "metadata": {},
   "outputs": [
    {
     "ename": "NameError",
     "evalue": "name 'query_browse' is not defined",
     "output_type": "error",
     "traceback": [
      "\u001b[0;31m---------------------------------------------------------------------------\u001b[0m",
      "\u001b[0;31mNameError\u001b[0m                                 Traceback (most recent call last)",
      "\u001b[0;32m<ipython-input-1-425eac0e2174>\u001b[0m in \u001b[0;36m<module>\u001b[0;34m\u001b[0m\n\u001b[1;32m      1\u001b[0m \u001b[0mcategory\u001b[0m\u001b[0;34m=\u001b[0m \u001b[0;34m'designer'\u001b[0m\u001b[0;34m\u001b[0m\u001b[0;34m\u001b[0m\u001b[0m\n\u001b[0;32m----> 2\u001b[0;31m \u001b[0mbrowse_df\u001b[0m \u001b[0;34m=\u001b[0m \u001b[0mquery_browse\u001b[0m\u001b[0;34m(\u001b[0m\u001b[0;34m'designer as category, designer_id, designer'\u001b[0m\u001b[0;34m)\u001b[0m\u001b[0;34m\u001b[0m\u001b[0;34m\u001b[0m\u001b[0m\n\u001b[0m\u001b[1;32m      3\u001b[0m \u001b[0mbrowse_df\u001b[0m\u001b[0;34m.\u001b[0m\u001b[0mdropna\u001b[0m\u001b[0;34m(\u001b[0m\u001b[0maxis\u001b[0m\u001b[0;34m=\u001b[0m\u001b[0;36m0\u001b[0m\u001b[0;34m,\u001b[0m \u001b[0mhow\u001b[0m\u001b[0;34m=\u001b[0m \u001b[0;34m'any'\u001b[0m\u001b[0;34m,\u001b[0m\u001b[0minplace\u001b[0m\u001b[0;34m=\u001b[0m \u001b[0;32mTrue\u001b[0m\u001b[0;34m)\u001b[0m\u001b[0;34m\u001b[0m\u001b[0;34m\u001b[0m\u001b[0m\n\u001b[1;32m      4\u001b[0m \u001b[0;31m#browse_df.head()\u001b[0m\u001b[0;34m\u001b[0m\u001b[0;34m\u001b[0m\u001b[0;34m\u001b[0m\u001b[0m\n",
      "\u001b[0;31mNameError\u001b[0m: name 'query_browse' is not defined"
     ]
    }
   ],
   "source": [
    "category= 'designer'\n",
    "browse_df = query_browse('designer as category, designer_id, designer')\n",
    "browse_df.dropna(axis=0, how= 'any',inplace= True)\n",
    "#browse_df.head()"
   ]
  },
  {
   "cell_type": "code",
   "execution_count": 10,
   "metadata": {},
   "outputs": [
    {
     "data": {
      "text/html": [
       "<div>\n",
       "<style scoped>\n",
       "    .dataframe tbody tr th:only-of-type {\n",
       "        vertical-align: middle;\n",
       "    }\n",
       "\n",
       "    .dataframe tbody tr th {\n",
       "        vertical-align: top;\n",
       "    }\n",
       "\n",
       "    .dataframe thead th {\n",
       "        text-align: right;\n",
       "    }\n",
       "</style>\n",
       "<table border=\"1\" class=\"dataframe\">\n",
       "  <thead>\n",
       "    <tr style=\"text-align: right;\">\n",
       "      <th></th>\n",
       "      <th>cmd_id</th>\n",
       "      <th>category</th>\n",
       "      <th>designer_id</th>\n",
       "      <th>designer</th>\n",
       "    </tr>\n",
       "  </thead>\n",
       "  <tbody>\n",
       "    <tr>\n",
       "      <th>0</th>\n",
       "      <td>17EtLPS8</td>\n",
       "      <td>Parker</td>\n",
       "      <td>14069</td>\n",
       "      <td>Parker</td>\n",
       "    </tr>\n",
       "    <tr>\n",
       "      <th>1</th>\n",
       "      <td>uaAJGq0</td>\n",
       "      <td>Johnny Was</td>\n",
       "      <td>12751</td>\n",
       "      <td>Johnny Was</td>\n",
       "    </tr>\n",
       "    <tr>\n",
       "      <th>2</th>\n",
       "      <td>qVD9A2t</td>\n",
       "      <td>Lafayette 148 New York</td>\n",
       "      <td>12797</td>\n",
       "      <td>Lafayette 148 New York</td>\n",
       "    </tr>\n",
       "    <tr>\n",
       "      <th>3</th>\n",
       "      <td>ryYPgRF</td>\n",
       "      <td>Jay Godfrey</td>\n",
       "      <td>12645</td>\n",
       "      <td>Jay Godfrey</td>\n",
       "    </tr>\n",
       "    <tr>\n",
       "      <th>4</th>\n",
       "      <td>ytUWIo1</td>\n",
       "      <td>Bobbi Brown</td>\n",
       "      <td>10781</td>\n",
       "      <td>Bobbi Brown</td>\n",
       "    </tr>\n",
       "  </tbody>\n",
       "</table>\n",
       "</div>"
      ],
      "text/plain": [
       "     cmd_id                category designer_id                designer\n",
       "0  17EtLPS8                  Parker       14069                  Parker\n",
       "1   uaAJGq0              Johnny Was       12751              Johnny Was\n",
       "2   qVD9A2t  Lafayette 148 New York       12797  Lafayette 148 New York\n",
       "3   ryYPgRF             Jay Godfrey       12645             Jay Godfrey\n",
       "4   ytUWIo1             Bobbi Brown       10781             Bobbi Brown"
      ]
     },
     "execution_count": 10,
     "metadata": {},
     "output_type": "execute_result"
    }
   ],
   "source": [
    "trans_df = read_df_from_s3_parquet( 'ds/prod/ClientConnect/CMD/data/nm/trans_3y_history.csv.gz','nmg-analytics-ds-prod')\n",
    "trans_df = retrieve_trans(trans_df, ['designer','designer_id', 'designer'])\n",
    "trans_df.columns = ['cmd_id','category','designer_id', 'designer']\n",
    "# trans_df.head()"
   ]
  },
  {
   "cell_type": "code",
   "execution_count": 11,
   "metadata": {},
   "outputs": [],
   "source": [
    "trans_df = agg_category(browse_df, trans_df,'category')\n"
   ]
  },
  {
   "cell_type": "code",
   "execution_count": null,
   "metadata": {},
   "outputs": [],
   "source": [
    "dir_name = 'ds/prod/ClientConnect/CMD/data/nm/'\n",
    "save_df_to_s3_gz(trans_df, dir_name, 'cust_designer_rank.csv', bucket_nameX='nmg-analytics-ds-prod')\n"
   ]
  }
 ],
 "metadata": {
  "kernelspec": {
   "display_name": "conda_python3",
   "language": "python",
   "name": "conda_python3"
  },
  "language_info": {
   "codemirror_mode": {
    "name": "ipython",
    "version": 3
   },
   "file_extension": ".py",
   "mimetype": "text/x-python",
   "name": "python",
   "nbconvert_exporter": "python",
   "pygments_lexer": "ipython3",
   "version": "3.6.10"
  }
 },
 "nbformat": 4,
 "nbformat_minor": 4
}
