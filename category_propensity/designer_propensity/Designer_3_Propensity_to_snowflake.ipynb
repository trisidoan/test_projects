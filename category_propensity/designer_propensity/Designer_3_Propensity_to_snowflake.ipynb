{
 "cells": [
  {
   "cell_type": "markdown",
   "id": "distributed-policy",
   "metadata": {},
   "source": [
    "Last update: Feb 26, 2021"
   ]
  },
  {
   "cell_type": "code",
   "execution_count": 9,
   "id": "future-sweet",
   "metadata": {},
   "outputs": [],
   "source": [
    "# Loading libraries for S3 bucket connection\n",
    "\n",
    "import io\n",
    "import sys\n",
    "import numpy as np\n",
    "import pandas as pd\n",
    "\n",
    "#from datetime import date\n",
    "sys.path.append('/home/ec2-user/SageMaker/Category_propensity_recs/')\n",
    "#from io import StringIO\n",
    "from datetime import date"
   ]
  },
  {
   "cell_type": "code",
   "execution_count": 2,
   "id": "stretch-taiwan",
   "metadata": {},
   "outputs": [],
   "source": [
    "import csv\n",
    "import boto3\n",
    "\n",
    "client = boto3.client('s3') #low-level functional API\n",
    "resource = boto3.resource('s3') #high-level object-oriented API"
   ]
  },
  {
   "cell_type": "code",
   "execution_count": 3,
   "id": "cross-cinema",
   "metadata": {},
   "outputs": [],
   "source": [
    "#Code Parameters\n",
    "#brand = 'nm'\n",
    "#env = 'prod'"
   ]
  },
  {
   "cell_type": "code",
   "execution_count": 5,
   "id": "married-consolidation",
   "metadata": {},
   "outputs": [
    {
     "data": {
      "text/html": [
       "<div>\n",
       "<style scoped>\n",
       "    .dataframe tbody tr th:only-of-type {\n",
       "        vertical-align: middle;\n",
       "    }\n",
       "\n",
       "    .dataframe tbody tr th {\n",
       "        vertical-align: top;\n",
       "    }\n",
       "\n",
       "    .dataframe thead th {\n",
       "        text-align: right;\n",
       "    }\n",
       "</style>\n",
       "<table border=\"1\" class=\"dataframe\">\n",
       "  <thead>\n",
       "    <tr style=\"text-align: right;\">\n",
       "      <th></th>\n",
       "      <th>cmd_id</th>\n",
       "      <th>category</th>\n",
       "      <th>designer_id</th>\n",
       "      <th>designer</th>\n",
       "      <th>propensity_score</th>\n",
       "      <th>propensity_rank</th>\n",
       "      <th>next_best_rank</th>\n",
       "    </tr>\n",
       "  </thead>\n",
       "  <tbody>\n",
       "    <tr>\n",
       "      <th>0</th>\n",
       "      <td>002meRU</td>\n",
       "      <td>Mirella Cavorso</td>\n",
       "      <td>13649</td>\n",
       "      <td>Mirella Cavorso</td>\n",
       "      <td>20.393401</td>\n",
       "      <td>1</td>\n",
       "      <td>1.0</td>\n",
       "    </tr>\n",
       "    <tr>\n",
       "      <th>1</th>\n",
       "      <td>002meRU</td>\n",
       "      <td>Victorinox Swiss Army</td>\n",
       "      <td>15530</td>\n",
       "      <td>Victorinox Swiss Army</td>\n",
       "      <td>19.447053</td>\n",
       "      <td>2</td>\n",
       "      <td>2.0</td>\n",
       "    </tr>\n",
       "    <tr>\n",
       "      <th>2</th>\n",
       "      <td>002meRU</td>\n",
       "      <td>Lands Downunder</td>\n",
       "      <td>17744</td>\n",
       "      <td>Lands Downunder</td>\n",
       "      <td>18.715374</td>\n",
       "      <td>3</td>\n",
       "      <td>3.0</td>\n",
       "    </tr>\n",
       "    <tr>\n",
       "      <th>3</th>\n",
       "      <td>002meRU</td>\n",
       "      <td>Ray Griffiths</td>\n",
       "      <td>26071</td>\n",
       "      <td>Ray Griffiths</td>\n",
       "      <td>18.664388</td>\n",
       "      <td>4</td>\n",
       "      <td>4.0</td>\n",
       "    </tr>\n",
       "    <tr>\n",
       "      <th>4</th>\n",
       "      <td>002meRU</td>\n",
       "      <td>Dara Lamb Custom Clothing</td>\n",
       "      <td>11389</td>\n",
       "      <td>Dara Lamb Custom Clothing</td>\n",
       "      <td>18.530821</td>\n",
       "      <td>5</td>\n",
       "      <td>5.0</td>\n",
       "    </tr>\n",
       "  </tbody>\n",
       "</table>\n",
       "</div>"
      ],
      "text/plain": [
       "    cmd_id                   category designer_id                   designer  \\\n",
       "0  002meRU            Mirella Cavorso       13649            Mirella Cavorso   \n",
       "1  002meRU      Victorinox Swiss Army       15530      Victorinox Swiss Army   \n",
       "2  002meRU            Lands Downunder       17744            Lands Downunder   \n",
       "3  002meRU              Ray Griffiths       26071              Ray Griffiths   \n",
       "4  002meRU  Dara Lamb Custom Clothing       11389  Dara Lamb Custom Clothing   \n",
       "\n",
       "   propensity_score  propensity_rank  next_best_rank  \n",
       "0         20.393401                1             1.0  \n",
       "1         19.447053                2             2.0  \n",
       "2         18.715374                3             3.0  \n",
       "3         18.664388                4             4.0  \n",
       "4         18.530821                5             5.0  "
      ]
     },
     "execution_count": 5,
     "metadata": {},
     "output_type": "execute_result"
    }
   ],
   "source": [
    "import pyarrow.parquet as pq\n",
    "import s3fs\n",
    "s3 = s3fs.S3FileSystem()\n"
   ]
  },
  {
   "cell_type": "code",
   "execution_count": 10,
   "id": "direct-dispatch",
   "metadata": {},
   "outputs": [],
   "source": [
    "# Establishing snowflake and hive connections\n",
    "p = '/home/ec2-user/SageMaker/Repos/data-science'\n",
    "if p not in sys.path:\n",
    "    sys.path.append(p)\n",
    "    \n",
    "from nm_data_sci.common import ssm_cnx, s3_util, db_util\n",
    "sf_cnx = ssm_cnx.get_snowflake_connection()\n",
    "scur= sf_cnx.cursor()\n",
    "today = date.today()"
   ]
  },
  {
   "cell_type": "code",
   "execution_count": 11,
   "id": "silent-dealer",
   "metadata": {},
   "outputs": [],
   "source": [
    "def save_df_to_s3_gz(df_to_save,  dir_nameX, file_nameX, bucket_nameX='nmg-analytics-ds-prod'):\n",
    "    \"\"\"\n",
    "       dir_nameX  = 'ds/prod/brand_affinity/nm/output/'\n",
    "       file_nameX = 'designer_division_class_rank.csv'\n",
    "       save_df_to_s3_gz(df , dir_nameX, file_nameX )\n",
    "    \"\"\"\n",
    "    import gzip\n",
    "    from io import BytesIO, TextIOWrapper\n",
    "    \n",
    "    gz_buffer = BytesIO()\n",
    "\n",
    "    with gzip.GzipFile(mode='w', fileobj=gz_buffer) as gz_file:\n",
    "        df_to_save.to_csv(TextIOWrapper(gz_file, 'utf8'), index=False,header=True,sep=',')\n",
    "   \n",
    "    \n",
    "    s3_object = resource.Object(bucket_nameX, dir_nameX +file_nameX +'.gz')\n",
    "    s3_object.put(Body=gz_buffer.getvalue())    \n",
    " \n",
    "    return True\n"
   ]
  },
  {
   "cell_type": "code",
   "execution_count": 12,
   "id": "basic-declaration",
   "metadata": {},
   "outputs": [],
   "source": [
    "def upload_production(file_in_S3, table_name):\n",
    "    scur.execute(\"\"\"delete from  NMEDWPRD_DB.MLDM.{0}\"\"\".format(table_name))\n",
    "\n",
    "    scur.execute(\"\"\"copy into NMEDWPRD_DB.MLDM.{1}\n",
    "    from @NMEDWPRD_DB.PUBLIC.AWS_DS_PRD_STG/ds/prod/product_propensity/nm/output/{0} file_format = (type = csv field_delimiter = ',') on_error = 'CONTINUE' \"\"\".format(file_in_S3, table_name))\n",
    "    return True"
   ]
  },
  {
   "cell_type": "markdown",
   "id": "declared-adrian",
   "metadata": {},
   "source": [
    "### Designer"
   ]
  },
  {
   "cell_type": "code",
   "execution_count": 13,
   "id": "objective-shaft",
   "metadata": {
    "scrolled": true
   },
   "outputs": [],
   "source": [
    "final= pq.ParquetDataset('s3://nmg-analytics-ds-prod/ds/{0}/product_propensity/{1}/output/designer_propensity'.format(env,brand), filesystem=s3).read_pandas().to_pandas()\n",
    "final.columns = ['cmd_id','category','designer_id','designer','propensity_score','propensity_rank','next_best_rank']\n",
    "final.sort_values(['cmd_id','propensity_rank'], inplace= True)\n"
   ]
  },
  {
   "cell_type": "code",
   "execution_count": 14,
   "id": "eleven-mumbai",
   "metadata": {},
   "outputs": [],
   "source": [
    "ts_creation = pd.Timestamp(today)\n",
    "ts_creation = ts_creation.now()\n",
    "ts_update = ts_creation.now()\n",
    "\n",
    "final['RECORD_CREATION_DATETIME'] = ts_creation\n",
    "final['RECORD_UPDATED_DATETIME'] = ts_update"
   ]
  },
  {
   "cell_type": "code",
   "execution_count": 15,
   "id": "wrong-parker",
   "metadata": {},
   "outputs": [],
   "source": [
    "n = 10     # number of recommended items required by ALS\n",
    "extra = 5 # number of recommended if the first n items (n rows) purchased"
   ]
  },
  {
   "cell_type": "code",
   "execution_count": 16,
   "id": "elder-tractor",
   "metadata": {},
   "outputs": [],
   "source": [
    "extend_df= final.next_best_rank.isnull().groupby([final['cmd_id']]).sum().astype(int).reset_index(name='null_count')\n",
    "keep_list= list(extend_df[extend_df.null_count < n]['cmd_id'])\n"
   ]
  },
  {
   "cell_type": "code",
   "execution_count": 17,
   "id": "bright-manner",
   "metadata": {},
   "outputs": [],
   "source": [
    "final = final[(final['cmd_id'].isin(keep_list) & (final['propensity_rank'] <= n)) | ( np.logical_not(final['cmd_id'].isin(keep_list)) & (final['propensity_rank']<= n+ extra)) ]\n",
    "#final.head(500).to_csv(\"designer_propensity_T.csv\", index= False)"
   ]
  },
  {
   "cell_type": "code",
   "execution_count": 18,
   "id": "fifteen-constitutional",
   "metadata": {},
   "outputs": [
    {
     "data": {
      "text/plain": [
       "True"
      ]
     },
     "execution_count": 18,
     "metadata": {},
     "output_type": "execute_result"
    }
   ],
   "source": [
    "dir_nameX  = 'ds/prod/product_propensity/nm/output/'\n",
    "file_nameX = 'Designer_Propensity.csv'\n",
    "save_df_to_s3_gz(final,  dir_nameX, file_nameX, bucket_nameX='nmg-analytics-ds-prod')"
   ]
  },
  {
   "cell_type": "code",
   "execution_count": 20,
   "id": "congressional-engine",
   "metadata": {},
   "outputs": [
    {
     "data": {
      "text/plain": [
       "True"
      ]
     },
     "execution_count": 20,
     "metadata": {},
     "output_type": "execute_result"
    }
   ],
   "source": [
    "table_name = 'Designer_Propensity_T'\n",
    "file_in_S3 = 'Designer_Propensity.csv'\n",
    "upload_production(file_in_S3, table_name)"
   ]
  }
 ],
 "metadata": {
  "kernelspec": {
   "display_name": "conda_python3",
   "language": "python",
   "name": "conda_python3"
  },
  "language_info": {
   "codemirror_mode": {
    "name": "ipython",
    "version": 3
   },
   "file_extension": ".py",
   "mimetype": "text/x-python",
   "name": "python",
   "nbconvert_exporter": "python",
   "pygments_lexer": "ipython3",
   "version": "3.6.10"
  }
 },
 "nbformat": 4,
 "nbformat_minor": 5
}
