{
 "cells": [
  {
   "cell_type": "markdown",
   "metadata": {},
   "source": [
    " ## Designer Class Propensity Recommendation script     \n",
    "Last update: March 24,2021  \n",
    "Version 1.2   \n",
    "**Output format:**\n",
    "cmd_id | category | designer_id | designer | calss_id | class| propensity_score | propensity_rank | next_best_rank"
   ]
  },
  {
   "cell_type": "code",
   "execution_count": 1,
   "metadata": {},
   "outputs": [
    {
     "name": "stdout",
     "output_type": "stream",
     "text": [
      "Starting Spark application\n"
     ]
    },
    {
     "data": {
      "text/html": [
       "<table>\n",
       "<tr><th>ID</th><th>YARN Application ID</th><th>Kind</th><th>State</th><th>Spark UI</th><th>Driver log</th><th>User</th><th>Current session?</th></tr><tr><td>1309</td><td>application_1570493391423_69079</td><td>pyspark</td><td>idle</td><td><a target=\"_blank\" href=\"http://ip-172-21-40-211.analytics.neimanmarcuscloud.net:20888/proxy/application_1570493391423_69079/\">Link</a></td><td><a target=\"_blank\" href=\"http://ip-172-21-42-132.analytics.neimanmarcuscloud.net:8042/node/containerlogs/container_1570493391423_69079_01_000001/livy\">Link</a></td><td>None</td><td>✔</td></tr></table>"
      ],
      "text/plain": [
       "<IPython.core.display.HTML object>"
      ]
     },
     "metadata": {},
     "output_type": "display_data"
    },
    {
     "data": {
      "application/vnd.jupyter.widget-view+json": {
       "model_id": "",
       "version_major": 2,
       "version_minor": 0
      },
      "text/plain": [
       "FloatProgress(value=0.0, bar_style='info', description='Progress:', layout=Layout(height='25px', width='50%'),…"
      ]
     },
     "metadata": {},
     "output_type": "display_data"
    },
    {
     "name": "stdout",
     "output_type": "stream",
     "text": [
      "SparkSession available as 'spark'.\n"
     ]
    },
    {
     "data": {
      "application/vnd.jupyter.widget-view+json": {
       "model_id": "",
       "version_major": 2,
       "version_minor": 0
      },
      "text/plain": [
       "FloatProgress(value=0.0, bar_style='info', description='Progress:', layout=Layout(height='25px', width='50%'),…"
      ]
     },
     "metadata": {},
     "output_type": "display_data"
    }
   ],
   "source": [
    "from pyspark.sql import functions as F\n",
    "from pyspark.ml.tuning import CrossValidator, ParamGridBuilder, TrainValidationSplit\n",
    "from pyspark.ml.feature import StringIndexer\n",
    "from pyspark.ml.evaluation import RegressionEvaluator\n",
    "from pyspark.sql.types import StructType, StructField, IntegerType,FloatType, StringType\n",
    "from pyspark.sql.functions import col, rank,concat, concat_ws, monotonically_increasing_id\n",
    "from pyspark.ml.recommendation import ALS\n",
    "from pyspark.sql.functions import monotonically_increasing_id"
   ]
  },
  {
   "cell_type": "code",
   "execution_count": 2,
   "metadata": {},
   "outputs": [
    {
     "data": {
      "application/vnd.jupyter.widget-view+json": {
       "model_id": "",
       "version_major": 2,
       "version_minor": 0
      },
      "text/plain": [
       "FloatProgress(value=0.0, bar_style='info', description='Progress:', layout=Layout(height='25px', width='50%'),…"
      ]
     },
     "metadata": {},
     "output_type": "display_data"
    }
   ],
   "source": [
    "sc = spark.sparkContext\n",
    "sc.setCheckpointDir(\"s3://nmg-analytics-ds-prod/ds/dev/Users/nmdst400/checkpointdir\")"
   ]
  },
  {
   "cell_type": "code",
   "execution_count": 3,
   "metadata": {},
   "outputs": [
    {
     "data": {
      "application/vnd.jupyter.widget-view+json": {
       "model_id": "",
       "version_major": 2,
       "version_minor": 0
      },
      "text/plain": [
       "FloatProgress(value=0.0, bar_style='info', description='Progress:', layout=Layout(height='25px', width='50%'),…"
      ]
     },
     "metadata": {},
     "output_type": "display_data"
    }
   ],
   "source": [
    "#Code Parameters\n",
    "#brand = 'nm'\n",
    "#env = 'prod'\n",
    "#wbrand ='NM'"
   ]
  },
  {
   "cell_type": "code",
   "execution_count": 4,
   "metadata": {},
   "outputs": [
    {
     "data": {
      "application/vnd.jupyter.widget-view+json": {
       "model_id": "",
       "version_major": 2,
       "version_minor": 0
      },
      "text/plain": [
       "FloatProgress(value=0.0, bar_style='info', description='Progress:', layout=Layout(height='25px', width='50%'),…"
      ]
     },
     "metadata": {},
     "output_type": "display_data"
    },
    {
     "name": "stdout",
     "output_type": "stream",
     "text": [
      "+-------+--------------------+-----------+-----------------+--------+-----------+-----+\n",
      "| cmd_id|            category|designer_id|         designer|class_id|      class|score|\n",
      "+-------+--------------------+-----------+-----------------+--------+-----------+-----+\n",
      "|002vWGm|Bottega Veneta To...|      10811|   Bottega Veneta|      29| Top Handle|    3|\n",
      "|002vWGm|        Chanel Rings|      11078|           Chanel|      40|      Rings|    1|\n",
      "|002vWGm|Gianvito Rossi Sa...|      12104|   Gianvito Rossi|      54|    Sandals|    1|\n",
      "|002vWGm|Moussy Vintage Denim|      23717|   Moussy Vintage|       6|      Denim|    1|\n",
      "|002wpFg|        A.L.C. Dress|      10047|           A.L.C.|     124|      Dress|    5|\n",
      "|002wpFg|        A.L.C. Pants|      10047|           A.L.C.|       4|      Pants|    5|\n",
      "|002wpFg|  A.L.C. Shirts/Tops|      10047|           A.L.C.|       1|Shirts/Tops|    5|\n",
      "|002wpFg|       A.L.C. Skirts|      10047|           A.L.C.|       5|     Skirts|    1|\n",
      "|002wpFg|         Alaia Mules|      10156|            Alaia|      56|      Mules|    5|\n",
      "|002wpFg|       Alaia Sandals|      10156|            Alaia|      54|    Sandals|    1|\n",
      "|002wpFg|Alexander McQueen...|      10188|Alexander McQueen|      54|    Sandals|    1|\n",
      "|002wpFg|        Alexis Dress|      10200|           Alexis|     124|      Dress|    5|\n",
      "|002wpFg|Alice + Olivia Bo...|      10212|   Alice + Olivia|     107| Body Suits|    1|\n",
      "|002wpFg|Alice + Olivia Sh...|      10212|   Alice + Olivia|       1|Shirts/Tops|    3|\n",
      "|002wpFg|  Balmain Body Suits|      10558|          Balmain|     107| Body Suits|    5|\n",
      "|002wpFg|       Balmain Dress|      10558|          Balmain|     124|      Dress|    3|\n",
      "|002wpFg|      Balmain Skirts|      10558|          Balmain|       5|     Skirts|    5|\n",
      "|002wpFg|    Balmain Sneakers|      10558|          Balmain|      55|   Sneakers|    1|\n",
      "|002wpFg| Burberry Infant Boy|      10060|         Burberry|     826| Infant Boy|    1|\n",
      "|002wpFg|Burberry Infant Girl|      10060|         Burberry|     825|Infant Girl|    3|\n",
      "+-------+--------------------+-----------+-----------------+--------+-----------+-----+\n",
      "only showing top 20 rows"
     ]
    }
   ],
   "source": [
    "input_f='s3://nmg-analytics-ds-prod/ds/'+env+'/ClientConnect/CMD/data/'+brand+'/cust_designer_class_rank.csv.gz'\n",
    "df=spark.read.option(\"header\",\"true\").csv(input_f, sep=',')\n",
    "#df.show()"
   ]
  },
  {
   "cell_type": "code",
   "execution_count": 5,
   "metadata": {},
   "outputs": [
    {
     "data": {
      "application/vnd.jupyter.widget-view+json": {
       "model_id": "",
       "version_major": 2,
       "version_minor": 0
      },
      "text/plain": [
       "FloatProgress(value=0.0, bar_style='info', description='Progress:', layout=Layout(height='25px', width='50%'),…"
      ]
     },
     "metadata": {},
     "output_type": "display_data"
    }
   ],
   "source": [
    "df = df.withColumn('product', concat_ws('_','category','designer_id','designer','class_id','class'))\n"
   ]
  },
  {
   "cell_type": "code",
   "execution_count": 6,
   "metadata": {},
   "outputs": [
    {
     "data": {
      "application/vnd.jupyter.widget-view+json": {
       "model_id": "",
       "version_major": 2,
       "version_minor": 0
      },
      "text/plain": [
       "FloatProgress(value=0.0, bar_style='info', description='Progress:', layout=Layout(height='25px', width='50%'),…"
      ]
     },
     "metadata": {},
     "output_type": "display_data"
    }
   ],
   "source": [
    "indexer1 = StringIndexer(inputCol=\"cmd_id\", outputCol=\"userID\")\n",
    "df_staging = indexer1.fit(df).transform(df)"
   ]
  },
  {
   "cell_type": "code",
   "execution_count": 7,
   "metadata": {},
   "outputs": [
    {
     "data": {
      "application/vnd.jupyter.widget-view+json": {
       "model_id": "",
       "version_major": 2,
       "version_minor": 0
      },
      "text/plain": [
       "FloatProgress(value=0.0, bar_style='info', description='Progress:', layout=Layout(height='25px', width='50%'),…"
      ]
     },
     "metadata": {},
     "output_type": "display_data"
    }
   ],
   "source": [
    "indexer2 = StringIndexer(inputCol=\"product\", outputCol=\"catID\")\n",
    "df_staging = indexer2.fit(df_staging).transform(df_staging)\n",
    "df_1=df_staging.selectExpr('userID','catID','cast(score as double) score')\n",
    "(train_set, validation_set) = df_1.randomSplit([0.8, 0.2])"
   ]
  },
  {
   "cell_type": "markdown",
   "metadata": {},
   "source": [
    "### Search optimal model"
   ]
  },
  {
   "cell_type": "raw",
   "metadata": {},
   "source": [
    "def tune_ALS(train_data, validation_data, maxIter, regParams, ranks):\n",
    "    \"\"\"\n",
    "    grid search function to select the best model based on RMSE of\n",
    "    validation data\n",
    "\n",
    "    Parameters\n",
    "    ----------\n",
    "    train_data: spark DF with columns ['userId', 'productId', 'rating']\n",
    "    validation_data: spark DF with columns ['userId', 'productId', 'rating']\n",
    "    maxIter: int, max number of learning iterations\n",
    "    regParams: list of float, one dimension of hyper-param tuning grid\n",
    "    ranks: list of float, one dimension of hyper-param tuning grid\n",
    "    \n",
    "    Return\n",
    "    ------\n",
    "    The best fitted ALS model with lowest RMSE score on validation data\n",
    "    \"\"\"\n",
    "    # initial\n",
    "    \n",
    "    best_rank = -1\n",
    "    \n",
    "    best_regularization = 0\n",
    "    min_error = float('inf')\n",
    "    best_model = None\n",
    "    for rank in ranks:\n",
    "        for reg in regParams:\n",
    "            # get ALS model\n",
    "            als = ALS(userCol='userID', itemCol='catID', ratingCol='rating',implicitPrefs=False,coldStartStrategy=\"drop\").setMaxIter(maxIter).setRank(rank).setRegParam(reg)\n",
    "            # train ALS model\n",
    "            model = als.fit(train_data)\n",
    "            # evaluate the model by computing the RMSE on the validation data\n",
    "            predictions = model.transform(validation_data)\n",
    "            evaluator = RegressionEvaluator(metricName=\"rmse\",\n",
    "                                            labelCol=\"rating\",\n",
    "                                            predictionCol=\"prediction\")\n",
    "            rmse = evaluator.evaluate(predictions)\n",
    "            print('{} latent factors (rank) and regularization = {}: validation RMSE is {}'.format(rank, reg, rmse))\n",
    "            if rmse < min_error:\n",
    "                \n",
    "                min_error = rmse\n",
    "                \n",
    "                best_rank = rank\n",
    "                best_regularization = reg\n",
    "                best_model = model\n",
    "    print('\\nThe best model has {} latent factors and regularization = {}'.format(best_rank, best_regularization))\n",
    "    return best_model"
   ]
  },
  {
   "cell_type": "raw",
   "metadata": {},
   "source": [
    "maxIter = 10\n",
    "regParams = [0.05,0.1]  # The best model has 3.0 latent factors and regularization = 0.05\n",
    "ranks = [ 3.0, 5.0]\n",
    "best_model = tune_ALS(train_set, validation_set, maxIter, regParams, ranks)"
   ]
  },
  {
   "cell_type": "code",
   "execution_count": 8,
   "metadata": {},
   "outputs": [
    {
     "data": {
      "application/vnd.jupyter.widget-view+json": {
       "model_id": "",
       "version_major": 2,
       "version_minor": 0
      },
      "text/plain": [
       "FloatProgress(value=0.0, bar_style='info', description='Progress:', layout=Layout(height='25px', width='50%'),…"
      ]
     },
     "metadata": {},
     "output_type": "display_data"
    }
   ],
   "source": [
    "# Build the recommendation model using ALS on the training data\n",
    "als = ALS(maxIter=10, rank= 3, regParam=0.05, implicitPrefs=False,coldStartStrategy=\"drop\",\\\n",
    "          userCol='userID', itemCol='catID', ratingCol='score')\n",
    "\n",
    "model = als.fit(train_set)\n",
    "#predictions = model.transform(validation_set)\n",
    "\n",
    "#evaluator = RegressionEvaluator(metricName=\"mae\", labelCol=\"score\", predictionCol=\"prediction\")\n",
    "#mae = evaluator.evaluate(predictions)\n",
    "\n",
    "#print(\"Mean Absolute Error \", mae)"
   ]
  },
  {
   "cell_type": "markdown",
   "metadata": {},
   "source": [
    "## Create the Recommendations for all users"
   ]
  },
  {
   "cell_type": "code",
   "execution_count": 9,
   "metadata": {},
   "outputs": [
    {
     "data": {
      "application/vnd.jupyter.widget-view+json": {
       "model_id": "",
       "version_major": 2,
       "version_minor": 0
      },
      "text/plain": [
       "FloatProgress(value=0.0, bar_style='info', description='Progress:', layout=Layout(height='25px', width='50%'),…"
      ]
     },
     "metadata": {},
     "output_type": "display_data"
    },
    {
     "name": "stdout",
     "output_type": "stream",
     "text": [
      "root\n",
      " |-- userID: integer (nullable = false)\n",
      " |-- recommendations: array (nullable = true)\n",
      " |    |-- element: struct (containsNull = true)\n",
      " |    |    |-- catID: integer (nullable = true)\n",
      " |    |    |-- rating: float (nullable = true)"
     ]
    }
   ],
   "source": [
    "# Generate top 10 recommendations for each user\n",
    "userRecs = model.recommendForAllUsers(15)\n",
    "\n",
    "spark.conf.set(\"spark.sql.execution.arrow.enabled\", \"true\")\n",
    "userRecs.printSchema()"
   ]
  },
  {
   "cell_type": "code",
   "execution_count": 10,
   "metadata": {},
   "outputs": [
    {
     "data": {
      "application/vnd.jupyter.widget-view+json": {
       "model_id": "",
       "version_major": 2,
       "version_minor": 0
      },
      "text/plain": [
       "FloatProgress(value=0.0, bar_style='info', description='Progress:', layout=Layout(height='25px', width='50%'),…"
      ]
     },
     "metadata": {},
     "output_type": "display_data"
    }
   ],
   "source": [
    "userRecs_output=userRecs.select('userID',F.posexplode('recommendations')).select('userID','col.catID','pos','col.rating').checkpoint()"
   ]
  },
  {
   "cell_type": "code",
   "execution_count": 11,
   "metadata": {},
   "outputs": [
    {
     "data": {
      "application/vnd.jupyter.widget-view+json": {
       "model_id": "",
       "version_major": 2,
       "version_minor": 0
      },
      "text/plain": [
       "FloatProgress(value=0.0, bar_style='info', description='Progress:', layout=Layout(height='25px', width='50%'),…"
      ]
     },
     "metadata": {},
     "output_type": "display_data"
    }
   ],
   "source": [
    "userIndex=df_staging.selectExpr('cast(userID as int) userID','cmd_id').distinct()\n",
    "catIndex=df_staging.selectExpr('cast(catID as int) catID','product').distinct()\n",
    "recs_df = userRecs_output.join(catIndex,userRecs_output.catID==catIndex.catID).select('userID','product','pos','rating')\n"
   ]
  },
  {
   "cell_type": "code",
   "execution_count": 12,
   "metadata": {},
   "outputs": [
    {
     "data": {
      "application/vnd.jupyter.widget-view+json": {
       "model_id": "",
       "version_major": 2,
       "version_minor": 0
      },
      "text/plain": [
       "FloatProgress(value=0.0, bar_style='info', description='Progress:', layout=Layout(height='25px', width='50%'),…"
      ]
     },
     "metadata": {},
     "output_type": "display_data"
    }
   ],
   "source": [
    "recs_df = recs_df.join(userIndex,recs_df.userID==userIndex.userID).select('cmd_id','product','pos','rating')\n",
    "recs_df = recs_df.withColumnRenamed(\"pos\", \"propensity_rank\").withColumnRenamed(\"rating\",\"propensity_score\")\n",
    "recs_df = recs_df.withColumn(\"propensity_rank\",F.col(\"propensity_rank\")+1)\n"
   ]
  },
  {
   "cell_type": "markdown",
   "metadata": {},
   "source": [
    "The prediction scores returned by **ALS** with implicit feedbacks with Apache Spark aren't normalized to fit be between [0,1] or [see](https://stackoverflow.com/questions/46904078/spark-als-recommendation-system-have-value-prediction-greater-than-1). ALS uses stochastic gradient descent and approximations to compute (and re-compute) users and item factors on each step to minimize the cost function which allows it to scale.  \n",
    "As a matter of fact, normalizing those scores isn't relevant. The reason for this is actually that those scores doesn't mean much on their own. [refer](https://stackoverflow.com/questions/46462470/how-can-i-evaluate-the-implicit-feedback-als-algorithm-for-recommendations-in-ap/46490352#46490352)."
   ]
  },
  {
   "cell_type": "markdown",
   "metadata": {},
   "source": [
    "### Scaling into range 1-100"
   ]
  },
  {
   "cell_type": "code",
   "execution_count": 13,
   "metadata": {},
   "outputs": [
    {
     "data": {
      "application/vnd.jupyter.widget-view+json": {
       "model_id": "",
       "version_major": 2,
       "version_minor": 0
      },
      "text/plain": [
       "FloatProgress(value=0.0, bar_style='info', description='Progress:', layout=Layout(height='25px', width='50%'),…"
      ]
     },
     "metadata": {},
     "output_type": "display_data"
    }
   ],
   "source": [
    "max_recs, min_recs = recs_df.select(\"propensity_score\").rdd.max()[0], recs_df.select(\"propensity_score\").rdd.min()[0]\n",
    "recs_df= recs_df.withColumn(\"propensity_score\",(100-1)*(recs_df[\"propensity_score\"]- min_recs)/(max_recs-min_recs) + 1 )\n"
   ]
  },
  {
   "cell_type": "markdown",
   "metadata": {},
   "source": [
    "### Create new key column to join"
   ]
  },
  {
   "cell_type": "code",
   "execution_count": 14,
   "metadata": {},
   "outputs": [
    {
     "data": {
      "application/vnd.jupyter.widget-view+json": {
       "model_id": "",
       "version_major": 2,
       "version_minor": 0
      },
      "text/plain": [
       "FloatProgress(value=0.0, bar_style='info', description='Progress:', layout=Layout(height='25px', width='50%'),…"
      ]
     },
     "metadata": {},
     "output_type": "display_data"
    }
   ],
   "source": [
    "recs_df = recs_df.withColumn(\"id_product\",F.concat(col('cmd_id'), col('product')))\n"
   ]
  },
  {
   "cell_type": "markdown",
   "metadata": {},
   "source": [
    "\n",
    "### Load data recent  historical trans data (default= 30 days) "
   ]
  },
  {
   "cell_type": "code",
   "execution_count": 15,
   "metadata": {},
   "outputs": [
    {
     "data": {
      "application/vnd.jupyter.widget-view+json": {
       "model_id": "",
       "version_major": 2,
       "version_minor": 0
      },
      "text/plain": [
       "FloatProgress(value=0.0, bar_style='info', description='Progress:', layout=Layout(height='25px', width='50%'),…"
      ]
     },
     "metadata": {},
     "output_type": "display_data"
    }
   ],
   "source": [
    "input_dir='s3://nmg-analytics-ds-prod/ds/'+env+'/ClientConnect/CMD/data/'+brand+'/'\n",
    "f = input_dir+'recent_history.csv.gz'\n",
    "df_recent = spark.read.option(\"header\",\"True\").csv(f)"
   ]
  },
  {
   "cell_type": "code",
   "execution_count": 16,
   "metadata": {},
   "outputs": [
    {
     "data": {
      "application/vnd.jupyter.widget-view+json": {
       "model_id": "",
       "version_major": 2,
       "version_minor": 0
      },
      "text/plain": [
       "FloatProgress(value=0.0, bar_style='info', description='Progress:', layout=Layout(height='25px', width='50%'),…"
      ]
     },
     "metadata": {},
     "output_type": "display_data"
    }
   ],
   "source": [
    "df_recent = df_recent.withColumn('category',concat_ws('_','designer','class'))\n",
    "df_recent = df_recent.withColumn('product',concat_ws('_','category','designer_id','designer','class_id','class'))\n",
    "df_recent = df_recent.withColumn('id_product',F.concat(col('cmd_id'), F.col('product'))).select('cmd_id','product','id_product')\n"
   ]
  },
  {
   "cell_type": "code",
   "execution_count": 17,
   "metadata": {},
   "outputs": [
    {
     "data": {
      "application/vnd.jupyter.widget-view+json": {
       "model_id": "",
       "version_major": 2,
       "version_minor": 0
      },
      "text/plain": [
       "FloatProgress(value=0.0, bar_style='info', description='Progress:', layout=Layout(height='25px', width='50%'),…"
      ]
     },
     "metadata": {},
     "output_type": "display_data"
    }
   ],
   "source": [
    "# find cmd_id with category (in recommendation list) have not purchased before (in 3 year hist trans)\n",
    "df_recent = recs_df.join(df_recent ,recs_df.id_product == df_recent.id_product, \"leftanti\")\n",
    "df_recent = df_recent.selectExpr('cmd_id','product','propensity_score')\n",
    "#df_recent.show()"
   ]
  },
  {
   "cell_type": "code",
   "execution_count": 18,
   "metadata": {},
   "outputs": [
    {
     "data": {
      "application/vnd.jupyter.widget-view+json": {
       "model_id": "",
       "version_major": 2,
       "version_minor": 0
      },
      "text/plain": [
       "FloatProgress(value=0.0, bar_style='info', description='Progress:', layout=Layout(height='25px', width='50%'),…"
      ]
     },
     "metadata": {},
     "output_type": "display_data"
    }
   ],
   "source": [
    "# Re_order after merge\n",
    "df_recent = df_recent.orderBy(F.col(\"cmd_id\"),F.col(\"propensity_score\").desc())\n",
    "df_recent = df_recent.selectExpr(\"cmd_id\", \"product\",\"propensity_score\")\n"
   ]
  },
  {
   "cell_type": "code",
   "execution_count": 19,
   "metadata": {},
   "outputs": [
    {
     "data": {
      "application/vnd.jupyter.widget-view+json": {
       "model_id": "",
       "version_major": 2,
       "version_minor": 0
      },
      "text/plain": [
       "FloatProgress(value=0.0, bar_style='info', description='Progress:', layout=Layout(height='25px', width='50%'),…"
      ]
     },
     "metadata": {},
     "output_type": "display_data"
    }
   ],
   "source": [
    "from pyspark.sql.window import Window\n",
    "\n",
    "window = Window.partitionBy(df_recent['cmd_id']).orderBy(df_recent['propensity_score'].desc())\n",
    "df_recent = df_recent.select('*', F.row_number().over(window).alias('next_best_rank'))\n"
   ]
  },
  {
   "cell_type": "code",
   "execution_count": 20,
   "metadata": {},
   "outputs": [
    {
     "data": {
      "application/vnd.jupyter.widget-view+json": {
       "model_id": "",
       "version_major": 2,
       "version_minor": 0
      },
      "text/plain": [
       "FloatProgress(value=0.0, bar_style='info', description='Progress:', layout=Layout(height='25px', width='50%'),…"
      ]
     },
     "metadata": {},
     "output_type": "display_data"
    }
   ],
   "source": [
    "recs_df = recs_df.selectExpr('cmd_id','product','propensity_score','propensity_rank')\n",
    "recs_df = recs_df.join(df_recent.selectExpr('cmd_id','product','next_best_rank'),['cmd_id','product'],how='left')\n",
    "recs_df= recs_df.orderBy(F.col(\"cmd_id\"),F.col(\"propensity_score\").desc(),F.col(\"next_best_rank\"))\n"
   ]
  },
  {
   "cell_type": "code",
   "execution_count": 21,
   "metadata": {},
   "outputs": [
    {
     "data": {
      "application/vnd.jupyter.widget-view+json": {
       "model_id": "",
       "version_major": 2,
       "version_minor": 0
      },
      "text/plain": [
       "FloatProgress(value=0.0, bar_style='info', description='Progress:', layout=Layout(height='25px', width='50%'),…"
      ]
     },
     "metadata": {},
     "output_type": "display_data"
    }
   ],
   "source": [
    "df_recent = recs_df.select(F.split(recs_df.product,\"_\")).rdd.flatMap(\n",
    "              lambda x: x).toDF(schema=[\"col1\",\"col2\",\"col3\",\"col4\",\"col5\"])\n",
    "\n",
    "df_recent = df_recent.withColumn(\"id\", monotonically_increasing_id())\n"
   ]
  },
  {
   "cell_type": "code",
   "execution_count": 22,
   "metadata": {},
   "outputs": [
    {
     "data": {
      "application/vnd.jupyter.widget-view+json": {
       "model_id": "",
       "version_major": 2,
       "version_minor": 0
      },
      "text/plain": [
       "FloatProgress(value=0.0, bar_style='info', description='Progress:', layout=Layout(height='25px', width='50%'),…"
      ]
     },
     "metadata": {},
     "output_type": "display_data"
    }
   ],
   "source": [
    "recs_df = recs_df.withColumn(\"id\", monotonically_increasing_id())"
   ]
  },
  {
   "cell_type": "code",
   "execution_count": 23,
   "metadata": {},
   "outputs": [
    {
     "data": {
      "application/vnd.jupyter.widget-view+json": {
       "model_id": "",
       "version_major": 2,
       "version_minor": 0
      },
      "text/plain": [
       "FloatProgress(value=0.0, bar_style='info', description='Progress:', layout=Layout(height='25px', width='50%'),…"
      ]
     },
     "metadata": {},
     "output_type": "display_data"
    }
   ],
   "source": [
    "recs_df = recs_df.join(df_recent, df_recent.id== recs_df.id).drop(\"id\")\n",
    "recs_df = recs_df.withColumnRenamed('col1','category').withColumnRenamed('col2','designer_id').withColumnRenamed('col3','designer').withColumnRenamed('col4','class_id').withColumnRenamed('col5','class')\n",
    "recs_df = recs_df.orderBy(F.col(\"cmd_id\"),F.col(\"propensity_score\").desc(),F.col(\"next_best_rank\"))\n"
   ]
  },
  {
   "cell_type": "code",
   "execution_count": 24,
   "metadata": {
    "scrolled": true
   },
   "outputs": [
    {
     "data": {
      "application/vnd.jupyter.widget-view+json": {
       "model_id": "",
       "version_major": 2,
       "version_minor": 0
      },
      "text/plain": [
       "FloatProgress(value=0.0, bar_style='info', description='Progress:', layout=Layout(height='25px', width='50%'),…"
      ]
     },
     "metadata": {},
     "output_type": "display_data"
    },
    {
     "name": "stdout",
     "output_type": "stream",
     "text": [
      "+-------+--------------------+-----------+--------------------+--------+--------------------+------------------+---------------+--------------+\n",
      "| cmd_id|            category|designer_id|            designer|class_id|               class|  propensity_score|propensity_rank|next_best_rank|\n",
      "+-------+--------------------+-----------+--------------------+--------+--------------------+------------------+---------------+--------------+\n",
      "|002meRU|Jardinico Bar Too...|      25610|           Jardinico|     718|Bar Tools & Acces...| 37.12117248959791|              1|             1|\n",
      "|002meRU|Nation Design Par...|      13799|Nation Design Par...|     154|              Poncho| 36.81065178142544|              2|             2|\n",
      "|002meRU|         Kip&Co Sham|      25454|              Kip&Co|     697|                Sham| 35.27587217617349|              3|             3|\n",
      "|002meRU|Saint Laurent Charms|      11700|       Saint Laurent|     690|              Charms| 34.69431664736396|              4|             4|\n",
      "|002meRU|  Kisuii Shirts/Tops|      19856|              Kisuii|       1|         Shirts/Tops|34.679950768722314|              5|             5|\n",
      "|002meRU| Arteriors Serveware|      10431|           Arteriors|     657|           Serveware| 32.63146185854585|              6|             6|\n",
      "|002meRU| Todd Reed Necklaces|      15251|           Todd Reed|      37|           Necklaces|32.445755660913434|              7|             7|\n",
      "|002meRU|Private Stock Out...|      16697|       Private Stock|       9|           Outerwear| 32.30882514336447|              8|             8|\n",
      "|002meRU|    Turtle Mail Toys|      16624|         Turtle Mail|      48|                Toys| 32.19444884182259|              9|             9|\n",
      "|002meRU|Clergerie Paris B...|      14490|     Clergerie Paris|      61|             Booties|31.737193384213935|             10|            10|\n",
      "|002meRU|       Sabira Throws|      12756|              Sabira|     813|              Throws| 31.21286442903055|             11|            11|\n",
      "|002meRU|   n/nicholas Shorts|      13841|          n/nicholas|       8|              Shorts|31.179028835813792|             12|            12|\n",
      "|002meRU|Tomas Maier Outer...|      15264|         Tomas Maier|       9|           Outerwear|30.908068726284075|             13|            13|\n",
      "|002meRU|True Religion Jum...|      15330|       True Religion|     136|            Jumpsuit| 30.86143191847386|             14|            14|\n",
      "|002meRU|    Tags Shirts/Tops|      26826|                Tags|       1|         Shirts/Tops|30.679371622880065|             15|            15|\n",
      "|002v6hE|Jardinico Bar Too...|      25610|           Jardinico|     718|Bar Tools & Acces...|  34.3735156908203|              1|             1|\n",
      "|002v6hE|Thierry Mugler Me...|      11147|      Thierry Mugler|     320|          Men's Hair|28.120676291412217|              2|             2|\n",
      "|002v6hE|Eastland Made in ...|      11629|Eastland Made in ...|     864|              Loafer|26.617040544909397|              3|             3|\n",
      "|002v6hE|Tom & Teddy Shirt...|      26697|         Tom & Teddy|       1|         Shirts/Tops|26.269285955437336|              4|             4|\n",
      "|002v6hE|  Kisuii Shirts/Tops|      19856|              Kisuii|       1|         Shirts/Tops| 26.03735706298972|              5|             5|\n",
      "+-------+--------------------+-----------+--------------------+--------+--------------------+------------------+---------------+--------------+\n",
      "only showing top 20 rows"
     ]
    }
   ],
   "source": [
    "recs_df = recs_df.select('cmd_id','category','designer_id','designer','class_id','class','propensity_score','propensity_rank','next_best_rank')\n"
   ]
  },
  {
   "cell_type": "markdown",
   "metadata": {},
   "source": [
    "### Saving to S3"
   ]
  },
  {
   "cell_type": "raw",
   "metadata": {},
   "source": [
    "recs_df.coalesce(1).write.option(\"compression\",\"gzip\").csv('s3://nmg-analytics-ds-prod/ds/'+env+ '/product_propensity/'+brand+'/output/designer_class_propensity_rank',mode='overwrite')"
   ]
  },
  {
   "cell_type": "code",
   "execution_count": 25,
   "metadata": {},
   "outputs": [
    {
     "data": {
      "application/vnd.jupyter.widget-view+json": {
       "model_id": "",
       "version_major": 2,
       "version_minor": 0
      },
      "text/plain": [
       "FloatProgress(value=0.0, bar_style='info', description='Progress:', layout=Layout(height='25px', width='50%'),…"
      ]
     },
     "metadata": {},
     "output_type": "display_data"
    }
   ],
   "source": [
    "\n",
    "recs_df.write.parquet(\"s3a://nmg-analytics-ds-prod/ds/{0}/product_propensity/{1}/output/designer_class_propensity/\".format(env,brand),mode=\"overwrite\")"
   ]
  }
 ],
 "metadata": {
  "kernelspec": {
   "display_name": "conda_python3",
   "language": "python",
   "name": "conda_python3"
  },
  "language_info": {
   "codemirror_mode": {
    "name": "ipython",
    "version": 3
   },
   "file_extension": ".py",
   "mimetype": "text/x-python",
   "name": "python",
   "nbconvert_exporter": "python",
   "pygments_lexer": "ipython3",
   "version": "3.6.10"
  }
 },
 "nbformat": 4,
 "nbformat_minor": 2
}
