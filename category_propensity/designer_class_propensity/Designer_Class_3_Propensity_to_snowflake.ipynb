{
 "cells": [
  {
   "cell_type": "markdown",
   "id": "electric-norwegian",
   "metadata": {},
   "source": [
    "Last update: Feb 26, 2021"
   ]
  },
  {
   "cell_type": "code",
   "execution_count": 1,
   "id": "monetary-style",
   "metadata": {},
   "outputs": [],
   "source": [
    "# Loading libraries for S3 bucket connection\n",
    "\n",
    "import io\n",
    "import sys\n",
    "import boto3\n",
    "import numpy as np\n",
    "import pandas as pd\n",
    "from datetime import date\n",
    "sys.path.append('/home/ec2-user/SageMaker/Category_propensity_recs/')\n",
    "\n",
    "client = boto3.client('s3') \n",
    "resource = boto3.resource('s3')"
   ]
  },
  {
   "cell_type": "code",
   "execution_count": 2,
   "id": "duplicate-raise",
   "metadata": {},
   "outputs": [],
   "source": [
    "import pyarrow.parquet as pq\n",
    "import s3fs\n",
    "s3 = s3fs.S3FileSystem()"
   ]
  },
  {
   "cell_type": "code",
   "execution_count": 4,
   "id": "defensive-anger",
   "metadata": {},
   "outputs": [],
   "source": [
    "# Establishing snowflake and hive connections\n",
    "p = '/home/ec2-user/SageMaker/Repos/data-science'\n",
    "if p not in sys.path:\n",
    "    sys.path.append(p)\n",
    "    \n",
    "from nm_data_sci.common import ssm_cnx, s3_util, db_util\n",
    "sf_cnx = ssm_cnx.get_snowflake_connection()\n",
    "scur= sf_cnx.cursor()\n",
    "today = date.today()"
   ]
  },
  {
   "cell_type": "code",
   "execution_count": 5,
   "id": "suffering-basketball",
   "metadata": {},
   "outputs": [],
   "source": [
    "def save_df_to_s3_gz(df_to_save,  dir_nameX, file_nameX, bucket_nameX='nmg-analytics-ds-prod'):\n",
    "    \"\"\"\n",
    "       dir_nameX  = 'ds/prod/brand_affinity/nm/output/'\n",
    "       file_nameX = 'designer_division_class_rank.csv'\n",
    "       save_df_to_s3_gz(df , dir_nameX, file_nameX )\n",
    "    \"\"\"\n",
    "    import gzip\n",
    "    from io import BytesIO, TextIOWrapper\n",
    "    \n",
    "    gz_buffer = BytesIO()\n",
    "\n",
    "    with gzip.GzipFile(mode='w', fileobj=gz_buffer) as gz_file:\n",
    "        df_to_save.to_csv(TextIOWrapper(gz_file, 'utf8'), index=False,header=True,sep=',')\n",
    "   \n",
    "    \n",
    "    s3_object = resource.Object(bucket_nameX, dir_nameX +file_nameX +'.gz')\n",
    "    s3_object.put(Body=gz_buffer.getvalue())    \n",
    " \n",
    "    return True\n"
   ]
  },
  {
   "cell_type": "code",
   "execution_count": 6,
   "id": "satisfactory-settlement",
   "metadata": {},
   "outputs": [],
   "source": [
    "def upload_production(file_in_S3, table_name):\n",
    "    scur.execute(\"\"\"delete from  NMEDWPRD_DB.MLDM.{0}\"\"\".format(table_name))\n",
    "\n",
    "    scur.execute(\"\"\"copy into NMEDWPRD_DB.MLDM.{1}\n",
    "    from @NMEDWPRD_DB.PUBLIC.AWS_DS_PRD_STG/ds/prod/product_propensity/nm/output/{0} file_format = (type = csv field_delimiter = ',') on_error = 'CONTINUE' \"\"\".format(file_in_S3, table_name))\n",
    "    return True"
   ]
  },
  {
   "cell_type": "markdown",
   "id": "dirty-reset",
   "metadata": {},
   "source": [
    "### 5. Designer-class"
   ]
  },
  {
   "cell_type": "code",
   "execution_count": 7,
   "id": "black-scale",
   "metadata": {},
   "outputs": [],
   "source": [
    "#final= pd.read_csv('s3://nmg-analytics-ds-prod/ds/prod/product_propensity/nm/output/designer_class_propensity_rank/part-00000-ede9f03e-a067-43db-a688-0b955271f0c7-c000.csv.gz',header=None)\n",
    "final = pq.ParquetDataset('s3://nmg-analytics-ds-prod/ds/{0}/product_propensity/{1}/output/designer_class_propensity'.format(env,brand), filesystem=s3).read_pandas().to_pandas()\n",
    "final.columns = ['cmd_id','category','designer_id','designer','class_id','class','propensity_score','propensity_rank','next_best_rank']\n",
    "final.sort_values(['cmd_id','propensity_rank'], inplace= True)\n"
   ]
  },
  {
   "cell_type": "code",
   "execution_count": 8,
   "id": "standing-elizabeth",
   "metadata": {},
   "outputs": [],
   "source": [
    "ts_creation = pd.Timestamp(today)\n",
    "ts_creation = ts_creation.now()\n",
    "ts_update = ts_creation.now()\n",
    "\n",
    "final['RECORD_CREATION_DATETIME'] = ts_creation\n",
    "final['RECORD_UPDATED_DATETIME'] = ts_update"
   ]
  },
  {
   "cell_type": "code",
   "execution_count": 9,
   "id": "educated-freedom",
   "metadata": {},
   "outputs": [],
   "source": [
    "n = 10     # number of recommended items required by ALS\n",
    "extra = 5 # number of recommended if the first n items (n rows) purchased"
   ]
  },
  {
   "cell_type": "code",
   "execution_count": 10,
   "id": "noted-czech",
   "metadata": {},
   "outputs": [],
   "source": [
    "extend_df= final.next_best_rank.isnull().groupby([final['cmd_id']]).sum().astype(int).reset_index(name='null_count')\n",
    "keep_list= list(extend_df[extend_df.null_count < n]['cmd_id'])\n"
   ]
  },
  {
   "cell_type": "code",
   "execution_count": 11,
   "id": "committed-range",
   "metadata": {},
   "outputs": [],
   "source": [
    "final = final[(final['cmd_id'].isin(keep_list) & (final['propensity_rank'] <= n)) | ( np.logical_not(final['cmd_id'].isin(keep_list)) & (final['propensity_rank']<= n+ extra)) ]\n",
    "#final.head(500).to_csv(\"designer_class_propensity_T.csv\", index= False)"
   ]
  },
  {
   "cell_type": "code",
   "execution_count": 12,
   "id": "crude-tobacco",
   "metadata": {},
   "outputs": [
    {
     "data": {
      "text/plain": [
       "True"
      ]
     },
     "execution_count": 12,
     "metadata": {},
     "output_type": "execute_result"
    }
   ],
   "source": [
    "dir_nameX  = 'ds/prod/product_propensity/nm/output/'\n",
    "file_nameX = 'Designer_Class_Propensity.csv'\n",
    "save_df_to_s3_gz(final,  dir_nameX, file_nameX, bucket_nameX='nmg-analytics-ds-prod')"
   ]
  },
  {
   "cell_type": "code",
   "execution_count": 13,
   "id": "juvenile-pontiac",
   "metadata": {},
   "outputs": [
    {
     "data": {
      "text/plain": [
       "True"
      ]
     },
     "execution_count": 13,
     "metadata": {},
     "output_type": "execute_result"
    }
   ],
   "source": [
    "table_name = 'Designer_Class_Propensity_T'\n",
    "file_in_S3 = 'Designer_Class_Propensity.csv'\n",
    "upload_production(file_in_S3, table_name)"
   ]
  }
 ],
 "metadata": {
  "kernelspec": {
   "display_name": "conda_python3",
   "language": "python",
   "name": "conda_python3"
  },
  "language_info": {
   "codemirror_mode": {
    "name": "ipython",
    "version": 3
   },
   "file_extension": ".py",
   "mimetype": "text/x-python",
   "name": "python",
   "nbconvert_exporter": "python",
   "pygments_lexer": "ipython3",
   "version": "3.6.10"
  }
 },
 "nbformat": 4,
 "nbformat_minor": 5
}
