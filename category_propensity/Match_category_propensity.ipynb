{
 "cells": [
  {
   "cell_type": "markdown",
   "id": "integral-cable",
   "metadata": {},
   "source": [
    "**Purpose**: In category Propensity project we generates output cmd_id, category, item_id (e.g: class_id, designer_id,..), item_name (e.g class_name, designer,..), propensity_score, propensity_rank, next best_rank. This script simulates how to generate **next_best_rank** column where item have been purchased in the past 30 days will be tag by null and reorder again.   \n",
    "\n",
    "**Last update date:** March 3   \n",
    "    Using in Category Propensity recs as Class_Propensity_als"
   ]
  },
  {
   "cell_type": "code",
   "execution_count": 1,
   "id": "focal-intermediate",
   "metadata": {},
   "outputs": [
    {
     "name": "stdout",
     "output_type": "stream",
     "text": [
      "Starting Spark application\n"
     ]
    },
    {
     "data": {
      "text/html": [
       "<table>\n",
       "<tr><th>ID</th><th>YARN Application ID</th><th>Kind</th><th>State</th><th>Spark UI</th><th>Driver log</th><th>User</th><th>Current session?</th></tr><tr><td>1253</td><td>application_1570493391423_68134</td><td>pyspark</td><td>idle</td><td><a target=\"_blank\" href=\"http://ip-172-21-40-211.analytics.neimanmarcuscloud.net:20888/proxy/application_1570493391423_68134/\">Link</a></td><td><a target=\"_blank\" href=\"http://ip-172-21-42-132.analytics.neimanmarcuscloud.net:8042/node/containerlogs/container_1570493391423_68134_01_000001/livy\">Link</a></td><td>None</td><td>✔</td></tr></table>"
      ],
      "text/plain": [
       "<IPython.core.display.HTML object>"
      ]
     },
     "metadata": {},
     "output_type": "display_data"
    },
    {
     "data": {
      "application/vnd.jupyter.widget-view+json": {
       "model_id": "",
       "version_major": 2,
       "version_minor": 0
      },
      "text/plain": [
       "FloatProgress(value=0.0, bar_style='info', description='Progress:', layout=Layout(height='25px', width='50%'),…"
      ]
     },
     "metadata": {},
     "output_type": "display_data"
    },
    {
     "name": "stdout",
     "output_type": "stream",
     "text": [
      "SparkSession available as 'spark'.\n"
     ]
    },
    {
     "data": {
      "application/vnd.jupyter.widget-view+json": {
       "model_id": "",
       "version_major": 2,
       "version_minor": 0
      },
      "text/plain": [
       "FloatProgress(value=0.0, bar_style='info', description='Progress:', layout=Layout(height='25px', width='50%'),…"
      ]
     },
     "metadata": {},
     "output_type": "display_data"
    }
   ],
   "source": [
    "from pyspark.sql.types import StructType, StructField, IntegerType,FloatType, StringType\n",
    "from pyspark.sql import SparkSession\n",
    "from pyspark.sql import functions as F"
   ]
  },
  {
   "cell_type": "code",
   "execution_count": 2,
   "id": "computational-costume",
   "metadata": {},
   "outputs": [
    {
     "data": {
      "application/vnd.jupyter.widget-view+json": {
       "model_id": "",
       "version_major": 2,
       "version_minor": 0
      },
      "text/plain": [
       "FloatProgress(value=0.0, bar_style='info', description='Progress:', layout=Layout(height='25px', width='50%'),…"
      ]
     },
     "metadata": {},
     "output_type": "display_data"
    },
    {
     "name": "stdout",
     "output_type": "stream",
     "text": [
      "+--------+------------------+----------------+---------------+\n",
      "|  cmd_id|          category|propensity_score|propensity_rank|\n",
      "+--------+------------------+----------------+---------------+\n",
      "|1TBophvv|Sartoria Vestrucci|            27.4|              1|\n",
      "|1TBophvv|          AndAgain|            24.4|              2|\n",
      "|1TBophvv|               LBV|            18.6|              3|\n",
      "|1TBophvv|    Peggy Jennings|            15.8|              4|\n",
      "|1TBophvv|         Ceramiche|            10.2|              5|\n",
      "| 002meRU|             Lamer|            14.1|              1|\n",
      "| 002meRU|           Channel|            12.5|              2|\n",
      "| 002meRU|             Prada|            12.5|              3|\n",
      "| 002meRU|          TOM FORD|            12.1|              4|\n",
      "| 002meRU|         Ceramiche|            11.0|              5|\n",
      "| vPZ0vwh|       Shirts/Tops|            14.1|              1|\n",
      "| vPZ0vwh|           Jackets|            12.5|              2|\n",
      "| vPZ0vwh|             Pants|            12.5|              3|\n",
      "| vPZ0vwh|          Sneakers|            12.1|              4|\n",
      "| vPZ0vwh|             Pumps|            11.0|              5|\n",
      "+--------+------------------+----------------+---------------+"
     ]
    }
   ],
   "source": [
    "schema1 = StructType([StructField(\"cmd_id\", StringType(), True),\n",
    "                     StructField(\"category\", StringType(), True),\n",
    "                    StructField(\"propensity_score\", FloatType(), True),\n",
    "                    StructField(\"propensity_rank\", IntegerType(), True)])\n",
    "\n",
    "spark = SparkSession.builder.getOrCreate()\n",
    "\n",
    "recs_df = spark.createDataFrame([(\"1TBophvv\",\"Sartoria Vestrucci\",27.4,1),(\"1TBophvv\",\"AndAgain\",24.4,2),\n",
    "            (\"1TBophvv\",\"LBV\",18.6,3), (\"1TBophvv\",\"Peggy Jennings\",15.8,4),(\"1TBophvv\",\"Ceramiche\",10.2,5),\n",
    "            (\"002meRU\",\"Lamer\",14.1,1),(\"002meRU\",\"Channel\",12.5,2),(\"002meRU\",\"Prada\",12.5,3),\n",
    "              (\"002meRU\",\"TOM FORD\",12.1,4),(\"002meRU\",\"Ceramiche\",11.0,5),\n",
    "            \n",
    "            (\"vPZ0vwh\",\"Shirts/Tops\",14.1,1),\n",
    "            (\"vPZ0vwh\",\"Jackets\",12.5,2),(\"vPZ0vwh\",\"Pants\",12.5,3),\n",
    "              (\"vPZ0vwh\",\"Sneakers\",12.1,4),(\"vPZ0vwh\",\"Pumps\",11.0,5)\n",
    "                                \n",
    "                                ],schema1)\n",
    "recs_df.show()"
   ]
  },
  {
   "cell_type": "code",
   "execution_count": 3,
   "id": "handed-africa",
   "metadata": {},
   "outputs": [
    {
     "data": {
      "application/vnd.jupyter.widget-view+json": {
       "model_id": "",
       "version_major": 2,
       "version_minor": 0
      },
      "text/plain": [
       "FloatProgress(value=0.0, bar_style='info', description='Progress:', layout=Layout(height='25px', width='50%'),…"
      ]
     },
     "metadata": {},
     "output_type": "display_data"
    },
    {
     "name": "stdout",
     "output_type": "stream",
     "text": [
      "+--------+------------------+----------------+---------------+--------------------+\n",
      "|  cmd_id|          category|propensity_score|propensity_rank|         id_category|\n",
      "+--------+------------------+----------------+---------------+--------------------+\n",
      "|1TBophvv|Sartoria Vestrucci|            27.4|              1|1TBophvvSartoria ...|\n",
      "|1TBophvv|          AndAgain|            24.4|              2|    1TBophvvAndAgain|\n",
      "|1TBophvv|               LBV|            18.6|              3|         1TBophvvLBV|\n",
      "|1TBophvv|    Peggy Jennings|            15.8|              4|1TBophvvPeggy Jen...|\n",
      "|1TBophvv|         Ceramiche|            10.2|              5|   1TBophvvCeramiche|\n",
      "| 002meRU|             Lamer|            14.1|              1|        002meRULamer|\n",
      "| 002meRU|           Channel|            12.5|              2|      002meRUChannel|\n",
      "| 002meRU|             Prada|            12.5|              3|        002meRUPrada|\n",
      "| 002meRU|          TOM FORD|            12.1|              4|     002meRUTOM FORD|\n",
      "| 002meRU|         Ceramiche|            11.0|              5|    002meRUCeramiche|\n",
      "| vPZ0vwh|       Shirts/Tops|            14.1|              1|  vPZ0vwhShirts/Tops|\n",
      "| vPZ0vwh|           Jackets|            12.5|              2|      vPZ0vwhJackets|\n",
      "| vPZ0vwh|             Pants|            12.5|              3|        vPZ0vwhPants|\n",
      "| vPZ0vwh|          Sneakers|            12.1|              4|     vPZ0vwhSneakers|\n",
      "| vPZ0vwh|             Pumps|            11.0|              5|        vPZ0vwhPumps|\n",
      "+--------+------------------+----------------+---------------+--------------------+"
     ]
    }
   ],
   "source": [
    "recs_df= recs_df.withColumn(\"id_category\",F.concat(F.col('cmd_id'), F.col('category')))\n",
    "recs_df.show()"
   ]
  },
  {
   "cell_type": "code",
   "execution_count": 4,
   "id": "stopped-davis",
   "metadata": {},
   "outputs": [
    {
     "data": {
      "application/vnd.jupyter.widget-view+json": {
       "model_id": "",
       "version_major": 2,
       "version_minor": 0
      },
      "text/plain": [
       "FloatProgress(value=0.0, bar_style='info', description='Progress:', layout=Layout(height='25px', width='50%'),…"
      ]
     },
     "metadata": {},
     "output_type": "display_data"
    },
    {
     "name": "stdout",
     "output_type": "stream",
     "text": [
      "+--------+--------------+\n",
      "|  cmd_id|      category|\n",
      "+--------+--------------+\n",
      "|1TBophvv|           LBV|\n",
      "|1TBophvv|         LAMER|\n",
      "|1TBophvv|     LESYANEBO|\n",
      "|1TBophvv|           EEE|\n",
      "| 002meRU|         Lamer|\n",
      "| 002meRU|Peggy Jennings|\n",
      "| vPZ0vwh|         Denim|\n",
      "| vPZ0vwh|   Shirts/Tops|\n",
      "| vPZ0vwh|         Pants|\n",
      "+--------+--------------+"
     ]
    }
   ],
   "source": [
    "schema2 = StructType([StructField(\"cmd_id\", StringType(), True),\n",
    "                     StructField(\"category\", StringType(), True)])\n",
    "\n",
    "spark = SparkSession.builder.getOrCreate()\n",
    "\n",
    "df_recent = spark.createDataFrame([(\"1TBophvv\",\"LBV\"),(\"1TBophvv\",\"LAMER\"),(\"1TBophvv\",\"LESYANEBO\"),\n",
    "                             (\"1TBophvv\",\"EEE\"),(\"002meRU\",\"Lamer\"),(\"002meRU\",\"Peggy Jennings\"),\n",
    "                             (\"vPZ0vwh\",\"Denim\"),(\"vPZ0vwh\",\"Shirts/Tops\"),(\"vPZ0vwh\",\"Pants\")     \n",
    "                                  \n",
    "                                  ],schema2)\n",
    "df_recent.show()"
   ]
  },
  {
   "cell_type": "code",
   "execution_count": 5,
   "id": "injured-sleep",
   "metadata": {},
   "outputs": [
    {
     "data": {
      "application/vnd.jupyter.widget-view+json": {
       "model_id": "",
       "version_major": 2,
       "version_minor": 0
      },
      "text/plain": [
       "FloatProgress(value=0.0, bar_style='info', description='Progress:', layout=Layout(height='25px', width='50%'),…"
      ]
     },
     "metadata": {},
     "output_type": "display_data"
    },
    {
     "name": "stdout",
     "output_type": "stream",
     "text": [
      "+--------+--------------+--------------------+\n",
      "|  cmd_id|      category|         id_category|\n",
      "+--------+--------------+--------------------+\n",
      "|1TBophvv|           LBV|         1TBophvvLBV|\n",
      "|1TBophvv|         LAMER|       1TBophvvLAMER|\n",
      "|1TBophvv|     LESYANEBO|   1TBophvvLESYANEBO|\n",
      "|1TBophvv|           EEE|         1TBophvvEEE|\n",
      "| 002meRU|         Lamer|        002meRULamer|\n",
      "| 002meRU|Peggy Jennings|002meRUPeggy Jenn...|\n",
      "| vPZ0vwh|         Denim|        vPZ0vwhDenim|\n",
      "| vPZ0vwh|   Shirts/Tops|  vPZ0vwhShirts/Tops|\n",
      "| vPZ0vwh|         Pants|        vPZ0vwhPants|\n",
      "+--------+--------------+--------------------+"
     ]
    }
   ],
   "source": [
    "df_recent = df_recent.withColumn(\"id_category\",F.concat(F.col('cmd_id'), F.col('category')))\n",
    "df_recent.show()"
   ]
  },
  {
   "cell_type": "code",
   "execution_count": 6,
   "id": "statewide-closer",
   "metadata": {},
   "outputs": [
    {
     "data": {
      "application/vnd.jupyter.widget-view+json": {
       "model_id": "",
       "version_major": 2,
       "version_minor": 0
      },
      "text/plain": [
       "FloatProgress(value=0.0, bar_style='info', description='Progress:', layout=Layout(height='25px', width='50%'),…"
      ]
     },
     "metadata": {},
     "output_type": "display_data"
    },
    {
     "name": "stdout",
     "output_type": "stream",
     "text": [
      "+--------+------------------+----------------+\n",
      "|  cmd_id|          category|propensity_score|\n",
      "+--------+------------------+----------------+\n",
      "| 002meRU|           Channel|            12.5|\n",
      "| 002meRU|          TOM FORD|            12.1|\n",
      "|1TBophvv|Sartoria Vestrucci|            27.4|\n",
      "| 002meRU|         Ceramiche|            11.0|\n",
      "|1TBophvv|    Peggy Jennings|            15.8|\n",
      "|1TBophvv|          AndAgain|            24.4|\n",
      "| 002meRU|             Prada|            12.5|\n",
      "| vPZ0vwh|             Pumps|            11.0|\n",
      "|1TBophvv|         Ceramiche|            10.2|\n",
      "| vPZ0vwh|          Sneakers|            12.1|\n",
      "| vPZ0vwh|           Jackets|            12.5|\n",
      "+--------+------------------+----------------+"
     ]
    }
   ],
   "source": [
    "df_recent = recs_df.join(df_recent ,recs_df.id_category == df_recent.id_category, \"leftanti\")\n",
    "df_recent = df_recent.selectExpr('cmd_id','category','propensity_score')\n",
    "df_recent.show()"
   ]
  },
  {
   "cell_type": "code",
   "execution_count": 7,
   "id": "optional-personal",
   "metadata": {},
   "outputs": [
    {
     "data": {
      "application/vnd.jupyter.widget-view+json": {
       "model_id": "",
       "version_major": 2,
       "version_minor": 0
      },
      "text/plain": [
       "FloatProgress(value=0.0, bar_style='info', description='Progress:', layout=Layout(height='25px', width='50%'),…"
      ]
     },
     "metadata": {},
     "output_type": "display_data"
    },
    {
     "name": "stdout",
     "output_type": "stream",
     "text": [
      "+--------+------------------+----------------+\n",
      "|  cmd_id|          category|propensity_score|\n",
      "+--------+------------------+----------------+\n",
      "| 002meRU|             Prada|            12.5|\n",
      "| 002meRU|           Channel|            12.5|\n",
      "| 002meRU|          TOM FORD|            12.1|\n",
      "| 002meRU|         Ceramiche|            11.0|\n",
      "|1TBophvv|Sartoria Vestrucci|            27.4|\n",
      "|1TBophvv|          AndAgain|            24.4|\n",
      "|1TBophvv|    Peggy Jennings|            15.8|\n",
      "|1TBophvv|         Ceramiche|            10.2|\n",
      "| vPZ0vwh|           Jackets|            12.5|\n",
      "| vPZ0vwh|          Sneakers|            12.1|\n",
      "| vPZ0vwh|             Pumps|            11.0|\n",
      "+--------+------------------+----------------+"
     ]
    }
   ],
   "source": [
    "# Re_order after merge\n",
    "df_recent = df_recent.orderBy(F.col(\"cmd_id\"),F.col(\"propensity_score\").desc())\n",
    "df_recent = df_recent.selectExpr(\"cmd_id\", \"category\",\"propensity_score\")\n",
    "df_recent.show()"
   ]
  },
  {
   "cell_type": "code",
   "execution_count": 8,
   "id": "annoying-operator",
   "metadata": {},
   "outputs": [
    {
     "data": {
      "application/vnd.jupyter.widget-view+json": {
       "model_id": "",
       "version_major": 2,
       "version_minor": 0
      },
      "text/plain": [
       "FloatProgress(value=0.0, bar_style='info', description='Progress:', layout=Layout(height='25px', width='50%'),…"
      ]
     },
     "metadata": {},
     "output_type": "display_data"
    },
    {
     "name": "stdout",
     "output_type": "stream",
     "text": [
      "+--------+------------------+----------------+--------------+\n",
      "|  cmd_id|          category|propensity_score|next_best_rank|\n",
      "+--------+------------------+----------------+--------------+\n",
      "| vPZ0vwh|           Jackets|            12.5|             1|\n",
      "| vPZ0vwh|          Sneakers|            12.1|             2|\n",
      "| vPZ0vwh|             Pumps|            11.0|             3|\n",
      "|1TBophvv|Sartoria Vestrucci|            27.4|             1|\n",
      "|1TBophvv|          AndAgain|            24.4|             2|\n",
      "|1TBophvv|    Peggy Jennings|            15.8|             3|\n",
      "|1TBophvv|         Ceramiche|            10.2|             4|\n",
      "| 002meRU|           Channel|            12.5|             1|\n",
      "| 002meRU|             Prada|            12.5|             2|\n",
      "| 002meRU|          TOM FORD|            12.1|             3|\n",
      "| 002meRU|         Ceramiche|            11.0|             4|\n",
      "+--------+------------------+----------------+--------------+"
     ]
    }
   ],
   "source": [
    "from pyspark.sql.window import Window\n",
    "\n",
    "window = Window.partitionBy(df_recent['cmd_id']).orderBy(df_recent['propensity_score'].desc())\n",
    "df_recent = df_recent.select('*', F.row_number().over(window).alias('next_best_rank')) \n",
    "df_recent.show()"
   ]
  },
  {
   "cell_type": "code",
   "execution_count": 9,
   "id": "skilled-harvard",
   "metadata": {},
   "outputs": [
    {
     "data": {
      "application/vnd.jupyter.widget-view+json": {
       "model_id": "",
       "version_major": 2,
       "version_minor": 0
      },
      "text/plain": [
       "FloatProgress(value=0.0, bar_style='info', description='Progress:', layout=Layout(height='25px', width='50%'),…"
      ]
     },
     "metadata": {},
     "output_type": "display_data"
    },
    {
     "name": "stdout",
     "output_type": "stream",
     "text": [
      "+--------+------------------+----------------+---------------+--------------+\n",
      "|  cmd_id|          category|propensity_score|propensity_rank|next_best_rank|\n",
      "+--------+------------------+----------------+---------------+--------------+\n",
      "| 002meRU|           Channel|            12.5|              2|             1|\n",
      "| 002meRU|          TOM FORD|            12.1|              4|             3|\n",
      "|1TBophvv|    Peggy Jennings|            15.8|              4|             3|\n",
      "| 002meRU|             Lamer|            14.1|              1|          null|\n",
      "|1TBophvv|               LBV|            18.6|              3|          null|\n",
      "| vPZ0vwh|          Sneakers|            12.1|              4|             2|\n",
      "| vPZ0vwh|       Shirts/Tops|            14.1|              1|          null|\n",
      "| vPZ0vwh|           Jackets|            12.5|              2|             1|\n",
      "|1TBophvv|         Ceramiche|            10.2|              5|             4|\n",
      "| 002meRU|         Ceramiche|            11.0|              5|             4|\n",
      "| 002meRU|             Prada|            12.5|              3|             2|\n",
      "| vPZ0vwh|             Pants|            12.5|              3|          null|\n",
      "|1TBophvv|Sartoria Vestrucci|            27.4|              1|             1|\n",
      "|1TBophvv|          AndAgain|            24.4|              2|             2|\n",
      "| vPZ0vwh|             Pumps|            11.0|              5|             3|\n",
      "+--------+------------------+----------------+---------------+--------------+"
     ]
    }
   ],
   "source": [
    "recs_df = recs_df.selectExpr('cmd_id','category','propensity_score','propensity_rank')\n",
    "recs_df =recs_df.join(df_recent.selectExpr('cmd_id','category','next_best_rank'),['cmd_id','category'],how='left')\n",
    "recs_df.show()"
   ]
  },
  {
   "cell_type": "code",
   "execution_count": 10,
   "id": "searching-visibility",
   "metadata": {},
   "outputs": [
    {
     "data": {
      "application/vnd.jupyter.widget-view+json": {
       "model_id": "",
       "version_major": 2,
       "version_minor": 0
      },
      "text/plain": [
       "FloatProgress(value=0.0, bar_style='info', description='Progress:', layout=Layout(height='25px', width='50%'),…"
      ]
     },
     "metadata": {},
     "output_type": "display_data"
    },
    {
     "name": "stdout",
     "output_type": "stream",
     "text": [
      "+--------+------------------+----------------+---------------+--------------+\n",
      "|  cmd_id|          category|propensity_score|propensity_rank|next_best_rank|\n",
      "+--------+------------------+----------------+---------------+--------------+\n",
      "| 002meRU|             Lamer|            14.1|              1|          null|\n",
      "| 002meRU|           Channel|            12.5|              2|             1|\n",
      "| 002meRU|             Prada|            12.5|              3|             2|\n",
      "| 002meRU|          TOM FORD|            12.1|              4|             3|\n",
      "| 002meRU|         Ceramiche|            11.0|              5|             4|\n",
      "|1TBophvv|Sartoria Vestrucci|            27.4|              1|             1|\n",
      "|1TBophvv|          AndAgain|            24.4|              2|             2|\n",
      "|1TBophvv|               LBV|            18.6|              3|          null|\n",
      "|1TBophvv|    Peggy Jennings|            15.8|              4|             3|\n",
      "|1TBophvv|         Ceramiche|            10.2|              5|             4|\n",
      "| vPZ0vwh|       Shirts/Tops|            14.1|              1|          null|\n",
      "| vPZ0vwh|             Pants|            12.5|              3|          null|\n",
      "| vPZ0vwh|           Jackets|            12.5|              2|             1|\n",
      "| vPZ0vwh|          Sneakers|            12.1|              4|             2|\n",
      "| vPZ0vwh|             Pumps|            11.0|              5|             3|\n",
      "+--------+------------------+----------------+---------------+--------------+"
     ]
    }
   ],
   "source": [
    "recs_df= recs_df.orderBy(F.col(\"cmd_id\"),F.col(\"propensity_score\").desc(),F.col(\"next_best_rank\"))\n",
    "recs_df.show()\n"
   ]
  },
  {
   "cell_type": "code",
   "execution_count": null,
   "id": "dressed-community",
   "metadata": {},
   "outputs": [],
   "source": []
  }
 ],
 "metadata": {
  "kernelspec": {
   "display_name": "Sparkmagic (PySpark)",
   "language": "python",
   "name": "pysparkkernel"
  },
  "language_info": {
   "codemirror_mode": {
    "name": "python",
    "version": 3
   },
   "file_extension": ".py",
   "mimetype": "text/x-python",
   "name": "pyspark",
   "pygments_lexer": "python3"
  }
 },
 "nbformat": 4,
 "nbformat_minor": 5
}
